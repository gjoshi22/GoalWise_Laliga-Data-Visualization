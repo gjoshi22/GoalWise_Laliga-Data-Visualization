{
 "cells": [
  {
   "cell_type": "code",
   "execution_count": null,
   "id": "1e85101a",
   "metadata": {},
   "outputs": [],
   "source": [
    "# index.py\n",
    "from dash import Dash, html, dcc, callback, Input, Output\n",
    "from app import app\n",
    "import page_2020_21  # Import your page modules\n",
    "import page_2021_22\n",
    "import page_2022_23\n",
    "import page_2023_24\n",
    "\n",
    "app.layout = html.Div([\n",
    "    dcc.Location(id='url', refresh=False),\n",
    "    html.Div(id='page-content')\n",
    "])\n",
    "\n",
    "@app.callback(Output('page-content', 'children'),\n",
    "              [Input('url', 'pathname')])\n",
    "def display_page(pathname):\n",
    "    if pathname == '/2020-21':\n",
    "        return page_2020_21.layout\n",
    "    elif pathname == '/2021-22':\n",
    "        return page_2021_22.layout\n",
    "    # ... similarly for other pages\n",
    "    else:\n",
    "        return '404'  # or return your front page layout\n",
    "\n",
    "if __name__ == '__main__':\n",
    "    app.run_server(debug=True)\n"
   ]
  }
 ],
 "metadata": {
  "kernelspec": {
   "display_name": "Python 3 (ipykernel)",
   "language": "python",
   "name": "python3"
  },
  "language_info": {
   "codemirror_mode": {
    "name": "ipython",
    "version": 3
   },
   "file_extension": ".py",
   "mimetype": "text/x-python",
   "name": "python",
   "nbconvert_exporter": "python",
   "pygments_lexer": "ipython3",
   "version": "3.11.4"
  }
 },
 "nbformat": 4,
 "nbformat_minor": 5
}
