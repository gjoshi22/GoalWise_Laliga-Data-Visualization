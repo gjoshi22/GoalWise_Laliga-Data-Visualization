{
 "cells": [
  {
   "cell_type": "code",
   "execution_count": 1,
   "id": "84fdcfae",
   "metadata": {},
   "outputs": [],
   "source": [
    "import requests\n",
    "from bs4 import BeautifulSoup\n",
    "import pandas as pd\n",
    "\n",
    "headers = {'User-Agent': 'Mozilla/5.0 (X11; Linux x86_64) AppleWebKit/537.36 (KHTML, like Gecko) Chrome/47.0.2526.106 Safari/537.36'}\n",
    "teams_positions = {}\n",
    "teams_points = {}\n",
    "for i in range(1,13):\n",
    "\n",
    "    page = \"https://www.transfermarkt.us/laliga/spieltag/wettbewerb/ES1/plus/?saison_id=2023&spieltag=\"+str(i)\n",
    "    pageTree = requests.get(page, headers=headers)\n",
    "    pageSoup = BeautifulSoup(pageTree.content, 'html.parser')\n",
    "\n",
    "    pageSoup\n",
    "\n",
    "    # Find the table body\n",
    "    table_body = pageSoup.find_all('tbody')\n",
    "    \n",
    "\n",
    "    # Iterate over each row in the table body\n",
    "    \n",
    "    position = 1\n",
    "    for row in table_body[12].find_all('tr'):\n",
    "\n",
    "\n",
    "        team_name = row.find('td', {'class': 'no-border-links hauptlink'}).a.text\n",
    "        #position = row.find('td', {'class': 'rechts hauptlink'}).text\n",
    "        points = row.find_all('td', {'class': 'zentriert'})[-1].text\n",
    "        if team_name not in teams_positions:\n",
    "            teams_positions[team_name] = []\n",
    "        if team_name not in teams_points:\n",
    "            teams_points[team_name] = []\n",
    "        teams_positions[team_name].append(int(position))\n",
    "        teams_points[team_name].append(int(points))\n",
    "        position += 1\n"
   ]
  },
  {
   "cell_type": "code",
   "execution_count": 2,
   "id": "0a9de60a",
   "metadata": {},
   "outputs": [
    {
     "name": "stdout",
     "output_type": "stream",
     "text": [
      "12\n",
      "12\n",
      "12\n",
      "12\n",
      "12\n",
      "12\n",
      "12\n",
      "12\n",
      "12\n",
      "12\n",
      "12\n",
      "12\n",
      "12\n",
      "12\n",
      "12\n",
      "12\n",
      "12\n",
      "12\n",
      "12\n",
      "12\n"
     ]
    }
   ],
   "source": [
    "for j in teams_positions:\n",
    "    print(len(teams_positions[j]))"
   ]
  },
  {
   "cell_type": "code",
   "execution_count": 3,
   "id": "b1402c7c",
   "metadata": {},
   "outputs": [
    {
     "name": "stdout",
     "output_type": "stream",
     "text": [
      "12\n",
      "12\n",
      "12\n",
      "12\n",
      "12\n",
      "12\n",
      "12\n",
      "12\n",
      "12\n",
      "12\n",
      "12\n",
      "12\n",
      "12\n",
      "12\n",
      "12\n",
      "12\n",
      "12\n",
      "12\n",
      "12\n",
      "12\n"
     ]
    }
   ],
   "source": [
    "for k in teams_points:\n",
    "    print(len(teams_points[k]))"
   ]
  },
  {
   "cell_type": "code",
   "execution_count": 4,
   "id": "59a74224",
   "metadata": {},
   "outputs": [],
   "source": [
    "import pandas as pd\n",
    "\n",
    "\n",
    "# Create a DataFrame from the dictionary\n",
    "df1 = pd.DataFrame(list(teams_positions.items()), columns=['Team Name', 'Positions'])\n",
    "df2 = pd.DataFrame(list(teams_points.items()), columns=['Team Name', 'Points'])\n"
   ]
  },
  {
   "cell_type": "code",
   "execution_count": 5,
   "id": "abbe03fd",
   "metadata": {},
   "outputs": [],
   "source": [
    "df1.to_csv('2023standings(38).csv')\n",
    "df2.to_csv('2023points(38).csv')"
   ]
  },
  {
   "cell_type": "markdown",
   "id": "109a64ce",
   "metadata": {},
   "source": [
    "<hr>\n",
    "<hr>"
   ]
  },
  {
   "cell_type": "code",
   "execution_count": 119,
   "id": "26f6ecf4",
   "metadata": {},
   "outputs": [],
   "source": [
    "import requests\n",
    "from bs4 import BeautifulSoup\n",
    "import pandas as pd\n",
    "\n",
    "headers = {'User-Agent': 'Mozilla/5.0 (X11; Linux x86_64) AppleWebKit/537.36 (KHTML, like Gecko) Chrome/47.0.2526.106 Safari/537.36'}\n",
    "teams_stats = {}\n",
    "\n",
    "\n",
    "page1 = \"https://www.sportsmole.co.uk/football/la-liga/2023-24/best-defence.html\"\n",
    "pageTree1 = requests.get(page1, headers=headers)\n",
    "pageSoup1 = BeautifulSoup(pageTree1.content, 'html.parser')\n",
    "\n",
    "# Iterate over each row in the table body\n",
    "\n",
    "# Find the table body\n",
    "table_body1 = pageSoup1.find('table', {'class': 'leaguetable full'})\n",
    "\n",
    "page2 = \"https://www.sportsmole.co.uk/football/la-liga/2023-24/best-attack.html\"\n",
    "pageTree2 = requests.get(page2, headers=headers)\n",
    "pageSoup2 = BeautifulSoup(pageTree2.content, 'html.parser')\n",
    "\n",
    "# Iterate over each row in the table body\n",
    "\n",
    "# Find the table body\n",
    "table_body2 = pageSoup2.find('table', {'class': 'leaguetable full'})\n",
    "\n",
    "page3 = \"https://www.sportsmole.co.uk/football/la-liga/2020-21/form-guide.html\"\n",
    "pageTree3 = requests.get(page3, headers=headers)\n",
    "pageSoup3 = BeautifulSoup(pageTree3.content, 'html.parser')\n",
    "\n",
    "# Iterate over each row in the table body\n",
    "\n",
    "# Find the table body\n",
    "table_body3 = pageSoup3.find('table', {'class': 'leaguetable full'})\n",
    "\n",
    "\n"
   ]
  },
  {
   "cell_type": "code",
   "execution_count": 120,
   "id": "471bec1f",
   "metadata": {},
   "outputs": [],
   "source": [
    "for row in table_body1.find_all('tr'):\n",
    "    name = row.find('td', {'class': 'bdteamtd'}).text\n",
    "    rate = row.find('td', {'class': 'bdpositiontd'}).text\n",
    "    #print(name, rate)\n",
    "    if name not in teams_stats:\n",
    "        teams_stats[name] = []\n",
    "    teams_stats[name].append(rate)\n",
    "    \n",
    "for row2 in table_body2.find_all('tr'):\n",
    "    name2 = row2.find('td', {'class': 'bdteamtd'}).text\n",
    "    rate2 = row2.find('td', {'class': 'bdpositiontd'}).text\n",
    "    #print(name, rate)\n",
    "    if name2 not in teams_stats:\n",
    "        teams_stats[name2] = []\n",
    "    teams_stats[name2].append(rate2)\n",
    "    \n"
   ]
  },
  {
   "cell_type": "code",
   "execution_count": 121,
   "id": "fff4b163",
   "metadata": {},
   "outputs": [
    {
     "data": {
      "text/plain": [
       "{'Team': ['', ''],\n",
       " 'Real Madrid': ['1', '2'],\n",
       " 'Las Palmas': ['2', '18'],\n",
       " 'Atletico Madrid': ['3', '4'],\n",
       " 'Barcelona': ['4', '5'],\n",
       " 'Real Betis': ['5', '10'],\n",
       " 'Athletic Bilbao': ['6', '3'],\n",
       " 'Girona': ['7', '1'],\n",
       " 'Real Sociedad': ['8', '6'],\n",
       " 'Alaves': ['9', '17'],\n",
       " 'Getafe': ['10', '11'],\n",
       " 'Mallorca': ['11', '19'],\n",
       " 'Valencia': ['12', '13'],\n",
       " 'Sevilla': ['13', '8'],\n",
       " 'Cadiz': ['14', '20'],\n",
       " 'Rayo Vallecano': ['15', '15'],\n",
       " 'Celta Vigo': ['16', '16'],\n",
       " 'Osasuna': ['17', '12'],\n",
       " 'Villarreal': ['18', '7'],\n",
       " 'Granada': ['19', '9'],\n",
       " 'Almeria': ['20', '14']}"
      ]
     },
     "execution_count": 121,
     "metadata": {},
     "output_type": "execute_result"
    }
   ],
   "source": [
    "teams_stats"
   ]
  },
  {
   "cell_type": "code",
   "execution_count": 122,
   "id": "01625e01",
   "metadata": {
    "scrolled": true
   },
   "outputs": [
    {
     "data": {
      "text/plain": [
       "{'Real Madrid': [1, 2],\n",
       " 'Las Palmas': [2, 18],\n",
       " 'Atletico Madrid': [3, 4],\n",
       " 'Barcelona': [4, 5],\n",
       " 'Real Betis': [5, 10],\n",
       " 'Athletic Bilbao': [6, 3],\n",
       " 'Girona': [7, 1],\n",
       " 'Real Sociedad': [8, 6],\n",
       " 'Alaves': [9, 17],\n",
       " 'Getafe': [10, 11],\n",
       " 'Mallorca': [11, 19],\n",
       " 'Valencia': [12, 13],\n",
       " 'Sevilla': [13, 8],\n",
       " 'Cadiz': [14, 20],\n",
       " 'Rayo Vallecano': [15, 15],\n",
       " 'Celta Vigo': [16, 16],\n",
       " 'Osasuna': [17, 12],\n",
       " 'Villarreal': [18, 7],\n",
       " 'Granada': [19, 9],\n",
       " 'Almeria': [20, 14]}"
      ]
     },
     "execution_count": 122,
     "metadata": {},
     "output_type": "execute_result"
    }
   ],
   "source": [
    "teams_stats.pop('Team', None)\n",
    "# Converting string numbers to integers\n",
    "for team in teams_stats:\n",
    "    teams_stats[team] = [int(num) for num in teams_stats[team]]\n",
    "\n",
    "teams_stats"
   ]
  }
 ],
 "metadata": {
  "kernelspec": {
   "display_name": "Python 3 (ipykernel)",
   "language": "python",
   "name": "python3"
  },
  "language_info": {
   "codemirror_mode": {
    "name": "ipython",
    "version": 3
   },
   "file_extension": ".py",
   "mimetype": "text/x-python",
   "name": "python",
   "nbconvert_exporter": "python",
   "pygments_lexer": "ipython3",
   "version": "3.9.12"
  }
 },
 "nbformat": 4,
 "nbformat_minor": 5
}
