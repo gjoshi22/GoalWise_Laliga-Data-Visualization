{
 "cells": [
  {
   "cell_type": "code",
   "execution_count": 22,
   "id": "d18f15c7",
   "metadata": {},
   "outputs": [
    {
     "name": "stdout",
     "output_type": "stream",
     "text": [
      "Dash is running on http://127.0.0.1:8045/\n",
      "\n",
      " * Serving Flask app '__main__'\n",
      " * Debug mode: on\n"
     ]
    }
   ],
   "source": [
    "from dash import Dash, html, dcc\n",
    "\n",
    "app = Dash(__name__)\n",
    "\n",
    "app.layout = html.Div(style={'background-image': 'linear-gradient(to right, lightblue , darkblue)',  # Gradient background\n",
    "                             'height': '100vh',  # Full height\n",
    "                             'textAlign': 'center'},  # Center align text\n",
    "                  children=[\n",
    "                      html.H1('Welcome to Goalwise: Insight into the past 4 seasons of the premier soccer league in Spain',\n",
    "                              style={'color': 'white', 'paddingTop': '50px', 'fontFamily': 'Arial, Helvetica, sans-serif'}),  # Title styling\n",
    "                      \n",
    "                      # Container for buttons\n",
    "                      html.Div(\n",
    "                          [\n",
    "                              html.Div(dcc.Link('2020-2021 Season', href='/2020_statistics', className='button'), style={'padding': '15px', 'fontFamily': 'Arial, Helvetica, sans-serif'}),\n",
    "                              html.Div(dcc.Link('2021-2022 Season', href='/2021-22', className='button'), style={'padding': '15px', 'fontFamily': 'Arial, Helvetica, sans-serif'}),\n",
    "                              html.Div(dcc.Link('2022-2023 Season', href='/2022-23', className='button'), style={'padding': '15px', 'fontFamily': 'Arial, Helvetica, sans-serif'}),\n",
    "                              html.Div(dcc.Link('2023-2024 Season', href='/2023-24', className='button'), style={'padding': '15px', 'fontFamily': 'Arial, Helvetica, sans-serif'}),\n",
    "                          ],\n",
    "                          style={\n",
    "                              'marginTop': '250px', \n",
    "                              'display': 'inline-block', \n",
    "                              'background-color': '#fff',  # Background color of the rectangle\n",
    "                              'border-radius': '15px',  # Smooth edges\n",
    "                              'box-shadow': '0px 0px 10px rgba(0, 0, 0, 0.1)',  # Optional shadow for effect\n",
    "                              'padding': '20px'\n",
    "                          }\n",
    "                      )\n",
    "                  ])\n",
    "\n",
    "# # Additional CSS to style the buttons\n",
    "# app.css.append_css({\n",
    "#     'external_url': 'https://codepen.io/chriddyp/pen/bWLwgP.css'  # Using Dash's default stylesheet for simplicity\n",
    "# })\n",
    "\n",
    "if __name__ == '__main__':\n",
    "    app.run_server(debug=True, port=8045, use_reloader=False)\n"
   ]
  },
  {
   "cell_type": "code",
   "execution_count": null,
   "id": "63e3628d",
   "metadata": {},
   "outputs": [],
   "source": []
  }
 ],
 "metadata": {
  "kernelspec": {
   "display_name": "Python 3 (ipykernel)",
   "language": "python",
   "name": "python3"
  },
  "language_info": {
   "codemirror_mode": {
    "name": "ipython",
    "version": 3
   },
   "file_extension": ".py",
   "mimetype": "text/x-python",
   "name": "python",
   "nbconvert_exporter": "python",
   "pygments_lexer": "ipython3",
   "version": "3.11.4"
  }
 },
 "nbformat": 4,
 "nbformat_minor": 5
}
