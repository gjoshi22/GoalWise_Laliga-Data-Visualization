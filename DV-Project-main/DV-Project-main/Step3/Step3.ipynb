{
 "cells": [
  {
   "cell_type": "code",
   "execution_count": 1,
   "id": "d57600ec",
   "metadata": {},
   "outputs": [],
   "source": [
    "import requests\n",
    "import matplotlib.pyplot as plt\n",
    "\n",
    "# Replace 'YOUR_API_TOKEN' with your actual API token\n",
    "headers = {'X-Auth-Token': '8856b530942c43ea8ba2dcc1d43380a4'}"
   ]
  },
  {
   "cell_type": "code",
   "execution_count": 2,
   "id": "865828cd",
   "metadata": {},
   "outputs": [
    {
     "data": {
      "text/plain": [
       "{'filters': {'season': '2023'},\n",
       " 'area': {'id': 2224,\n",
       "  'name': 'Spain',\n",
       "  'code': 'ESP',\n",
       "  'flag': 'https://crests.football-data.org/760.svg'},\n",
       " 'competition': {'id': 2014,\n",
       "  'name': 'Primera Division',\n",
       "  'code': 'PD',\n",
       "  'type': 'LEAGUE',\n",
       "  'emblem': 'https://crests.football-data.org/PD.png'},\n",
       " 'season': {'id': 1577,\n",
       "  'startDate': '2023-08-13',\n",
       "  'endDate': '2024-05-26',\n",
       "  'currentMatchday': 15,\n",
       "  'winner': None},\n",
       " 'standings': [{'stage': 'REGULAR_SEASON',\n",
       "   'type': 'TOTAL',\n",
       "   'group': None,\n",
       "   'table': [{'position': 1,\n",
       "     'team': {'id': 86,\n",
       "      'name': 'Real Madrid CF',\n",
       "      'shortName': 'Real Madrid',\n",
       "      'tla': 'RMA',\n",
       "      'crest': 'https://crests.football-data.org/86.png'},\n",
       "     'playedGames': 15,\n",
       "     'form': None,\n",
       "     'won': 12,\n",
       "     'draw': 2,\n",
       "     'lost': 1,\n",
       "     'points': 38,\n",
       "     'goalsFor': 33,\n",
       "     'goalsAgainst': 9,\n",
       "     'goalDifference': 24},\n",
       "    {'position': 2,\n",
       "     'team': {'id': 298,\n",
       "      'name': 'Girona FC',\n",
       "      'shortName': 'Girona',\n",
       "      'tla': 'GIR',\n",
       "      'crest': 'https://crests.football-data.org/298.png'},\n",
       "     'playedGames': 15,\n",
       "     'form': None,\n",
       "     'won': 12,\n",
       "     'draw': 2,\n",
       "     'lost': 1,\n",
       "     'points': 38,\n",
       "     'goalsFor': 34,\n",
       "     'goalsAgainst': 18,\n",
       "     'goalDifference': 16},\n",
       "    {'position': 3,\n",
       "     'team': {'id': 81,\n",
       "      'name': 'FC Barcelona',\n",
       "      'shortName': 'Barça',\n",
       "      'tla': 'FCB',\n",
       "      'crest': 'https://crests.football-data.org/81.svg'},\n",
       "     'playedGames': 15,\n",
       "     'form': None,\n",
       "     'won': 10,\n",
       "     'draw': 4,\n",
       "     'lost': 1,\n",
       "     'points': 34,\n",
       "     'goalsFor': 28,\n",
       "     'goalsAgainst': 14,\n",
       "     'goalDifference': 14},\n",
       "    {'position': 4,\n",
       "     'team': {'id': 78,\n",
       "      'name': 'Club Atlético de Madrid',\n",
       "      'shortName': 'Atleti',\n",
       "      'tla': 'ATL',\n",
       "      'crest': 'https://crests.football-data.org/78.svg'},\n",
       "     'playedGames': 14,\n",
       "     'form': None,\n",
       "     'won': 10,\n",
       "     'draw': 1,\n",
       "     'lost': 3,\n",
       "     'points': 31,\n",
       "     'goalsFor': 30,\n",
       "     'goalsAgainst': 13,\n",
       "     'goalDifference': 17},\n",
       "    {'position': 5,\n",
       "     'team': {'id': 77,\n",
       "      'name': 'Athletic Club',\n",
       "      'shortName': 'Athletic',\n",
       "      'tla': 'ATH',\n",
       "      'crest': 'https://crests.football-data.org/77.png'},\n",
       "     'playedGames': 15,\n",
       "     'form': None,\n",
       "     'won': 8,\n",
       "     'draw': 4,\n",
       "     'lost': 3,\n",
       "     'points': 28,\n",
       "     'goalsFor': 30,\n",
       "     'goalsAgainst': 18,\n",
       "     'goalDifference': 12},\n",
       "    {'position': 6,\n",
       "     'team': {'id': 92,\n",
       "      'name': 'Real Sociedad de Fútbol',\n",
       "      'shortName': 'Real Sociedad',\n",
       "      'tla': 'RSO',\n",
       "      'crest': 'https://crests.football-data.org/92.svg'},\n",
       "     'playedGames': 15,\n",
       "     'form': None,\n",
       "     'won': 7,\n",
       "     'draw': 5,\n",
       "     'lost': 3,\n",
       "     'points': 26,\n",
       "     'goalsFor': 26,\n",
       "     'goalsAgainst': 18,\n",
       "     'goalDifference': 8},\n",
       "    {'position': 7,\n",
       "     'team': {'id': 90,\n",
       "      'name': 'Real Betis Balompié',\n",
       "      'shortName': 'Real Betis',\n",
       "      'tla': 'BET',\n",
       "      'crest': 'https://crests.football-data.org/90.png'},\n",
       "     'playedGames': 15,\n",
       "     'form': None,\n",
       "     'won': 6,\n",
       "     'draw': 7,\n",
       "     'lost': 2,\n",
       "     'points': 25,\n",
       "     'goalsFor': 18,\n",
       "     'goalsAgainst': 16,\n",
       "     'goalDifference': 2},\n",
       "    {'position': 8,\n",
       "     'team': {'id': 275,\n",
       "      'name': 'UD Las Palmas',\n",
       "      'shortName': 'Las Palmas',\n",
       "      'tla': 'LPA',\n",
       "      'crest': 'https://crests.football-data.org/275.png'},\n",
       "     'playedGames': 15,\n",
       "     'form': None,\n",
       "     'won': 6,\n",
       "     'draw': 3,\n",
       "     'lost': 6,\n",
       "     'points': 21,\n",
       "     'goalsFor': 13,\n",
       "     'goalsAgainst': 13,\n",
       "     'goalDifference': 0},\n",
       "    {'position': 9,\n",
       "     'team': {'id': 82,\n",
       "      'name': 'Getafe CF',\n",
       "      'shortName': 'Getafe',\n",
       "      'tla': 'GET',\n",
       "      'crest': 'https://crests.football-data.org/82.png'},\n",
       "     'playedGames': 15,\n",
       "     'form': None,\n",
       "     'won': 4,\n",
       "     'draw': 7,\n",
       "     'lost': 4,\n",
       "     'points': 19,\n",
       "     'goalsFor': 17,\n",
       "     'goalsAgainst': 20,\n",
       "     'goalDifference': -3},\n",
       "    {'position': 9,\n",
       "     'team': {'id': 95,\n",
       "      'name': 'Valencia CF',\n",
       "      'shortName': 'Valencia',\n",
       "      'tla': 'VAL',\n",
       "      'crest': 'https://crests.football-data.org/95.svg'},\n",
       "     'playedGames': 15,\n",
       "     'form': None,\n",
       "     'won': 5,\n",
       "     'draw': 4,\n",
       "     'lost': 6,\n",
       "     'points': 19,\n",
       "     'goalsFor': 17,\n",
       "     'goalsAgainst': 20,\n",
       "     'goalDifference': -3},\n",
       "    {'position': 11,\n",
       "     'team': {'id': 87,\n",
       "      'name': 'Rayo Vallecano de Madrid',\n",
       "      'shortName': 'Rayo Vallecano',\n",
       "      'tla': 'RAY',\n",
       "      'crest': 'https://crests.football-data.org/87.svg'},\n",
       "     'playedGames': 15,\n",
       "     'form': None,\n",
       "     'won': 4,\n",
       "     'draw': 7,\n",
       "     'lost': 4,\n",
       "     'points': 19,\n",
       "     'goalsFor': 16,\n",
       "     'goalsAgainst': 22,\n",
       "     'goalDifference': -6},\n",
       "    {'position': 12,\n",
       "     'team': {'id': 94,\n",
       "      'name': 'Villarreal CF',\n",
       "      'shortName': 'Villarreal',\n",
       "      'tla': 'VIL',\n",
       "      'crest': 'https://crests.football-data.org/94.png'},\n",
       "     'playedGames': 15,\n",
       "     'form': None,\n",
       "     'won': 4,\n",
       "     'draw': 4,\n",
       "     'lost': 7,\n",
       "     'points': 16,\n",
       "     'goalsFor': 22,\n",
       "     'goalsAgainst': 26,\n",
       "     'goalDifference': -4},\n",
       "    {'position': 13,\n",
       "     'team': {'id': 263,\n",
       "      'name': 'Deportivo Alavés',\n",
       "      'shortName': 'Alavés',\n",
       "      'tla': 'ALA',\n",
       "      'crest': 'https://crests.football-data.org/263.png'},\n",
       "     'playedGames': 15,\n",
       "     'form': None,\n",
       "     'won': 4,\n",
       "     'draw': 4,\n",
       "     'lost': 7,\n",
       "     'points': 16,\n",
       "     'goalsFor': 14,\n",
       "     'goalsAgainst': 19,\n",
       "     'goalDifference': -5},\n",
       "    {'position': 14,\n",
       "     'team': {'id': 79,\n",
       "      'name': 'CA Osasuna',\n",
       "      'shortName': 'Osasuna',\n",
       "      'tla': 'OSA',\n",
       "      'crest': 'https://crests.football-data.org/79.svg'},\n",
       "     'playedGames': 15,\n",
       "     'form': None,\n",
       "     'won': 4,\n",
       "     'draw': 3,\n",
       "     'lost': 8,\n",
       "     'points': 15,\n",
       "     'goalsFor': 17,\n",
       "     'goalsAgainst': 25,\n",
       "     'goalDifference': -8},\n",
       "    {'position': 15,\n",
       "     'team': {'id': 559,\n",
       "      'name': 'Sevilla FC',\n",
       "      'shortName': 'Sevilla FC',\n",
       "      'tla': 'SEV',\n",
       "      'crest': 'https://crests.football-data.org/559.svg'},\n",
       "     'playedGames': 14,\n",
       "     'form': None,\n",
       "     'won': 2,\n",
       "     'draw': 7,\n",
       "     'lost': 5,\n",
       "     'points': 13,\n",
       "     'goalsFor': 20,\n",
       "     'goalsAgainst': 20,\n",
       "     'goalDifference': 0},\n",
       "    {'position': 16,\n",
       "     'team': {'id': 264,\n",
       "      'name': 'Cádiz CF',\n",
       "      'shortName': 'Cádiz CF',\n",
       "      'tla': 'CAD',\n",
       "      'crest': 'https://crests.football-data.org/264.png'},\n",
       "     'playedGames': 15,\n",
       "     'form': None,\n",
       "     'won': 2,\n",
       "     'draw': 6,\n",
       "     'lost': 7,\n",
       "     'points': 12,\n",
       "     'goalsFor': 12,\n",
       "     'goalsAgainst': 22,\n",
       "     'goalDifference': -10},\n",
       "    {'position': 17,\n",
       "     'team': {'id': 89,\n",
       "      'name': 'RCD Mallorca',\n",
       "      'shortName': 'Mallorca',\n",
       "      'tla': 'MAL',\n",
       "      'crest': 'https://crests.football-data.org/89.png'},\n",
       "     'playedGames': 15,\n",
       "     'form': None,\n",
       "     'won': 1,\n",
       "     'draw': 8,\n",
       "     'lost': 6,\n",
       "     'points': 11,\n",
       "     'goalsFor': 13,\n",
       "     'goalsAgainst': 20,\n",
       "     'goalDifference': -7},\n",
       "    {'position': 18,\n",
       "     'team': {'id': 558,\n",
       "      'name': 'RC Celta de Vigo',\n",
       "      'shortName': 'Celta',\n",
       "      'tla': 'CEL',\n",
       "      'crest': 'https://crests.football-data.org/558.svg'},\n",
       "     'playedGames': 15,\n",
       "     'form': None,\n",
       "     'won': 1,\n",
       "     'draw': 6,\n",
       "     'lost': 8,\n",
       "     'points': 9,\n",
       "     'goalsFor': 15,\n",
       "     'goalsAgainst': 25,\n",
       "     'goalDifference': -10},\n",
       "    {'position': 19,\n",
       "     'team': {'id': 83,\n",
       "      'name': 'Granada CF',\n",
       "      'shortName': 'Granada',\n",
       "      'tla': 'GRA',\n",
       "      'crest': 'https://crests.football-data.org/83.svg'},\n",
       "     'playedGames': 15,\n",
       "     'form': None,\n",
       "     'won': 1,\n",
       "     'draw': 4,\n",
       "     'lost': 10,\n",
       "     'points': 7,\n",
       "     'goalsFor': 19,\n",
       "     'goalsAgainst': 35,\n",
       "     'goalDifference': -16},\n",
       "    {'position': 20,\n",
       "     'team': {'id': 267,\n",
       "      'name': 'UD Almería',\n",
       "      'shortName': 'Almería',\n",
       "      'tla': 'ALM',\n",
       "      'crest': 'https://crests.football-data.org/267.png'},\n",
       "     'playedGames': 15,\n",
       "     'form': None,\n",
       "     'won': 0,\n",
       "     'draw': 4,\n",
       "     'lost': 11,\n",
       "     'points': 4,\n",
       "     'goalsFor': 16,\n",
       "     'goalsAgainst': 37,\n",
       "     'goalDifference': -21}]}]}"
      ]
     },
     "execution_count": 2,
     "metadata": {},
     "output_type": "execute_result"
    }
   ],
   "source": [
    "response3 = requests.get(\n",
    "        f'https://api.football-data.org/v4/competitions/PD/standings',\n",
    "        headers=headers\n",
    "    )\n",
    "data3 = response3.json()\n",
    "data3"
   ]
  },
  {
   "cell_type": "markdown",
   "id": "ae9888bd",
   "metadata": {},
   "source": [
    "# TEAM POSITION CHART"
   ]
  },
  {
   "cell_type": "code",
   "execution_count": 3,
   "id": "f21adfcc",
   "metadata": {},
   "outputs": [],
   "source": [
    "matchday_list = ['2023-08-15', '2023-08-22', '2023-08-29', '2023-09-04',\n",
    "                '2023-09-19', '2023-09-25', '2023-09-29', '2023-10-03',\n",
    "                '2023-10-09', '2023-10-24', '2023-10-31', '2023-11-07']\n",
    "\n",
    "team_short_names = ['Real Madrid', 'Atleti', 'Girona', 'Barça', \n",
    "                   'Athletic', 'Valencia', 'Osasuna', 'Rayo Vallecano', \n",
    "                   'Real Betis', 'Mallorca', 'Getafe', 'Real Sociedad', \n",
    "                   'Villareal', 'Alavés', 'Granada', 'Las Palmas', \n",
    "                   'Celta', 'Almería', 'Sevilla FC', 'Cádiz CF']\n",
    "\n",
    "team_colors = {\n",
    "    'Real Madrid': '#fcbf00',\n",
    "    'Atleti': '#262f61',\n",
    "    'Girona': '#cd2534',\n",
    "    'Barça': '#a50044',\n",
    "    'Athletic': '#ee2523',\n",
    "    'Valencia': '#ee3524',\n",
    "    'Osasuna': '#0a346f',\n",
    "    'Rayo Vallecano': '#e53027',\n",
    "    'Real Betis': '#00954c',\n",
    "    'Cádiz CF': '#fde607',\n",
    "    'Getafe': '#004fa3',\n",
    "    'Real Sociedad': '#143c8b',\n",
    "    'Villareal': '#005187',\n",
    "    'Alavés': '#004fa3',\n",
    "    'Granada': '#e60d2e',\n",
    "    'Las Palmas': '#004b9d',\n",
    "    'Celta': '#e5254e',\n",
    "    'Almería': '#ee1119',\n",
    "    'Sevilla FC': '#d70f21',\n",
    "    'Mallorca': '#ed1b24',\n",
    "   \n",
    "}"
   ]
  },
  {
   "cell_type": "code",
   "execution_count": 4,
   "id": "dff5f64a",
   "metadata": {},
   "outputs": [],
   "source": [
    "teams_positions = {}\n",
    "for md in range(0,8):\n",
    "    response = requests.get(\n",
    "        f'https://api.football-data.org/v4/competitions/PD/standings?date='+matchday_list[md],\n",
    "        headers=headers\n",
    "    )\n",
    "    data2 = response.json()\n",
    "    \n",
    "    \n",
    "    for team in data2['standings'][0]['table'] :\n",
    "        sn = team['team']['shortName']\n",
    "        tp = team['position']\n",
    "        if sn not in teams_positions:\n",
    "            teams_positions[sn] = []\n",
    "        teams_positions[sn].append(tp)"
   ]
  },
  {
   "cell_type": "markdown",
   "id": "28aac79c",
   "metadata": {},
   "source": [
    "### Static"
   ]
  },
  {
   "cell_type": "code",
   "execution_count": 5,
   "id": "fa7d48d6",
   "metadata": {},
   "outputs": [
    {
     "data": {
      "image/png": "[encoded data removed]",
      "text/plain": [
       "<Figure size 1440x864 with 1 Axes>"
      ]
     },
     "metadata": {
      "needs_background": "light"
     },
     "output_type": "display_data"
    }
   ],
   "source": [
    "import matplotlib.pyplot as plt\n",
    "\n",
    "# Your teams_positions dictionary must be defined before this snippet.\n",
    "\n",
    "# Set up the plot\n",
    "fig, ax = plt.subplots(figsize=(20, 12))\n",
    "\n",
    "# Number of matchdays\n",
    "matchdays = list(range(1, 9))\n",
    "\n",
    "# Plotting each team's positions across matchdays\n",
    "for team, positions in teams_positions.items():\n",
    "    ax.plot(matchdays, positions, marker='o', label=team)\n",
    "\n",
    "# Adding titles and labels\n",
    "ax.set_title('Team Positions Over 9 Matchdays')\n",
    "ax.set_xlabel('Matchday')\n",
    "ax.set_ylabel('Position')\n",
    "\n",
    "# Set the y-axis to show integers from 1 to 20\n",
    "ax.set_yticks(range(1, 21))\n",
    "\n",
    "# Set the x-axis to show integers from 1 to 9\n",
    "ax.set_xticks(range(1, 9))\n",
    "\n",
    "# Invert the y-axis because in league standings, 1st place is the top position\n",
    "ax.invert_yaxis()\n",
    "\n",
    "# Adding a legend outside of the plot on the right side\n",
    "ax.legend(loc='upper left', bbox_to_anchor=(1, 1))\n",
    "\n",
    "# Highlight y-values from 1 to 4 with a green background\n",
    "ax.axhspan(0.5, 4.5, color='green', alpha=0.15)\n",
    "ax.axhspan(4.5, 6.5, color='blue', alpha=0.15)\n",
    "ax.axhspan(17.5, 20.5, color='red', alpha=0.15)\n",
    "\n",
    "# Adjust the subplot params so the plot fits into the figure area.\n",
    "plt.subplots_adjust(right=0.85)\n",
    "\n",
    "# Show grid\n",
    "#ax.grid(True)\n",
    "\n",
    "# Display the plot\n",
    "plt.show()\n"
   ]
  },
  {
   "cell_type": "markdown",
   "id": "f6b53395",
   "metadata": {},
   "source": [
    "### Dynamic"
   ]
  },
  {
   "cell_type": "code",
   "execution_count": 11,
   "id": "c2c5c80e",
   "metadata": {},
   "outputs": [
    {
     "data": {
      "application/vnd.plotly.v1+json": {
       "config": {
        "plotlyServerURL": "https://plot.ly"
       },
       "data": [
        {
         "hoverinfo": "text",
         "line": {
          "color": "#262f61"
         },
         "marker": {
          "color": "#262f61"
         },
         "mode": "lines+markers",
         "name": "Atleti",
         "text": [
          "Atleti<br>Matchday 1<br>Date: 2023-10-09<br>Position: 1",
          "Atleti<br>Matchday 2<br>Date: 2023-10-09<br>Position: 5",
          "Atleti<br>Matchday 3<br>Date: 2023-10-09<br>Position: 2",
          "Atleti<br>Matchday 4<br>Date: 2023-10-09<br>Position: 4",
          "Atleti<br>Matchday 5<br>Date: 2023-10-09<br>Position: 7",
          "Atleti<br>Matchday 6<br>Date: 2023-10-09<br>Position: 5",
          "Atleti<br>Matchday 7<br>Date: 2023-10-09<br>Position: 5",
          "Atleti<br>Matchday 8<br>Date: 2023-10-09<br>Position: 4"
         ],
         "type": "scatter",
         "visible": "legendonly",
         "x": [
          1,
          2,
          3,
          4,
          5,
          6,
          7,
          8
         ],
         "y": [
          1,
          5,
          2,
          4,
          7,
          5,
          5,
          4
         ]
        },
        {
         "hoverinfo": "text",
         "line": {
          "color": "#e53027"
         },
         "marker": {
          "color": "#e53027"
         },
         "mode": "lines+markers",
         "name": "Rayo Vallecano",
         "text": [
          "Rayo Vallecano<br>Matchday 1<br>Date: 2023-10-09<br>Position: 2",
          "Rayo Vallecano<br>Matchday 2<br>Date: 2023-10-09<br>Position: 2",
          "Rayo Vallecano<br>Matchday 3<br>Date: 2023-10-09<br>Position: 8",
          "Rayo Vallecano<br>Matchday 4<br>Date: 2023-10-09<br>Position: 12",
          "Rayo Vallecano<br>Matchday 5<br>Date: 2023-10-09<br>Position: 6",
          "Rayo Vallecano<br>Matchday 6<br>Date: 2023-10-09<br>Position: 7",
          "Rayo Vallecano<br>Matchday 7<br>Date: 2023-10-09<br>Position: 7",
          "Rayo Vallecano<br>Matchday 8<br>Date: 2023-10-09<br>Position: 8"
         ],
         "type": "scatter",
         "visible": "legendonly",
         "x": [
          1,
          2,
          3,
          4,
          5,
          6,
          7,
          8
         ],
         "y": [
          2,
          2,
          8,
          12,
          6,
          7,
          7,
          8
         ]
        },
        {
         "hoverinfo": "text",
         "line": {
          "color": "#fcbf00"
         },
         "marker": {
          "color": "#fcbf00"
         },
         "mode": "lines+markers",
         "name": "Real Madrid",
         "text": [
          "Real Madrid<br>Matchday 1<br>Date: 2023-10-09<br>Position: 3",
          "Real Madrid<br>Matchday 2<br>Date: 2023-10-09<br>Position: 1",
          "Real Madrid<br>Matchday 3<br>Date: 2023-10-09<br>Position: 1",
          "Real Madrid<br>Matchday 4<br>Date: 2023-10-09<br>Position: 1",
          "Real Madrid<br>Matchday 5<br>Date: 2023-10-09<br>Position: 1",
          "Real Madrid<br>Matchday 6<br>Date: 2023-10-09<br>Position: 3",
          "Real Madrid<br>Matchday 7<br>Date: 2023-10-09<br>Position: 2",
          "Real Madrid<br>Matchday 8<br>Date: 2023-10-09<br>Position: 1"
         ],
         "type": "scatter",
         "visible": "legendonly",
         "x": [
          1,
          2,
          3,
          4,
          5,
          6,
          7,
          8
         ],
         "y": [
          3,
          1,
          1,
          1,
          1,
          3,
          2,
          1
         ]
        },
        {
         "hoverinfo": "text",
         "line": {
          "color": "#0a346f"
         },
         "marker": {
          "color": "#0a346f"
         },
         "mode": "lines+markers",
         "name": "Osasuna",
         "text": [
          "Osasuna<br>Matchday 1<br>Date: 2023-10-09<br>Position: 4",
          "Osasuna<br>Matchday 2<br>Date: 2023-10-09<br>Position: 10",
          "Osasuna<br>Matchday 3<br>Date: 2023-10-09<br>Position: 7",
          "Osasuna<br>Matchday 4<br>Date: 2023-10-09<br>Position: 9",
          "Osasuna<br>Matchday 5<br>Date: 2023-10-09<br>Position: 12",
          "Osasuna<br>Matchday 6<br>Date: 2023-10-09<br>Position: 11",
          "Osasuna<br>Matchday 7<br>Date: 2023-10-09<br>Position: 14",
          "Osasuna<br>Matchday 8<br>Date: 2023-10-09<br>Position: 10"
         ],
         "type": "scatter",
         "visible": "legendonly",
         "x": [
          1,
          2,
          3,
          4,
          5,
          6,
          7,
          8
         ],
         "y": [
          4,
          10,
          7,
          9,
          12,
          11,
          14,
          10
         ]
        },
        {
         "hoverinfo": "text",
         "line": {
          "color": "#ee3524"
         },
         "marker": {
          "color": "#ee3524"
         },
         "mode": "lines+markers",
         "name": "Valencia",
         "text": [
          "Valencia<br>Matchday 1<br>Date: 2023-10-09<br>Position: 5",
          "Valencia<br>Matchday 2<br>Date: 2023-10-09<br>Position: 3",
          "Valencia<br>Matchday 3<br>Date: 2023-10-09<br>Position: 6",
          "Valencia<br>Matchday 4<br>Date: 2023-10-09<br>Position: 11",
          "Valencia<br>Matchday 5<br>Date: 2023-10-09<br>Position: 5",
          "Valencia<br>Matchday 6<br>Date: 2023-10-09<br>Position: 6",
          "Valencia<br>Matchday 7<br>Date: 2023-10-09<br>Position: 8",
          "Valencia<br>Matchday 8<br>Date: 2023-10-09<br>Position: 9"
         ],
         "type": "scatter",
         "visible": "legendonly",
         "x": [
          1,
          2,
          3,
          4,
          5,
          6,
          7,
          8
         ],
         "y": [
          5,
          3,
          6,
          11,
          5,
          6,
          8,
          9
         ]
        },
        {
         "hoverinfo": "text",
         "line": {
          "color": "#00954c"
         },
         "marker": {
          "color": "#00954c"
         },
         "mode": "lines+markers",
         "name": "Real Betis",
         "text": [
          "Real Betis<br>Matchday 1<br>Date: 2023-10-09<br>Position: 6",
          "Real Betis<br>Matchday 2<br>Date: 2023-10-09<br>Position: 7",
          "Real Betis<br>Matchday 3<br>Date: 2023-10-09<br>Position: 9",
          "Real Betis<br>Matchday 4<br>Date: 2023-10-09<br>Position: 7",
          "Real Betis<br>Matchday 5<br>Date: 2023-10-09<br>Position: 10",
          "Real Betis<br>Matchday 6<br>Date: 2023-10-09<br>Position: 10",
          "Real Betis<br>Matchday 7<br>Date: 2023-10-09<br>Position: 10",
          "Real Betis<br>Matchday 8<br>Date: 2023-10-09<br>Position: 7"
         ],
         "type": "scatter",
         "visible": "legendonly",
         "x": [
          1,
          2,
          3,
          4,
          5,
          6,
          7,
          8
         ],
         "y": [
          6,
          7,
          9,
          7,
          10,
          10,
          10,
          7
         ]
        },
        {
         "hoverinfo": "text",
         "line": {
          "color": "#fde607"
         },
         "marker": {
          "color": "#fde607"
         },
         "mode": "lines+markers",
         "name": "Cádiz CF",
         "text": [
          "Cádiz CF<br>Matchday 1<br>Date: 2023-10-09<br>Position: 7",
          "Cádiz CF<br>Matchday 2<br>Date: 2023-10-09<br>Position: 12",
          "Cádiz CF<br>Matchday 3<br>Date: 2023-10-09<br>Position: 10",
          "Cádiz CF<br>Matchday 4<br>Date: 2023-10-09<br>Position: 6",
          "Cádiz CF<br>Matchday 5<br>Date: 2023-10-09<br>Position: 9",
          "Cádiz CF<br>Matchday 6<br>Date: 2023-10-09<br>Position: 9",
          "Cádiz CF<br>Matchday 7<br>Date: 2023-10-09<br>Position: 9",
          "Cádiz CF<br>Matchday 8<br>Date: 2023-10-09<br>Position: 12"
         ],
         "type": "scatter",
         "visible": "legendonly",
         "x": [
          1,
          2,
          3,
          4,
          5,
          6,
          7,
          8
         ],
         "y": [
          7,
          12,
          10,
          6,
          9,
          9,
          9,
          12
         ]
        },
        {
         "hoverinfo": "text",
         "line": {
          "color": "#143c8b"
         },
         "marker": {
          "color": "#143c8b"
         },
         "mode": "lines+markers",
         "name": "Real Sociedad",
         "text": [
          "Real Sociedad<br>Matchday 1<br>Date: 2023-10-09<br>Position: 8",
          "Real Sociedad<br>Matchday 2<br>Date: 2023-10-09<br>Position: 13",
          "Real Sociedad<br>Matchday 3<br>Date: 2023-10-09<br>Position: 12",
          "Real Sociedad<br>Matchday 4<br>Date: 2023-10-09<br>Position: 8",
          "Real Sociedad<br>Matchday 5<br>Date: 2023-10-09<br>Position: 11",
          "Real Sociedad<br>Matchday 6<br>Date: 2023-10-09<br>Position: 8",
          "Real Sociedad<br>Matchday 7<br>Date: 2023-10-09<br>Position: 6",
          "Real Sociedad<br>Matchday 8<br>Date: 2023-10-09<br>Position: 5"
         ],
         "type": "scatter",
         "visible": "legendonly",
         "x": [
          1,
          2,
          3,
          4,
          5,
          6,
          7,
          8
         ],
         "y": [
          8,
          13,
          12,
          8,
          11,
          8,
          6,
          5
         ]
        },
        {
         "hoverinfo": "text",
         "line": {
          "color": "#cd2534"
         },
         "marker": {
          "color": "#cd2534"
         },
         "mode": "lines+markers",
         "name": "Girona",
         "text": [
          "Girona<br>Matchday 1<br>Date: 2023-10-09<br>Position: 9",
          "Girona<br>Matchday 2<br>Date: 2023-10-09<br>Position: 4",
          "Girona<br>Matchday 3<br>Date: 2023-10-09<br>Position: 3",
          "Girona<br>Matchday 4<br>Date: 2023-10-09<br>Position: 2",
          "Girona<br>Matchday 5<br>Date: 2023-10-09<br>Position: 3",
          "Girona<br>Matchday 6<br>Date: 2023-10-09<br>Position: 2",
          "Girona<br>Matchday 7<br>Date: 2023-10-09<br>Position: 1",
          "Girona<br>Matchday 8<br>Date: 2023-10-09<br>Position: 3"
         ],
         "type": "scatter",
         "visible": "legendonly",
         "x": [
          1,
          2,
          3,
          4,
          5,
          6,
          7,
          8
         ],
         "y": [
          9,
          4,
          3,
          2,
          3,
          2,
          1,
          3
         ]
        },
        {
         "hoverinfo": "text",
         "line": {
          "color": "#004b9d"
         },
         "marker": {
          "color": "#004b9d"
         },
         "mode": "lines+markers",
         "name": "Las Palmas",
         "text": [
          "Las Palmas<br>Matchday 1<br>Date: 2023-10-09<br>Position: 10",
          "Las Palmas<br>Matchday 2<br>Date: 2023-10-09<br>Position: 14",
          "Las Palmas<br>Matchday 3<br>Date: 2023-10-09<br>Position: 16",
          "Las Palmas<br>Matchday 4<br>Date: 2023-10-09<br>Position: 18",
          "Las Palmas<br>Matchday 5<br>Date: 2023-10-09<br>Position: 19",
          "Las Palmas<br>Matchday 6<br>Date: 2023-10-09<br>Position: 15",
          "Las Palmas<br>Matchday 7<br>Date: 2023-10-09<br>Position: 18",
          "Las Palmas<br>Matchday 8<br>Date: 2023-10-09<br>Position: 14"
         ],
         "type": "scatter",
         "visible": "legendonly",
         "x": [
          1,
          2,
          3,
          4,
          5,
          6,
          7,
          8
         ],
         "y": [
          10,
          14,
          16,
          18,
          19,
          15,
          18,
          14
         ]
        },
        {
         "hoverinfo": "text",
         "line": {
          "color": "#ed1b24"
         },
         "marker": {
          "color": "#ed1b24"
         },
         "mode": "lines+markers",
         "name": "Mallorca",
         "text": [
          "Mallorca<br>Matchday 1<br>Date: 2023-10-09<br>Position: 11",
          "Mallorca<br>Matchday 2<br>Date: 2023-10-09<br>Position: 15",
          "Mallorca<br>Matchday 3<br>Date: 2023-10-09<br>Position: 17",
          "Mallorca<br>Matchday 4<br>Date: 2023-10-09<br>Position: 17",
          "Mallorca<br>Matchday 5<br>Date: 2023-10-09<br>Position: 15",
          "Mallorca<br>Matchday 6<br>Date: 2023-10-09<br>Position: 16",
          "Mallorca<br>Matchday 7<br>Date: 2023-10-09<br>Position: 16",
          "Mallorca<br>Matchday 8<br>Date: 2023-10-09<br>Position: 16"
         ],
         "type": "scatter",
         "visible": "legendonly",
         "x": [
          1,
          2,
          3,
          4,
          5,
          6,
          7,
          8
         ],
         "y": [
          11,
          15,
          17,
          17,
          15,
          16,
          16,
          16
         ]
        },
        {
         "hoverinfo": "text",
         "line": {
          "color": "#004fa3"
         },
         "marker": {
          "color": "#004fa3"
         },
         "mode": "lines+markers",
         "name": "Getafe",
         "text": [
          "Getafe<br>Matchday 1<br>Date: 2023-10-09<br>Position: 12",
          "Getafe<br>Matchday 2<br>Date: 2023-10-09<br>Position: 17",
          "Getafe<br>Matchday 3<br>Date: 2023-10-09<br>Position: 11",
          "Getafe<br>Matchday 4<br>Date: 2023-10-09<br>Position: 14",
          "Getafe<br>Matchday 5<br>Date: 2023-10-09<br>Position: 8",
          "Getafe<br>Matchday 6<br>Date: 2023-10-09<br>Position: 13",
          "Getafe<br>Matchday 7<br>Date: 2023-10-09<br>Position: 11",
          "Getafe<br>Matchday 8<br>Date: 2023-10-09<br>Position: 11"
         ],
         "type": "scatter",
         "visible": "legendonly",
         "x": [
          1,
          2,
          3,
          4,
          5,
          6,
          7,
          8
         ],
         "y": [
          12,
          17,
          11,
          14,
          8,
          13,
          11,
          11
         ]
        },
        {
         "hoverinfo": "text",
         "line": {
          "color": "#a50044"
         },
         "marker": {
          "color": "#a50044"
         },
         "mode": "lines+markers",
         "name": "Barça",
         "text": [
          "Barça<br>Matchday 1<br>Date: 2023-10-09<br>Position: 13",
          "Barça<br>Matchday 2<br>Date: 2023-10-09<br>Position: 6",
          "Barça<br>Matchday 3<br>Date: 2023-10-09<br>Position: 4",
          "Barça<br>Matchday 4<br>Date: 2023-10-09<br>Position: 3",
          "Barça<br>Matchday 5<br>Date: 2023-10-09<br>Position: 2",
          "Barça<br>Matchday 6<br>Date: 2023-10-09<br>Position: 1",
          "Barça<br>Matchday 7<br>Date: 2023-10-09<br>Position: 3",
          "Barça<br>Matchday 8<br>Date: 2023-10-09<br>Position: 2"
         ],
         "type": "scatter",
         "visible": "legendonly",
         "x": [
          1,
          2,
          3,
          4,
          5,
          6,
          7,
          8
         ],
         "y": [
          13,
          6,
          4,
          3,
          2,
          1,
          3,
          2
         ]
        },
        {
         "hoverinfo": "text",
         "line": {
          "color": "#d70f21"
         },
         "marker": {
          "color": "#d70f21"
         },
         "mode": "lines+markers",
         "name": "Sevilla FC",
         "text": [
          "Sevilla FC<br>Matchday 1<br>Date: 2023-10-09<br>Position: 14",
          "Sevilla FC<br>Matchday 2<br>Date: 2023-10-09<br>Position: 18",
          "Sevilla FC<br>Matchday 3<br>Date: 2023-10-09<br>Position: 20",
          "Sevilla FC<br>Matchday 4<br>Date: 2023-10-09<br>Position: 20",
          "Sevilla FC<br>Matchday 5<br>Date: 2023-10-09<br>Position: 17",
          "Sevilla FC<br>Matchday 6<br>Date: 2023-10-09<br>Position: 17",
          "Sevilla FC<br>Matchday 7<br>Date: 2023-10-09<br>Position: 12",
          "Sevilla FC<br>Matchday 8<br>Date: 2023-10-09<br>Position: 15"
         ],
         "type": "scatter",
         "visible": "legendonly",
         "x": [
          1,
          2,
          3,
          4,
          5,
          6,
          7,
          8
         ],
         "y": [
          14,
          18,
          20,
          20,
          17,
          17,
          12,
          15
         ]
        },
        {
         "hoverinfo": "text",
         "line": {
          "color": "#000"
         },
         "marker": {
          "color": "#000"
         },
         "mode": "lines+markers",
         "name": "Villarreal",
         "text": [
          "Villarreal<br>Matchday 1<br>Date: 2023-10-09<br>Position: 15",
          "Villarreal<br>Matchday 2<br>Date: 2023-10-09<br>Position: 11",
          "Villarreal<br>Matchday 3<br>Date: 2023-10-09<br>Position: 13",
          "Villarreal<br>Matchday 4<br>Date: 2023-10-09<br>Position: 15",
          "Villarreal<br>Matchday 5<br>Date: 2023-10-09<br>Position: 13",
          "Villarreal<br>Matchday 6<br>Date: 2023-10-09<br>Position: 12",
          "Villarreal<br>Matchday 7<br>Date: 2023-10-09<br>Position: 13",
          "Villarreal<br>Matchday 8<br>Date: 2023-10-09<br>Position: 13"
         ],
         "type": "scatter",
         "visible": "legendonly",
         "x": [
          1,
          2,
          3,
          4,
          5,
          6,
          7,
          8
         ],
         "y": [
          15,
          11,
          13,
          15,
          13,
          12,
          13,
          13
         ]
        },
        {
         "hoverinfo": "text",
         "line": {
          "color": "#004fa3"
         },
         "marker": {
          "color": "#004fa3"
         },
         "mode": "lines+markers",
         "name": "Alavés",
         "text": [
          "Alavés<br>Matchday 1<br>Date: 2023-10-09<br>Position: 16",
          "Alavés<br>Matchday 2<br>Date: 2023-10-09<br>Position: 8",
          "Alavés<br>Matchday 3<br>Date: 2023-10-09<br>Position: 14",
          "Alavés<br>Matchday 4<br>Date: 2023-10-09<br>Position: 10",
          "Alavés<br>Matchday 5<br>Date: 2023-10-09<br>Position: 14",
          "Alavés<br>Matchday 6<br>Date: 2023-10-09<br>Position: 14",
          "Alavés<br>Matchday 7<br>Date: 2023-10-09<br>Position: 15",
          "Alavés<br>Matchday 8<br>Date: 2023-10-09<br>Position: 17"
         ],
         "type": "scatter",
         "visible": "legendonly",
         "x": [
          1,
          2,
          3,
          4,
          5,
          6,
          7,
          8
         ],
         "y": [
          16,
          8,
          14,
          10,
          14,
          14,
          15,
          17
         ]
        },
        {
         "hoverinfo": "text",
         "line": {
          "color": "#e60d2e"
         },
         "marker": {
          "color": "#e60d2e"
         },
         "mode": "lines+markers",
         "name": "Granada",
         "text": [
          "Granada<br>Matchday 1<br>Date: 2023-10-09<br>Position: 17",
          "Granada<br>Matchday 2<br>Date: 2023-10-09<br>Position: 20",
          "Granada<br>Matchday 3<br>Date: 2023-10-09<br>Position: 15",
          "Granada<br>Matchday 4<br>Date: 2023-10-09<br>Position: 16",
          "Granada<br>Matchday 5<br>Date: 2023-10-09<br>Position: 18",
          "Granada<br>Matchday 6<br>Date: 2023-10-09<br>Position: 19",
          "Granada<br>Matchday 7<br>Date: 2023-10-09<br>Position: 19",
          "Granada<br>Matchday 8<br>Date: 2023-10-09<br>Position: 19"
         ],
         "type": "scatter",
         "visible": "legendonly",
         "x": [
          1,
          2,
          3,
          4,
          5,
          6,
          7,
          8
         ],
         "y": [
          17,
          20,
          15,
          16,
          18,
          19,
          19,
          19
         ]
        },
        {
         "hoverinfo": "text",
         "line": {
          "color": "#ee1119"
         },
         "marker": {
          "color": "#ee1119"
         },
         "mode": "lines+markers",
         "name": "Almería",
         "text": [
          "Almería<br>Matchday 1<br>Date: 2023-10-09<br>Position: 18",
          "Almería<br>Matchday 2<br>Date: 2023-10-09<br>Position: 19",
          "Almería<br>Matchday 3<br>Date: 2023-10-09<br>Position: 19",
          "Almería<br>Matchday 4<br>Date: 2023-10-09<br>Position: 19",
          "Almería<br>Matchday 5<br>Date: 2023-10-09<br>Position: 20",
          "Almería<br>Matchday 6<br>Date: 2023-10-09<br>Position: 20",
          "Almería<br>Matchday 7<br>Date: 2023-10-09<br>Position: 20",
          "Almería<br>Matchday 8<br>Date: 2023-10-09<br>Position: 20"
         ],
         "type": "scatter",
         "visible": "legendonly",
         "x": [
          1,
          2,
          3,
          4,
          5,
          6,
          7,
          8
         ],
         "y": [
          18,
          19,
          19,
          19,
          20,
          20,
          20,
          20
         ]
        },
        {
         "hoverinfo": "text",
         "line": {
          "color": "#ee2523"
         },
         "marker": {
          "color": "#ee2523"
         },
         "mode": "lines+markers",
         "name": "Athletic",
         "text": [
          "Athletic<br>Matchday 1<br>Date: 2023-10-09<br>Position: 19",
          "Athletic<br>Matchday 2<br>Date: 2023-10-09<br>Position: 9",
          "Athletic<br>Matchday 3<br>Date: 2023-10-09<br>Position: 5",
          "Athletic<br>Matchday 4<br>Date: 2023-10-09<br>Position: 5",
          "Athletic<br>Matchday 5<br>Date: 2023-10-09<br>Position: 4",
          "Athletic<br>Matchday 6<br>Date: 2023-10-09<br>Position: 4",
          "Athletic<br>Matchday 7<br>Date: 2023-10-09<br>Position: 4",
          "Athletic<br>Matchday 8<br>Date: 2023-10-09<br>Position: 6"
         ],
         "type": "scatter",
         "visible": "legendonly",
         "x": [
          1,
          2,
          3,
          4,
          5,
          6,
          7,
          8
         ],
         "y": [
          19,
          9,
          5,
          5,
          4,
          4,
          4,
          6
         ]
        },
        {
         "hoverinfo": "text",
         "line": {
          "color": "#e5254e"
         },
         "marker": {
          "color": "#e5254e"
         },
         "mode": "lines+markers",
         "name": "Celta",
         "text": [
          "Celta<br>Matchday 1<br>Date: 2023-10-09<br>Position: 20",
          "Celta<br>Matchday 2<br>Date: 2023-10-09<br>Position: 16",
          "Celta<br>Matchday 3<br>Date: 2023-10-09<br>Position: 18",
          "Celta<br>Matchday 4<br>Date: 2023-10-09<br>Position: 13",
          "Celta<br>Matchday 5<br>Date: 2023-10-09<br>Position: 16",
          "Celta<br>Matchday 6<br>Date: 2023-10-09<br>Position: 18",
          "Celta<br>Matchday 7<br>Date: 2023-10-09<br>Position: 17",
          "Celta<br>Matchday 8<br>Date: 2023-10-09<br>Position: 18"
         ],
         "type": "scatter",
         "visible": "legendonly",
         "x": [
          1,
          2,
          3,
          4,
          5,
          6,
          7,
          8
         ],
         "y": [
          20,
          16,
          18,
          13,
          16,
          18,
          17,
          18
         ]
        }
       ],
       "layout": {
        "height": 600,
        "hovermode": "closest",
        "legend": {
         "title": {
          "text": "Clubs"
         },
         "x": 1.05,
         "y": 1
        },
        "shapes": [
         {
          "fillcolor": "green",
          "line": {
           "width": 0
          },
          "opacity": 0.15,
          "type": "rect",
          "x0": 0,
          "x1": 1,
          "xref": "x domain",
          "y0": 0.5,
          "y1": 4.5,
          "yref": "y"
         },
         {
          "fillcolor": "blue",
          "line": {
           "width": 0
          },
          "opacity": 0.15,
          "type": "rect",
          "x0": 0,
          "x1": 1,
          "xref": "x domain",
          "y0": 4.5,
          "y1": 6.5,
          "yref": "y"
         },
         {
          "fillcolor": "red",
          "line": {
           "width": 0
          },
          "opacity": 0.15,
          "type": "rect",
          "x0": 0,
          "x1": 1,
          "xref": "x domain",
          "y0": 17.5,
          "y1": 20.5,
          "yref": "y"
         }
        ],
        "template": {
         "data": {
          "bar": [
           {
            "error_x": {
             "color": "#2a3f5f"
            },
            "error_y": {
             "color": "#2a3f5f"
            },
            "marker": {
             "line": {
              "color": "#E5ECF6",
              "width": 0.5
             },
             "pattern": {
              "fillmode": "overlay",
              "size": 10,
              "solidity": 0.2
             }
            },
            "type": "bar"
           }
          ],
          "barpolar": [
           {
            "marker": {
             "line": {
              "color": "#E5ECF6",
              "width": 0.5
             },
             "pattern": {
              "fillmode": "overlay",
              "size": 10,
              "solidity": 0.2
             }
            },
            "type": "barpolar"
           }
          ],
          "carpet": [
           {
            "aaxis": {
             "endlinecolor": "#2a3f5f",
             "gridcolor": "white",
             "linecolor": "white",
             "minorgridcolor": "white",
             "startlinecolor": "#2a3f5f"
            },
            "baxis": {
             "endlinecolor": "#2a3f5f",
             "gridcolor": "white",
             "linecolor": "white",
             "minorgridcolor": "white",
             "startlinecolor": "#2a3f5f"
            },
            "type": "carpet"
           }
          ],
          "choropleth": [
           {
            "colorbar": {
             "outlinewidth": 0,
             "ticks": ""
            },
            "type": "choropleth"
           }
          ],
          "contour": [
           {
            "colorbar": {
             "outlinewidth": 0,
             "ticks": ""
            },
            "colorscale": [
             [
              0,
              "#0d0887"
             ],
             [
              0.1111111111111111,
              "#46039f"
             ],
             [
              0.2222222222222222,
              "#7201a8"
             ],
             [
              0.3333333333333333,
              "#9c179e"
             ],
             [
              0.4444444444444444,
              "#bd3786"
             ],
             [
              0.5555555555555556,
              "#d8576b"
             ],
             [
              0.6666666666666666,
              "#ed7953"
             ],
             [
              0.7777777777777778,
              "#fb9f3a"
             ],
             [
              0.8888888888888888,
              "#fdca26"
             ],
             [
              1,
              "#f0f921"
             ]
            ],
            "type": "contour"
           }
          ],
          "contourcarpet": [
           {
            "colorbar": {
             "outlinewidth": 0,
             "ticks": ""
            },
            "type": "contourcarpet"
           }
          ],
          "heatmap": [
           {
            "colorbar": {
             "outlinewidth": 0,
             "ticks": ""
            },
            "colorscale": [
             [
              0,
              "#0d0887"
             ],
             [
              0.1111111111111111,
              "#46039f"
             ],
             [
              0.2222222222222222,
              "#7201a8"
             ],
             [
              0.3333333333333333,
              "#9c179e"
             ],
             [
              0.4444444444444444,
              "#bd3786"
             ],
             [
              0.5555555555555556,
              "#d8576b"
             ],
             [
              0.6666666666666666,
              "#ed7953"
             ],
             [
              0.7777777777777778,
              "#fb9f3a"
             ],
             [
              0.8888888888888888,
              "#fdca26"
             ],
             [
              1,
              "#f0f921"
             ]
            ],
            "type": "heatmap"
           }
          ],
          "heatmapgl": [
           {
            "colorbar": {
             "outlinewidth": 0,
             "ticks": ""
            },
            "colorscale": [
             [
              0,
              "#0d0887"
             ],
             [
              0.1111111111111111,
              "#46039f"
             ],
             [
              0.2222222222222222,
              "#7201a8"
             ],
             [
              0.3333333333333333,
              "#9c179e"
             ],
             [
              0.4444444444444444,
              "#bd3786"
             ],
             [
              0.5555555555555556,
              "#d8576b"
             ],
             [
              0.6666666666666666,
              "#ed7953"
             ],
             [
              0.7777777777777778,
              "#fb9f3a"
             ],
             [
              0.8888888888888888,
              "#fdca26"
             ],
             [
              1,
              "#f0f921"
             ]
            ],
            "type": "heatmapgl"
           }
          ],
          "histogram": [
           {
            "marker": {
             "pattern": {
              "fillmode": "overlay",
              "size": 10,
              "solidity": 0.2
             }
            },
            "type": "histogram"
           }
          ],
          "histogram2d": [
           {
            "colorbar": {
             "outlinewidth": 0,
             "ticks": ""
            },
            "colorscale": [
             [
              0,
              "#0d0887"
             ],
             [
              0.1111111111111111,
              "#46039f"
             ],
             [
              0.2222222222222222,
              "#7201a8"
             ],
             [
              0.3333333333333333,
              "#9c179e"
             ],
             [
              0.4444444444444444,
              "#bd3786"
             ],
             [
              0.5555555555555556,
              "#d8576b"
             ],
             [
              0.6666666666666666,
              "#ed7953"
             ],
             [
              0.7777777777777778,
              "#fb9f3a"
             ],
             [
              0.8888888888888888,
              "#fdca26"
             ],
             [
              1,
              "#f0f921"
             ]
            ],
            "type": "histogram2d"
           }
          ],
          "histogram2dcontour": [
           {
            "colorbar": {
             "outlinewidth": 0,
             "ticks": ""
            },
            "colorscale": [
             [
              0,
              "#0d0887"
             ],
             [
              0.1111111111111111,
              "#46039f"
             ],
             [
              0.2222222222222222,
              "#7201a8"
             ],
             [
              0.3333333333333333,
              "#9c179e"
             ],
             [
              0.4444444444444444,
              "#bd3786"
             ],
             [
              0.5555555555555556,
              "#d8576b"
             ],
             [
              0.6666666666666666,
              "#ed7953"
             ],
             [
              0.7777777777777778,
              "#fb9f3a"
             ],
             [
              0.8888888888888888,
              "#fdca26"
             ],
             [
              1,
              "#f0f921"
             ]
            ],
            "type": "histogram2dcontour"
           }
          ],
          "mesh3d": [
           {
            "colorbar": {
             "outlinewidth": 0,
             "ticks": ""
            },
            "type": "mesh3d"
           }
          ],
          "parcoords": [
           {
            "line": {
             "colorbar": {
              "outlinewidth": 0,
              "ticks": ""
             }
            },
            "type": "parcoords"
           }
          ],
          "pie": [
           {
            "automargin": true,
            "type": "pie"
           }
          ],
          "scatter": [
           {
            "fillpattern": {
             "fillmode": "overlay",
             "size": 10,
             "solidity": 0.2
            },
            "type": "scatter"
           }
          ],
          "scatter3d": [
           {
            "line": {
             "colorbar": {
              "outlinewidth": 0,
              "ticks": ""
             }
            },
            "marker": {
             "colorbar": {
              "outlinewidth": 0,
              "ticks": ""
             }
            },
            "type": "scatter3d"
           }
          ],
          "scattercarpet": [
           {
            "marker": {
             "colorbar": {
              "outlinewidth": 0,
              "ticks": ""
             }
            },
            "type": "scattercarpet"
           }
          ],
          "scattergeo": [
           {
            "marker": {
             "colorbar": {
              "outlinewidth": 0,
              "ticks": ""
             }
            },
            "type": "scattergeo"
           }
          ],
          "scattergl": [
           {
            "marker": {
             "colorbar": {
              "outlinewidth": 0,
              "ticks": ""
             }
            },
            "type": "scattergl"
           }
          ],
          "scattermapbox": [
           {
            "marker": {
             "colorbar": {
              "outlinewidth": 0,
              "ticks": ""
             }
            },
            "type": "scattermapbox"
           }
          ],
          "scatterpolar": [
           {
            "marker": {
             "colorbar": {
              "outlinewidth": 0,
              "ticks": ""
             }
            },
            "type": "scatterpolar"
           }
          ],
          "scatterpolargl": [
           {
            "marker": {
             "colorbar": {
              "outlinewidth": 0,
              "ticks": ""
             }
            },
            "type": "scatterpolargl"
           }
          ],
          "scatterternary": [
           {
            "marker": {
             "colorbar": {
              "outlinewidth": 0,
              "ticks": ""
             }
            },
            "type": "scatterternary"
           }
          ],
          "surface": [
           {
            "colorbar": {
             "outlinewidth": 0,
             "ticks": ""
            },
            "colorscale": [
             [
              0,
              "#0d0887"
             ],
             [
              0.1111111111111111,
              "#46039f"
             ],
             [
              0.2222222222222222,
              "#7201a8"
             ],
             [
              0.3333333333333333,
              "#9c179e"
             ],
             [
              0.4444444444444444,
              "#bd3786"
             ],
             [
              0.5555555555555556,
              "#d8576b"
             ],
             [
              0.6666666666666666,
              "#ed7953"
             ],
             [
              0.7777777777777778,
              "#fb9f3a"
             ],
             [
              0.8888888888888888,
              "#fdca26"
             ],
             [
              1,
              "#f0f921"
             ]
            ],
            "type": "surface"
           }
          ],
          "table": [
           {
            "cells": {
             "fill": {
              "color": "#EBF0F8"
             },
             "line": {
              "color": "white"
             }
            },
            "header": {
             "fill": {
              "color": "#C8D4E3"
             },
             "line": {
              "color": "white"
             }
            },
            "type": "table"
           }
          ]
         },
         "layout": {
          "annotationdefaults": {
           "arrowcolor": "#2a3f5f",
           "arrowhead": 0,
           "arrowwidth": 1
          },
          "autotypenumbers": "strict",
          "coloraxis": {
           "colorbar": {
            "outlinewidth": 0,
            "ticks": ""
           }
          },
          "colorscale": {
           "diverging": [
            [
             0,
             "#8e0152"
            ],
            [
             0.1,
             "#c51b7d"
            ],
            [
             0.2,
             "#de77ae"
            ],
            [
             0.3,
             "#f1b6da"
            ],
            [
             0.4,
             "#fde0ef"
            ],
            [
             0.5,
             "#f7f7f7"
            ],
            [
             0.6,
             "#e6f5d0"
            ],
            [
             0.7,
             "#b8e186"
            ],
            [
             0.8,
             "#7fbc41"
            ],
            [
             0.9,
             "#4d9221"
            ],
            [
             1,
             "#276419"
            ]
           ],
           "sequential": [
            [
             0,
             "#0d0887"
            ],
            [
             0.1111111111111111,
             "#46039f"
            ],
            [
             0.2222222222222222,
             "#7201a8"
            ],
            [
             0.3333333333333333,
             "#9c179e"
            ],
            [
             0.4444444444444444,
             "#bd3786"
            ],
            [
             0.5555555555555556,
             "#d8576b"
            ],
            [
             0.6666666666666666,
             "#ed7953"
            ],
            [
             0.7777777777777778,
             "#fb9f3a"
            ],
            [
             0.8888888888888888,
             "#fdca26"
            ],
            [
             1,
             "#f0f921"
            ]
           ],
           "sequentialminus": [
            [
             0,
             "#0d0887"
            ],
            [
             0.1111111111111111,
             "#46039f"
            ],
            [
             0.2222222222222222,
             "#7201a8"
            ],
            [
             0.3333333333333333,
             "#9c179e"
            ],
            [
             0.4444444444444444,
             "#bd3786"
            ],
            [
             0.5555555555555556,
             "#d8576b"
            ],
            [
             0.6666666666666666,
             "#ed7953"
            ],
            [
             0.7777777777777778,
             "#fb9f3a"
            ],
            [
             0.8888888888888888,
             "#fdca26"
            ],
            [
             1,
             "#f0f921"
            ]
           ]
          },
          "colorway": [
           "#636efa",
           "#EF553B",
           "#00cc96",
           "#ab63fa",
           "#FFA15A",
           "#19d3f3",
           "#FF6692",
           "#B6E880",
           "#FF97FF",
           "#FECB52"
          ],
          "font": {
           "color": "#2a3f5f"
          },
          "geo": {
           "bgcolor": "white",
           "lakecolor": "white",
           "landcolor": "#E5ECF6",
           "showlakes": true,
           "showland": true,
           "subunitcolor": "white"
          },
          "hoverlabel": {
           "align": "left"
          },
          "hovermode": "closest",
          "mapbox": {
           "style": "light"
          },
          "paper_bgcolor": "white",
          "plot_bgcolor": "#E5ECF6",
          "polar": {
           "angularaxis": {
            "gridcolor": "white",
            "linecolor": "white",
            "ticks": ""
           },
           "bgcolor": "#E5ECF6",
           "radialaxis": {
            "gridcolor": "white",
            "linecolor": "white",
            "ticks": ""
           }
          },
          "scene": {
           "xaxis": {
            "backgroundcolor": "#E5ECF6",
            "gridcolor": "white",
            "gridwidth": 2,
            "linecolor": "white",
            "showbackground": true,
            "ticks": "",
            "zerolinecolor": "white"
           },
           "yaxis": {
            "backgroundcolor": "#E5ECF6",
            "gridcolor": "white",
            "gridwidth": 2,
            "linecolor": "white",
            "showbackground": true,
            "ticks": "",
            "zerolinecolor": "white"
           },
           "zaxis": {
            "backgroundcolor": "#E5ECF6",
            "gridcolor": "white",
            "gridwidth": 2,
            "linecolor": "white",
            "showbackground": true,
            "ticks": "",
            "zerolinecolor": "white"
           }
          },
          "shapedefaults": {
           "line": {
            "color": "#2a3f5f"
           }
          },
          "ternary": {
           "aaxis": {
            "gridcolor": "white",
            "linecolor": "white",
            "ticks": ""
           },
           "baxis": {
            "gridcolor": "white",
            "linecolor": "white",
            "ticks": ""
           },
           "bgcolor": "#E5ECF6",
           "caxis": {
            "gridcolor": "white",
            "linecolor": "white",
            "ticks": ""
           }
          },
          "title": {
           "x": 0.05
          },
          "xaxis": {
           "automargin": true,
           "gridcolor": "white",
           "linecolor": "white",
           "ticks": "",
           "title": {
            "standoff": 15
           },
           "zerolinecolor": "white",
           "zerolinewidth": 2
          },
          "yaxis": {
           "automargin": true,
           "gridcolor": "white",
           "linecolor": "white",
           "ticks": "",
           "title": {
            "standoff": 15
           },
           "zerolinecolor": "white",
           "zerolinewidth": 2
          }
         }
        },
        "title": {
         "text": "Team Positions Over Matchdays (2023)",
         "x": 0.47,
         "xanchor": "center",
         "y": 0.9,
         "yanchor": "top"
        },
        "width": 1000,
        "xaxis": {
         "anchor": "y",
         "domain": [
          0,
          1
         ],
         "tickmode": "array",
         "tickvals": [
          1,
          2,
          3,
          4,
          5,
          6,
          7,
          8
         ],
         "title": {
          "text": "Matchday"
         }
        },
        "yaxis": {
         "anchor": "x",
         "autorange": "reversed",
         "domain": [
          0,
          1
         ],
         "tickmode": "array",
         "tickvals": [
          1,
          2,
          3,
          4,
          5,
          6,
          7,
          8,
          9,
          10,
          11,
          12,
          13,
          14,
          15,
          16,
          17,
          18,
          19,
          20
         ],
         "title": {
          "text": "Position"
         }
        }
       }
      },
      "text/html": [
       "<div>                            <div id=\"f37e7220-2b49-441d-bf8f-21018fbb62f4\" class=\"plotly-graph-div\" style=\"height:600px; width:1000px;\"></div>            <script type=\"text/javascript\">                require([\"plotly\"], function(Plotly) {                    window.PLOTLYENV=window.PLOTLYENV || {};                                    if (document.getElementById(\"f37e7220-2b49-441d-bf8f-21018fbb62f4\")) {                    Plotly.newPlot(                        \"f37e7220-2b49-441d-bf8f-21018fbb62f4\",                        [{\"hoverinfo\":\"text\",\"line\":{\"color\":\"#262f61\"},\"marker\":{\"color\":\"#262f61\"},\"mode\":\"lines+markers\",\"name\":\"Atleti\",\"text\":[\"Atleti\\u003cbr\\u003eMatchday 1\\u003cbr\\u003eDate: 2023-10-09\\u003cbr\\u003ePosition: 1\",\"Atleti\\u003cbr\\u003eMatchday 2\\u003cbr\\u003eDate: 2023-10-09\\u003cbr\\u003ePosition: 5\",\"Atleti\\u003cbr\\u003eMatchday 3\\u003cbr\\u003eDate: 2023-10-09\\u003cbr\\u003ePosition: 2\",\"Atleti\\u003cbr\\u003eMatchday 4\\u003cbr\\u003eDate: 2023-10-09\\u003cbr\\u003ePosition: 4\",\"Atleti\\u003cbr\\u003eMatchday 5\\u003cbr\\u003eDate: 2023-10-09\\u003cbr\\u003ePosition: 7\",\"Atleti\\u003cbr\\u003eMatchday 6\\u003cbr\\u003eDate: 2023-10-09\\u003cbr\\u003ePosition: 5\",\"Atleti\\u003cbr\\u003eMatchday 7\\u003cbr\\u003eDate: 2023-10-09\\u003cbr\\u003ePosition: 5\",\"Atleti\\u003cbr\\u003eMatchday 8\\u003cbr\\u003eDate: 2023-10-09\\u003cbr\\u003ePosition: 4\"],\"visible\":\"legendonly\",\"x\":[1,2,3,4,5,6,7,8],\"y\":[1,5,2,4,7,5,5,4],\"type\":\"scatter\"},{\"hoverinfo\":\"text\",\"line\":{\"color\":\"#e53027\"},\"marker\":{\"color\":\"#e53027\"},\"mode\":\"lines+markers\",\"name\":\"Rayo Vallecano\",\"text\":[\"Rayo Vallecano\\u003cbr\\u003eMatchday 1\\u003cbr\\u003eDate: 2023-10-09\\u003cbr\\u003ePosition: 2\",\"Rayo Vallecano\\u003cbr\\u003eMatchday 2\\u003cbr\\u003eDate: 2023-10-09\\u003cbr\\u003ePosition: 2\",\"Rayo Vallecano\\u003cbr\\u003eMatchday 3\\u003cbr\\u003eDate: 2023-10-09\\u003cbr\\u003ePosition: 8\",\"Rayo Vallecano\\u003cbr\\u003eMatchday 4\\u003cbr\\u003eDate: 2023-10-09\\u003cbr\\u003ePosition: 12\",\"Rayo Vallecano\\u003cbr\\u003eMatchday 5\\u003cbr\\u003eDate: 2023-10-09\\u003cbr\\u003ePosition: 6\",\"Rayo Vallecano\\u003cbr\\u003eMatchday 6\\u003cbr\\u003eDate: 2023-10-09\\u003cbr\\u003ePosition: 7\",\"Rayo Vallecano\\u003cbr\\u003eMatchday 7\\u003cbr\\u003eDate: 2023-10-09\\u003cbr\\u003ePosition: 7\",\"Rayo Vallecano\\u003cbr\\u003eMatchday 8\\u003cbr\\u003eDate: 2023-10-09\\u003cbr\\u003ePosition: 8\"],\"visible\":\"legendonly\",\"x\":[1,2,3,4,5,6,7,8],\"y\":[2,2,8,12,6,7,7,8],\"type\":\"scatter\"},{\"hoverinfo\":\"text\",\"line\":{\"color\":\"#fcbf00\"},\"marker\":{\"color\":\"#fcbf00\"},\"mode\":\"lines+markers\",\"name\":\"Real Madrid\",\"text\":[\"Real Madrid\\u003cbr\\u003eMatchday 1\\u003cbr\\u003eDate: 2023-10-09\\u003cbr\\u003ePosition: 3\",\"Real Madrid\\u003cbr\\u003eMatchday 2\\u003cbr\\u003eDate: 2023-10-09\\u003cbr\\u003ePosition: 1\",\"Real Madrid\\u003cbr\\u003eMatchday 3\\u003cbr\\u003eDate: 2023-10-09\\u003cbr\\u003ePosition: 1\",\"Real Madrid\\u003cbr\\u003eMatchday 4\\u003cbr\\u003eDate: 2023-10-09\\u003cbr\\u003ePosition: 1\",\"Real Madrid\\u003cbr\\u003eMatchday 5\\u003cbr\\u003eDate: 2023-10-09\\u003cbr\\u003ePosition: 1\",\"Real Madrid\\u003cbr\\u003eMatchday 6\\u003cbr\\u003eDate: 2023-10-09\\u003cbr\\u003ePosition: 3\",\"Real Madrid\\u003cbr\\u003eMatchday 7\\u003cbr\\u003eDate: 2023-10-09\\u003cbr\\u003ePosition: 2\",\"Real Madrid\\u003cbr\\u003eMatchday 8\\u003cbr\\u003eDate: 2023-10-09\\u003cbr\\u003ePosition: 1\"],\"visible\":\"legendonly\",\"x\":[1,2,3,4,5,6,7,8],\"y\":[3,1,1,1,1,3,2,1],\"type\":\"scatter\"},{\"hoverinfo\":\"text\",\"line\":{\"color\":\"#0a346f\"},\"marker\":{\"color\":\"#0a346f\"},\"mode\":\"lines+markers\",\"name\":\"Osasuna\",\"text\":[\"Osasuna\\u003cbr\\u003eMatchday 1\\u003cbr\\u003eDate: 2023-10-09\\u003cbr\\u003ePosition: 4\",\"Osasuna\\u003cbr\\u003eMatchday 2\\u003cbr\\u003eDate: 2023-10-09\\u003cbr\\u003ePosition: 10\",\"Osasuna\\u003cbr\\u003eMatchday 3\\u003cbr\\u003eDate: 2023-10-09\\u003cbr\\u003ePosition: 7\",\"Osasuna\\u003cbr\\u003eMatchday 4\\u003cbr\\u003eDate: 2023-10-09\\u003cbr\\u003ePosition: 9\",\"Osasuna\\u003cbr\\u003eMatchday 5\\u003cbr\\u003eDate: 2023-10-09\\u003cbr\\u003ePosition: 12\",\"Osasuna\\u003cbr\\u003eMatchday 6\\u003cbr\\u003eDate: 2023-10-09\\u003cbr\\u003ePosition: 11\",\"Osasuna\\u003cbr\\u003eMatchday 7\\u003cbr\\u003eDate: 2023-10-09\\u003cbr\\u003ePosition: 14\",\"Osasuna\\u003cbr\\u003eMatchday 8\\u003cbr\\u003eDate: 2023-10-09\\u003cbr\\u003ePosition: 10\"],\"visible\":\"legendonly\",\"x\":[1,2,3,4,5,6,7,8],\"y\":[4,10,7,9,12,11,14,10],\"type\":\"scatter\"},{\"hoverinfo\":\"text\",\"line\":{\"color\":\"#ee3524\"},\"marker\":{\"color\":\"#ee3524\"},\"mode\":\"lines+markers\",\"name\":\"Valencia\",\"text\":[\"Valencia\\u003cbr\\u003eMatchday 1\\u003cbr\\u003eDate: 2023-10-09\\u003cbr\\u003ePosition: 5\",\"Valencia\\u003cbr\\u003eMatchday 2\\u003cbr\\u003eDate: 2023-10-09\\u003cbr\\u003ePosition: 3\",\"Valencia\\u003cbr\\u003eMatchday 3\\u003cbr\\u003eDate: 2023-10-09\\u003cbr\\u003ePosition: 6\",\"Valencia\\u003cbr\\u003eMatchday 4\\u003cbr\\u003eDate: 2023-10-09\\u003cbr\\u003ePosition: 11\",\"Valencia\\u003cbr\\u003eMatchday 5\\u003cbr\\u003eDate: 2023-10-09\\u003cbr\\u003ePosition: 5\",\"Valencia\\u003cbr\\u003eMatchday 6\\u003cbr\\u003eDate: 2023-10-09\\u003cbr\\u003ePosition: 6\",\"Valencia\\u003cbr\\u003eMatchday 7\\u003cbr\\u003eDate: 2023-10-09\\u003cbr\\u003ePosition: 8\",\"Valencia\\u003cbr\\u003eMatchday 8\\u003cbr\\u003eDate: 2023-10-09\\u003cbr\\u003ePosition: 9\"],\"visible\":\"legendonly\",\"x\":[1,2,3,4,5,6,7,8],\"y\":[5,3,6,11,5,6,8,9],\"type\":\"scatter\"},{\"hoverinfo\":\"text\",\"line\":{\"color\":\"#00954c\"},\"marker\":{\"color\":\"#00954c\"},\"mode\":\"lines+markers\",\"name\":\"Real Betis\",\"text\":[\"Real Betis\\u003cbr\\u003eMatchday 1\\u003cbr\\u003eDate: 2023-10-09\\u003cbr\\u003ePosition: 6\",\"Real Betis\\u003cbr\\u003eMatchday 2\\u003cbr\\u003eDate: 2023-10-09\\u003cbr\\u003ePosition: 7\",\"Real Betis\\u003cbr\\u003eMatchday 3\\u003cbr\\u003eDate: 2023-10-09\\u003cbr\\u003ePosition: 9\",\"Real Betis\\u003cbr\\u003eMatchday 4\\u003cbr\\u003eDate: 2023-10-09\\u003cbr\\u003ePosition: 7\",\"Real Betis\\u003cbr\\u003eMatchday 5\\u003cbr\\u003eDate: 2023-10-09\\u003cbr\\u003ePosition: 10\",\"Real Betis\\u003cbr\\u003eMatchday 6\\u003cbr\\u003eDate: 2023-10-09\\u003cbr\\u003ePosition: 10\",\"Real Betis\\u003cbr\\u003eMatchday 7\\u003cbr\\u003eDate: 2023-10-09\\u003cbr\\u003ePosition: 10\",\"Real Betis\\u003cbr\\u003eMatchday 8\\u003cbr\\u003eDate: 2023-10-09\\u003cbr\\u003ePosition: 7\"],\"visible\":\"legendonly\",\"x\":[1,2,3,4,5,6,7,8],\"y\":[6,7,9,7,10,10,10,7],\"type\":\"scatter\"},{\"hoverinfo\":\"text\",\"line\":{\"color\":\"#fde607\"},\"marker\":{\"color\":\"#fde607\"},\"mode\":\"lines+markers\",\"name\":\"C\\u00e1diz CF\",\"text\":[\"C\\u00e1diz CF\\u003cbr\\u003eMatchday 1\\u003cbr\\u003eDate: 2023-10-09\\u003cbr\\u003ePosition: 7\",\"C\\u00e1diz CF\\u003cbr\\u003eMatchday 2\\u003cbr\\u003eDate: 2023-10-09\\u003cbr\\u003ePosition: 12\",\"C\\u00e1diz CF\\u003cbr\\u003eMatchday 3\\u003cbr\\u003eDate: 2023-10-09\\u003cbr\\u003ePosition: 10\",\"C\\u00e1diz CF\\u003cbr\\u003eMatchday 4\\u003cbr\\u003eDate: 2023-10-09\\u003cbr\\u003ePosition: 6\",\"C\\u00e1diz CF\\u003cbr\\u003eMatchday 5\\u003cbr\\u003eDate: 2023-10-09\\u003cbr\\u003ePosition: 9\",\"C\\u00e1diz CF\\u003cbr\\u003eMatchday 6\\u003cbr\\u003eDate: 2023-10-09\\u003cbr\\u003ePosition: 9\",\"C\\u00e1diz CF\\u003cbr\\u003eMatchday 7\\u003cbr\\u003eDate: 2023-10-09\\u003cbr\\u003ePosition: 9\",\"C\\u00e1diz CF\\u003cbr\\u003eMatchday 8\\u003cbr\\u003eDate: 2023-10-09\\u003cbr\\u003ePosition: 12\"],\"visible\":\"legendonly\",\"x\":[1,2,3,4,5,6,7,8],\"y\":[7,12,10,6,9,9,9,12],\"type\":\"scatter\"},{\"hoverinfo\":\"text\",\"line\":{\"color\":\"#143c8b\"},\"marker\":{\"color\":\"#143c8b\"},\"mode\":\"lines+markers\",\"name\":\"Real Sociedad\",\"text\":[\"Real Sociedad\\u003cbr\\u003eMatchday 1\\u003cbr\\u003eDate: 2023-10-09\\u003cbr\\u003ePosition: 8\",\"Real Sociedad\\u003cbr\\u003eMatchday 2\\u003cbr\\u003eDate: 2023-10-09\\u003cbr\\u003ePosition: 13\",\"Real Sociedad\\u003cbr\\u003eMatchday 3\\u003cbr\\u003eDate: 2023-10-09\\u003cbr\\u003ePosition: 12\",\"Real Sociedad\\u003cbr\\u003eMatchday 4\\u003cbr\\u003eDate: 2023-10-09\\u003cbr\\u003ePosition: 8\",\"Real Sociedad\\u003cbr\\u003eMatchday 5\\u003cbr\\u003eDate: 2023-10-09\\u003cbr\\u003ePosition: 11\",\"Real Sociedad\\u003cbr\\u003eMatchday 6\\u003cbr\\u003eDate: 2023-10-09\\u003cbr\\u003ePosition: 8\",\"Real Sociedad\\u003cbr\\u003eMatchday 7\\u003cbr\\u003eDate: 2023-10-09\\u003cbr\\u003ePosition: 6\",\"Real Sociedad\\u003cbr\\u003eMatchday 8\\u003cbr\\u003eDate: 2023-10-09\\u003cbr\\u003ePosition: 5\"],\"visible\":\"legendonly\",\"x\":[1,2,3,4,5,6,7,8],\"y\":[8,13,12,8,11,8,6,5],\"type\":\"scatter\"},{\"hoverinfo\":\"text\",\"line\":{\"color\":\"#cd2534\"},\"marker\":{\"color\":\"#cd2534\"},\"mode\":\"lines+markers\",\"name\":\"Girona\",\"text\":[\"Girona\\u003cbr\\u003eMatchday 1\\u003cbr\\u003eDate: 2023-10-09\\u003cbr\\u003ePosition: 9\",\"Girona\\u003cbr\\u003eMatchday 2\\u003cbr\\u003eDate: 2023-10-09\\u003cbr\\u003ePosition: 4\",\"Girona\\u003cbr\\u003eMatchday 3\\u003cbr\\u003eDate: 2023-10-09\\u003cbr\\u003ePosition: 3\",\"Girona\\u003cbr\\u003eMatchday 4\\u003cbr\\u003eDate: 2023-10-09\\u003cbr\\u003ePosition: 2\",\"Girona\\u003cbr\\u003eMatchday 5\\u003cbr\\u003eDate: 2023-10-09\\u003cbr\\u003ePosition: 3\",\"Girona\\u003cbr\\u003eMatchday 6\\u003cbr\\u003eDate: 2023-10-09\\u003cbr\\u003ePosition: 2\",\"Girona\\u003cbr\\u003eMatchday 7\\u003cbr\\u003eDate: 2023-10-09\\u003cbr\\u003ePosition: 1\",\"Girona\\u003cbr\\u003eMatchday 8\\u003cbr\\u003eDate: 2023-10-09\\u003cbr\\u003ePosition: 3\"],\"visible\":\"legendonly\",\"x\":[1,2,3,4,5,6,7,8],\"y\":[9,4,3,2,3,2,1,3],\"type\":\"scatter\"},{\"hoverinfo\":\"text\",\"line\":{\"color\":\"#004b9d\"},\"marker\":{\"color\":\"#004b9d\"},\"mode\":\"lines+markers\",\"name\":\"Las Palmas\",\"text\":[\"Las Palmas\\u003cbr\\u003eMatchday 1\\u003cbr\\u003eDate: 2023-10-09\\u003cbr\\u003ePosition: 10\",\"Las Palmas\\u003cbr\\u003eMatchday 2\\u003cbr\\u003eDate: 2023-10-09\\u003cbr\\u003ePosition: 14\",\"Las Palmas\\u003cbr\\u003eMatchday 3\\u003cbr\\u003eDate: 2023-10-09\\u003cbr\\u003ePosition: 16\",\"Las Palmas\\u003cbr\\u003eMatchday 4\\u003cbr\\u003eDate: 2023-10-09\\u003cbr\\u003ePosition: 18\",\"Las Palmas\\u003cbr\\u003eMatchday 5\\u003cbr\\u003eDate: 2023-10-09\\u003cbr\\u003ePosition: 19\",\"Las Palmas\\u003cbr\\u003eMatchday 6\\u003cbr\\u003eDate: 2023-10-09\\u003cbr\\u003ePosition: 15\",\"Las Palmas\\u003cbr\\u003eMatchday 7\\u003cbr\\u003eDate: 2023-10-09\\u003cbr\\u003ePosition: 18\",\"Las Palmas\\u003cbr\\u003eMatchday 8\\u003cbr\\u003eDate: 2023-10-09\\u003cbr\\u003ePosition: 14\"],\"visible\":\"legendonly\",\"x\":[1,2,3,4,5,6,7,8],\"y\":[10,14,16,18,19,15,18,14],\"type\":\"scatter\"},{\"hoverinfo\":\"text\",\"line\":{\"color\":\"#ed1b24\"},\"marker\":{\"color\":\"#ed1b24\"},\"mode\":\"lines+markers\",\"name\":\"Mallorca\",\"text\":[\"Mallorca\\u003cbr\\u003eMatchday 1\\u003cbr\\u003eDate: 2023-10-09\\u003cbr\\u003ePosition: 11\",\"Mallorca\\u003cbr\\u003eMatchday 2\\u003cbr\\u003eDate: 2023-10-09\\u003cbr\\u003ePosition: 15\",\"Mallorca\\u003cbr\\u003eMatchday 3\\u003cbr\\u003eDate: 2023-10-09\\u003cbr\\u003ePosition: 17\",\"Mallorca\\u003cbr\\u003eMatchday 4\\u003cbr\\u003eDate: 2023-10-09\\u003cbr\\u003ePosition: 17\",\"Mallorca\\u003cbr\\u003eMatchday 5\\u003cbr\\u003eDate: 2023-10-09\\u003cbr\\u003ePosition: 15\",\"Mallorca\\u003cbr\\u003eMatchday 6\\u003cbr\\u003eDate: 2023-10-09\\u003cbr\\u003ePosition: 16\",\"Mallorca\\u003cbr\\u003eMatchday 7\\u003cbr\\u003eDate: 2023-10-09\\u003cbr\\u003ePosition: 16\",\"Mallorca\\u003cbr\\u003eMatchday 8\\u003cbr\\u003eDate: 2023-10-09\\u003cbr\\u003ePosition: 16\"],\"visible\":\"legendonly\",\"x\":[1,2,3,4,5,6,7,8],\"y\":[11,15,17,17,15,16,16,16],\"type\":\"scatter\"},{\"hoverinfo\":\"text\",\"line\":{\"color\":\"#004fa3\"},\"marker\":{\"color\":\"#004fa3\"},\"mode\":\"lines+markers\",\"name\":\"Getafe\",\"text\":[\"Getafe\\u003cbr\\u003eMatchday 1\\u003cbr\\u003eDate: 2023-10-09\\u003cbr\\u003ePosition: 12\",\"Getafe\\u003cbr\\u003eMatchday 2\\u003cbr\\u003eDate: 2023-10-09\\u003cbr\\u003ePosition: 17\",\"Getafe\\u003cbr\\u003eMatchday 3\\u003cbr\\u003eDate: 2023-10-09\\u003cbr\\u003ePosition: 11\",\"Getafe\\u003cbr\\u003eMatchday 4\\u003cbr\\u003eDate: 2023-10-09\\u003cbr\\u003ePosition: 14\",\"Getafe\\u003cbr\\u003eMatchday 5\\u003cbr\\u003eDate: 2023-10-09\\u003cbr\\u003ePosition: 8\",\"Getafe\\u003cbr\\u003eMatchday 6\\u003cbr\\u003eDate: 2023-10-09\\u003cbr\\u003ePosition: 13\",\"Getafe\\u003cbr\\u003eMatchday 7\\u003cbr\\u003eDate: 2023-10-09\\u003cbr\\u003ePosition: 11\",\"Getafe\\u003cbr\\u003eMatchday 8\\u003cbr\\u003eDate: 2023-10-09\\u003cbr\\u003ePosition: 11\"],\"visible\":\"legendonly\",\"x\":[1,2,3,4,5,6,7,8],\"y\":[12,17,11,14,8,13,11,11],\"type\":\"scatter\"},{\"hoverinfo\":\"text\",\"line\":{\"color\":\"#a50044\"},\"marker\":{\"color\":\"#a50044\"},\"mode\":\"lines+markers\",\"name\":\"Bar\\u00e7a\",\"text\":[\"Bar\\u00e7a\\u003cbr\\u003eMatchday 1\\u003cbr\\u003eDate: 2023-10-09\\u003cbr\\u003ePosition: 13\",\"Bar\\u00e7a\\u003cbr\\u003eMatchday 2\\u003cbr\\u003eDate: 2023-10-09\\u003cbr\\u003ePosition: 6\",\"Bar\\u00e7a\\u003cbr\\u003eMatchday 3\\u003cbr\\u003eDate: 2023-10-09\\u003cbr\\u003ePosition: 4\",\"Bar\\u00e7a\\u003cbr\\u003eMatchday 4\\u003cbr\\u003eDate: 2023-10-09\\u003cbr\\u003ePosition: 3\",\"Bar\\u00e7a\\u003cbr\\u003eMatchday 5\\u003cbr\\u003eDate: 2023-10-09\\u003cbr\\u003ePosition: 2\",\"Bar\\u00e7a\\u003cbr\\u003eMatchday 6\\u003cbr\\u003eDate: 2023-10-09\\u003cbr\\u003ePosition: 1\",\"Bar\\u00e7a\\u003cbr\\u003eMatchday 7\\u003cbr\\u003eDate: 2023-10-09\\u003cbr\\u003ePosition: 3\",\"Bar\\u00e7a\\u003cbr\\u003eMatchday 8\\u003cbr\\u003eDate: 2023-10-09\\u003cbr\\u003ePosition: 2\"],\"visible\":\"legendonly\",\"x\":[1,2,3,4,5,6,7,8],\"y\":[13,6,4,3,2,1,3,2],\"type\":\"scatter\"},{\"hoverinfo\":\"text\",\"line\":{\"color\":\"#d70f21\"},\"marker\":{\"color\":\"#d70f21\"},\"mode\":\"lines+markers\",\"name\":\"Sevilla FC\",\"text\":[\"Sevilla FC\\u003cbr\\u003eMatchday 1\\u003cbr\\u003eDate: 2023-10-09\\u003cbr\\u003ePosition: 14\",\"Sevilla FC\\u003cbr\\u003eMatchday 2\\u003cbr\\u003eDate: 2023-10-09\\u003cbr\\u003ePosition: 18\",\"Sevilla FC\\u003cbr\\u003eMatchday 3\\u003cbr\\u003eDate: 2023-10-09\\u003cbr\\u003ePosition: 20\",\"Sevilla FC\\u003cbr\\u003eMatchday 4\\u003cbr\\u003eDate: 2023-10-09\\u003cbr\\u003ePosition: 20\",\"Sevilla FC\\u003cbr\\u003eMatchday 5\\u003cbr\\u003eDate: 2023-10-09\\u003cbr\\u003ePosition: 17\",\"Sevilla FC\\u003cbr\\u003eMatchday 6\\u003cbr\\u003eDate: 2023-10-09\\u003cbr\\u003ePosition: 17\",\"Sevilla FC\\u003cbr\\u003eMatchday 7\\u003cbr\\u003eDate: 2023-10-09\\u003cbr\\u003ePosition: 12\",\"Sevilla FC\\u003cbr\\u003eMatchday 8\\u003cbr\\u003eDate: 2023-10-09\\u003cbr\\u003ePosition: 15\"],\"visible\":\"legendonly\",\"x\":[1,2,3,4,5,6,7,8],\"y\":[14,18,20,20,17,17,12,15],\"type\":\"scatter\"},{\"hoverinfo\":\"text\",\"line\":{\"color\":\"#000\"},\"marker\":{\"color\":\"#000\"},\"mode\":\"lines+markers\",\"name\":\"Villarreal\",\"text\":[\"Villarreal\\u003cbr\\u003eMatchday 1\\u003cbr\\u003eDate: 2023-10-09\\u003cbr\\u003ePosition: 15\",\"Villarreal\\u003cbr\\u003eMatchday 2\\u003cbr\\u003eDate: 2023-10-09\\u003cbr\\u003ePosition: 11\",\"Villarreal\\u003cbr\\u003eMatchday 3\\u003cbr\\u003eDate: 2023-10-09\\u003cbr\\u003ePosition: 13\",\"Villarreal\\u003cbr\\u003eMatchday 4\\u003cbr\\u003eDate: 2023-10-09\\u003cbr\\u003ePosition: 15\",\"Villarreal\\u003cbr\\u003eMatchday 5\\u003cbr\\u003eDate: 2023-10-09\\u003cbr\\u003ePosition: 13\",\"Villarreal\\u003cbr\\u003eMatchday 6\\u003cbr\\u003eDate: 2023-10-09\\u003cbr\\u003ePosition: 12\",\"Villarreal\\u003cbr\\u003eMatchday 7\\u003cbr\\u003eDate: 2023-10-09\\u003cbr\\u003ePosition: 13\",\"Villarreal\\u003cbr\\u003eMatchday 8\\u003cbr\\u003eDate: 2023-10-09\\u003cbr\\u003ePosition: 13\"],\"visible\":\"legendonly\",\"x\":[1,2,3,4,5,6,7,8],\"y\":[15,11,13,15,13,12,13,13],\"type\":\"scatter\"},{\"hoverinfo\":\"text\",\"line\":{\"color\":\"#004fa3\"},\"marker\":{\"color\":\"#004fa3\"},\"mode\":\"lines+markers\",\"name\":\"Alav\\u00e9s\",\"text\":[\"Alav\\u00e9s\\u003cbr\\u003eMatchday 1\\u003cbr\\u003eDate: 2023-10-09\\u003cbr\\u003ePosition: 16\",\"Alav\\u00e9s\\u003cbr\\u003eMatchday 2\\u003cbr\\u003eDate: 2023-10-09\\u003cbr\\u003ePosition: 8\",\"Alav\\u00e9s\\u003cbr\\u003eMatchday 3\\u003cbr\\u003eDate: 2023-10-09\\u003cbr\\u003ePosition: 14\",\"Alav\\u00e9s\\u003cbr\\u003eMatchday 4\\u003cbr\\u003eDate: 2023-10-09\\u003cbr\\u003ePosition: 10\",\"Alav\\u00e9s\\u003cbr\\u003eMatchday 5\\u003cbr\\u003eDate: 2023-10-09\\u003cbr\\u003ePosition: 14\",\"Alav\\u00e9s\\u003cbr\\u003eMatchday 6\\u003cbr\\u003eDate: 2023-10-09\\u003cbr\\u003ePosition: 14\",\"Alav\\u00e9s\\u003cbr\\u003eMatchday 7\\u003cbr\\u003eDate: 2023-10-09\\u003cbr\\u003ePosition: 15\",\"Alav\\u00e9s\\u003cbr\\u003eMatchday 8\\u003cbr\\u003eDate: 2023-10-09\\u003cbr\\u003ePosition: 17\"],\"visible\":\"legendonly\",\"x\":[1,2,3,4,5,6,7,8],\"y\":[16,8,14,10,14,14,15,17],\"type\":\"scatter\"},{\"hoverinfo\":\"text\",\"line\":{\"color\":\"#e60d2e\"},\"marker\":{\"color\":\"#e60d2e\"},\"mode\":\"lines+markers\",\"name\":\"Granada\",\"text\":[\"Granada\\u003cbr\\u003eMatchday 1\\u003cbr\\u003eDate: 2023-10-09\\u003cbr\\u003ePosition: 17\",\"Granada\\u003cbr\\u003eMatchday 2\\u003cbr\\u003eDate: 2023-10-09\\u003cbr\\u003ePosition: 20\",\"Granada\\u003cbr\\u003eMatchday 3\\u003cbr\\u003eDate: 2023-10-09\\u003cbr\\u003ePosition: 15\",\"Granada\\u003cbr\\u003eMatchday 4\\u003cbr\\u003eDate: 2023-10-09\\u003cbr\\u003ePosition: 16\",\"Granada\\u003cbr\\u003eMatchday 5\\u003cbr\\u003eDate: 2023-10-09\\u003cbr\\u003ePosition: 18\",\"Granada\\u003cbr\\u003eMatchday 6\\u003cbr\\u003eDate: 2023-10-09\\u003cbr\\u003ePosition: 19\",\"Granada\\u003cbr\\u003eMatchday 7\\u003cbr\\u003eDate: 2023-10-09\\u003cbr\\u003ePosition: 19\",\"Granada\\u003cbr\\u003eMatchday 8\\u003cbr\\u003eDate: 2023-10-09\\u003cbr\\u003ePosition: 19\"],\"visible\":\"legendonly\",\"x\":[1,2,3,4,5,6,7,8],\"y\":[17,20,15,16,18,19,19,19],\"type\":\"scatter\"},{\"hoverinfo\":\"text\",\"line\":{\"color\":\"#ee1119\"},\"marker\":{\"color\":\"#ee1119\"},\"mode\":\"lines+markers\",\"name\":\"Almer\\u00eda\",\"text\":[\"Almer\\u00eda\\u003cbr\\u003eMatchday 1\\u003cbr\\u003eDate: 2023-10-09\\u003cbr\\u003ePosition: 18\",\"Almer\\u00eda\\u003cbr\\u003eMatchday 2\\u003cbr\\u003eDate: 2023-10-09\\u003cbr\\u003ePosition: 19\",\"Almer\\u00eda\\u003cbr\\u003eMatchday 3\\u003cbr\\u003eDate: 2023-10-09\\u003cbr\\u003ePosition: 19\",\"Almer\\u00eda\\u003cbr\\u003eMatchday 4\\u003cbr\\u003eDate: 2023-10-09\\u003cbr\\u003ePosition: 19\",\"Almer\\u00eda\\u003cbr\\u003eMatchday 5\\u003cbr\\u003eDate: 2023-10-09\\u003cbr\\u003ePosition: 20\",\"Almer\\u00eda\\u003cbr\\u003eMatchday 6\\u003cbr\\u003eDate: 2023-10-09\\u003cbr\\u003ePosition: 20\",\"Almer\\u00eda\\u003cbr\\u003eMatchday 7\\u003cbr\\u003eDate: 2023-10-09\\u003cbr\\u003ePosition: 20\",\"Almer\\u00eda\\u003cbr\\u003eMatchday 8\\u003cbr\\u003eDate: 2023-10-09\\u003cbr\\u003ePosition: 20\"],\"visible\":\"legendonly\",\"x\":[1,2,3,4,5,6,7,8],\"y\":[18,19,19,19,20,20,20,20],\"type\":\"scatter\"},{\"hoverinfo\":\"text\",\"line\":{\"color\":\"#ee2523\"},\"marker\":{\"color\":\"#ee2523\"},\"mode\":\"lines+markers\",\"name\":\"Athletic\",\"text\":[\"Athletic\\u003cbr\\u003eMatchday 1\\u003cbr\\u003eDate: 2023-10-09\\u003cbr\\u003ePosition: 19\",\"Athletic\\u003cbr\\u003eMatchday 2\\u003cbr\\u003eDate: 2023-10-09\\u003cbr\\u003ePosition: 9\",\"Athletic\\u003cbr\\u003eMatchday 3\\u003cbr\\u003eDate: 2023-10-09\\u003cbr\\u003ePosition: 5\",\"Athletic\\u003cbr\\u003eMatchday 4\\u003cbr\\u003eDate: 2023-10-09\\u003cbr\\u003ePosition: 5\",\"Athletic\\u003cbr\\u003eMatchday 5\\u003cbr\\u003eDate: 2023-10-09\\u003cbr\\u003ePosition: 4\",\"Athletic\\u003cbr\\u003eMatchday 6\\u003cbr\\u003eDate: 2023-10-09\\u003cbr\\u003ePosition: 4\",\"Athletic\\u003cbr\\u003eMatchday 7\\u003cbr\\u003eDate: 2023-10-09\\u003cbr\\u003ePosition: 4\",\"Athletic\\u003cbr\\u003eMatchday 8\\u003cbr\\u003eDate: 2023-10-09\\u003cbr\\u003ePosition: 6\"],\"visible\":\"legendonly\",\"x\":[1,2,3,4,5,6,7,8],\"y\":[19,9,5,5,4,4,4,6],\"type\":\"scatter\"},{\"hoverinfo\":\"text\",\"line\":{\"color\":\"#e5254e\"},\"marker\":{\"color\":\"#e5254e\"},\"mode\":\"lines+markers\",\"name\":\"Celta\",\"text\":[\"Celta\\u003cbr\\u003eMatchday 1\\u003cbr\\u003eDate: 2023-10-09\\u003cbr\\u003ePosition: 20\",\"Celta\\u003cbr\\u003eMatchday 2\\u003cbr\\u003eDate: 2023-10-09\\u003cbr\\u003ePosition: 16\",\"Celta\\u003cbr\\u003eMatchday 3\\u003cbr\\u003eDate: 2023-10-09\\u003cbr\\u003ePosition: 18\",\"Celta\\u003cbr\\u003eMatchday 4\\u003cbr\\u003eDate: 2023-10-09\\u003cbr\\u003ePosition: 13\",\"Celta\\u003cbr\\u003eMatchday 5\\u003cbr\\u003eDate: 2023-10-09\\u003cbr\\u003ePosition: 16\",\"Celta\\u003cbr\\u003eMatchday 6\\u003cbr\\u003eDate: 2023-10-09\\u003cbr\\u003ePosition: 18\",\"Celta\\u003cbr\\u003eMatchday 7\\u003cbr\\u003eDate: 2023-10-09\\u003cbr\\u003ePosition: 17\",\"Celta\\u003cbr\\u003eMatchday 8\\u003cbr\\u003eDate: 2023-10-09\\u003cbr\\u003ePosition: 18\"],\"visible\":\"legendonly\",\"x\":[1,2,3,4,5,6,7,8],\"y\":[20,16,18,13,16,18,17,18],\"type\":\"scatter\"}],                        {\"template\":{\"data\":{\"histogram2dcontour\":[{\"type\":\"histogram2dcontour\",\"colorbar\":{\"outlinewidth\":0,\"ticks\":\"\"},\"colorscale\":[[0.0,\"#0d0887\"],[0.1111111111111111,\"#46039f\"],[0.2222222222222222,\"#7201a8\"],[0.3333333333333333,\"#9c179e\"],[0.4444444444444444,\"#bd3786\"],[0.5555555555555556,\"#d8576b\"],[0.6666666666666666,\"#ed7953\"],[0.7777777777777778,\"#fb9f3a\"],[0.8888888888888888,\"#fdca26\"],[1.0,\"#f0f921\"]]}],\"choropleth\":[{\"type\":\"choropleth\",\"colorbar\":{\"outlinewidth\":0,\"ticks\":\"\"}}],\"histogram2d\":[{\"type\":\"histogram2d\",\"colorbar\":{\"outlinewidth\":0,\"ticks\":\"\"},\"colorscale\":[[0.0,\"#0d0887\"],[0.1111111111111111,\"#46039f\"],[0.2222222222222222,\"#7201a8\"],[0.3333333333333333,\"#9c179e\"],[0.4444444444444444,\"#bd3786\"],[0.5555555555555556,\"#d8576b\"],[0.6666666666666666,\"#ed7953\"],[0.7777777777777778,\"#fb9f3a\"],[0.8888888888888888,\"#fdca26\"],[1.0,\"#f0f921\"]]}],\"heatmap\":[{\"type\":\"heatmap\",\"colorbar\":{\"outlinewidth\":0,\"ticks\":\"\"},\"colorscale\":[[0.0,\"#0d0887\"],[0.1111111111111111,\"#46039f\"],[0.2222222222222222,\"#7201a8\"],[0.3333333333333333,\"#9c179e\"],[0.4444444444444444,\"#bd3786\"],[0.5555555555555556,\"#d8576b\"],[0.6666666666666666,\"#ed7953\"],[0.7777777777777778,\"#fb9f3a\"],[0.8888888888888888,\"#fdca26\"],[1.0,\"#f0f921\"]]}],\"heatmapgl\":[{\"type\":\"heatmapgl\",\"colorbar\":{\"outlinewidth\":0,\"ticks\":\"\"},\"colorscale\":[[0.0,\"#0d0887\"],[0.1111111111111111,\"#46039f\"],[0.2222222222222222,\"#7201a8\"],[0.3333333333333333,\"#9c179e\"],[0.4444444444444444,\"#bd3786\"],[0.5555555555555556,\"#d8576b\"],[0.6666666666666666,\"#ed7953\"],[0.7777777777777778,\"#fb9f3a\"],[0.8888888888888888,\"#fdca26\"],[1.0,\"#f0f921\"]]}],\"contourcarpet\":[{\"type\":\"contourcarpet\",\"colorbar\":{\"outlinewidth\":0,\"ticks\":\"\"}}],\"contour\":[{\"type\":\"contour\",\"colorbar\":{\"outlinewidth\":0,\"ticks\":\"\"},\"colorscale\":[[0.0,\"#0d0887\"],[0.1111111111111111,\"#46039f\"],[0.2222222222222222,\"#7201a8\"],[0.3333333333333333,\"#9c179e\"],[0.4444444444444444,\"#bd3786\"],[0.5555555555555556,\"#d8576b\"],[0.6666666666666666,\"#ed7953\"],[0.7777777777777778,\"#fb9f3a\"],[0.8888888888888888,\"#fdca26\"],[1.0,\"#f0f921\"]]}],\"surface\":[{\"type\":\"surface\",\"colorbar\":{\"outlinewidth\":0,\"ticks\":\"\"},\"colorscale\":[[0.0,\"#0d0887\"],[0.1111111111111111,\"#46039f\"],[0.2222222222222222,\"#7201a8\"],[0.3333333333333333,\"#9c179e\"],[0.4444444444444444,\"#bd3786\"],[0.5555555555555556,\"#d8576b\"],[0.6666666666666666,\"#ed7953\"],[0.7777777777777778,\"#fb9f3a\"],[0.8888888888888888,\"#fdca26\"],[1.0,\"#f0f921\"]]}],\"mesh3d\":[{\"type\":\"mesh3d\",\"colorbar\":{\"outlinewidth\":0,\"ticks\":\"\"}}],\"scatter\":[{\"fillpattern\":{\"fillmode\":\"overlay\",\"size\":10,\"solidity\":0.2},\"type\":\"scatter\"}],\"parcoords\":[{\"type\":\"parcoords\",\"line\":{\"colorbar\":{\"outlinewidth\":0,\"ticks\":\"\"}}}],\"scatterpolargl\":[{\"type\":\"scatterpolargl\",\"marker\":{\"colorbar\":{\"outlinewidth\":0,\"ticks\":\"\"}}}],\"bar\":[{\"error_x\":{\"color\":\"#2a3f5f\"},\"error_y\":{\"color\":\"#2a3f5f\"},\"marker\":{\"line\":{\"color\":\"#E5ECF6\",\"width\":0.5},\"pattern\":{\"fillmode\":\"overlay\",\"size\":10,\"solidity\":0.2}},\"type\":\"bar\"}],\"scattergeo\":[{\"type\":\"scattergeo\",\"marker\":{\"colorbar\":{\"outlinewidth\":0,\"ticks\":\"\"}}}],\"scatterpolar\":[{\"type\":\"scatterpolar\",\"marker\":{\"colorbar\":{\"outlinewidth\":0,\"ticks\":\"\"}}}],\"histogram\":[{\"marker\":{\"pattern\":{\"fillmode\":\"overlay\",\"size\":10,\"solidity\":0.2}},\"type\":\"histogram\"}],\"scattergl\":[{\"type\":\"scattergl\",\"marker\":{\"colorbar\":{\"outlinewidth\":0,\"ticks\":\"\"}}}],\"scatter3d\":[{\"type\":\"scatter3d\",\"line\":{\"colorbar\":{\"outlinewidth\":0,\"ticks\":\"\"}},\"marker\":{\"colorbar\":{\"outlinewidth\":0,\"ticks\":\"\"}}}],\"scattermapbox\":[{\"type\":\"scattermapbox\",\"marker\":{\"colorbar\":{\"outlinewidth\":0,\"ticks\":\"\"}}}],\"scatterternary\":[{\"type\":\"scatterternary\",\"marker\":{\"colorbar\":{\"outlinewidth\":0,\"ticks\":\"\"}}}],\"scattercarpet\":[{\"type\":\"scattercarpet\",\"marker\":{\"colorbar\":{\"outlinewidth\":0,\"ticks\":\"\"}}}],\"carpet\":[{\"aaxis\":{\"endlinecolor\":\"#2a3f5f\",\"gridcolor\":\"white\",\"linecolor\":\"white\",\"minorgridcolor\":\"white\",\"startlinecolor\":\"#2a3f5f\"},\"baxis\":{\"endlinecolor\":\"#2a3f5f\",\"gridcolor\":\"white\",\"linecolor\":\"white\",\"minorgridcolor\":\"white\",\"startlinecolor\":\"#2a3f5f\"},\"type\":\"carpet\"}],\"table\":[{\"cells\":{\"fill\":{\"color\":\"#EBF0F8\"},\"line\":{\"color\":\"white\"}},\"header\":{\"fill\":{\"color\":\"#C8D4E3\"},\"line\":{\"color\":\"white\"}},\"type\":\"table\"}],\"barpolar\":[{\"marker\":{\"line\":{\"color\":\"#E5ECF6\",\"width\":0.5},\"pattern\":{\"fillmode\":\"overlay\",\"size\":10,\"solidity\":0.2}},\"type\":\"barpolar\"}],\"pie\":[{\"automargin\":true,\"type\":\"pie\"}]},\"layout\":{\"autotypenumbers\":\"strict\",\"colorway\":[\"#636efa\",\"#EF553B\",\"#00cc96\",\"#ab63fa\",\"#FFA15A\",\"#19d3f3\",\"#FF6692\",\"#B6E880\",\"#FF97FF\",\"#FECB52\"],\"font\":{\"color\":\"#2a3f5f\"},\"hovermode\":\"closest\",\"hoverlabel\":{\"align\":\"left\"},\"paper_bgcolor\":\"white\",\"plot_bgcolor\":\"#E5ECF6\",\"polar\":{\"bgcolor\":\"#E5ECF6\",\"angularaxis\":{\"gridcolor\":\"white\",\"linecolor\":\"white\",\"ticks\":\"\"},\"radialaxis\":{\"gridcolor\":\"white\",\"linecolor\":\"white\",\"ticks\":\"\"}},\"ternary\":{\"bgcolor\":\"#E5ECF6\",\"aaxis\":{\"gridcolor\":\"white\",\"linecolor\":\"white\",\"ticks\":\"\"},\"baxis\":{\"gridcolor\":\"white\",\"linecolor\":\"white\",\"ticks\":\"\"},\"caxis\":{\"gridcolor\":\"white\",\"linecolor\":\"white\",\"ticks\":\"\"}},\"coloraxis\":{\"colorbar\":{\"outlinewidth\":0,\"ticks\":\"\"}},\"colorscale\":{\"sequential\":[[0.0,\"#0d0887\"],[0.1111111111111111,\"#46039f\"],[0.2222222222222222,\"#7201a8\"],[0.3333333333333333,\"#9c179e\"],[0.4444444444444444,\"#bd3786\"],[0.5555555555555556,\"#d8576b\"],[0.6666666666666666,\"#ed7953\"],[0.7777777777777778,\"#fb9f3a\"],[0.8888888888888888,\"#fdca26\"],[1.0,\"#f0f921\"]],\"sequentialminus\":[[0.0,\"#0d0887\"],[0.1111111111111111,\"#46039f\"],[0.2222222222222222,\"#7201a8\"],[0.3333333333333333,\"#9c179e\"],[0.4444444444444444,\"#bd3786\"],[0.5555555555555556,\"#d8576b\"],[0.6666666666666666,\"#ed7953\"],[0.7777777777777778,\"#fb9f3a\"],[0.8888888888888888,\"#fdca26\"],[1.0,\"#f0f921\"]],\"diverging\":[[0,\"#8e0152\"],[0.1,\"#c51b7d\"],[0.2,\"#de77ae\"],[0.3,\"#f1b6da\"],[0.4,\"#fde0ef\"],[0.5,\"#f7f7f7\"],[0.6,\"#e6f5d0\"],[0.7,\"#b8e186\"],[0.8,\"#7fbc41\"],[0.9,\"#4d9221\"],[1,\"#276419\"]]},\"xaxis\":{\"gridcolor\":\"white\",\"linecolor\":\"white\",\"ticks\":\"\",\"title\":{\"standoff\":15},\"zerolinecolor\":\"white\",\"automargin\":true,\"zerolinewidth\":2},\"yaxis\":{\"gridcolor\":\"white\",\"linecolor\":\"white\",\"ticks\":\"\",\"title\":{\"standoff\":15},\"zerolinecolor\":\"white\",\"automargin\":true,\"zerolinewidth\":2},\"scene\":{\"xaxis\":{\"backgroundcolor\":\"#E5ECF6\",\"gridcolor\":\"white\",\"linecolor\":\"white\",\"showbackground\":true,\"ticks\":\"\",\"zerolinecolor\":\"white\",\"gridwidth\":2},\"yaxis\":{\"backgroundcolor\":\"#E5ECF6\",\"gridcolor\":\"white\",\"linecolor\":\"white\",\"showbackground\":true,\"ticks\":\"\",\"zerolinecolor\":\"white\",\"gridwidth\":2},\"zaxis\":{\"backgroundcolor\":\"#E5ECF6\",\"gridcolor\":\"white\",\"linecolor\":\"white\",\"showbackground\":true,\"ticks\":\"\",\"zerolinecolor\":\"white\",\"gridwidth\":2}},\"shapedefaults\":{\"line\":{\"color\":\"#2a3f5f\"}},\"annotationdefaults\":{\"arrowcolor\":\"#2a3f5f\",\"arrowhead\":0,\"arrowwidth\":1},\"geo\":{\"bgcolor\":\"white\",\"landcolor\":\"#E5ECF6\",\"subunitcolor\":\"white\",\"showland\":true,\"showlakes\":true,\"lakecolor\":\"white\"},\"title\":{\"x\":0.05},\"mapbox\":{\"style\":\"light\"}}},\"xaxis\":{\"anchor\":\"y\",\"domain\":[0.0,1.0],\"tickmode\":\"array\",\"tickvals\":[1,2,3,4,5,6,7,8],\"title\":{\"text\":\"Matchday\"}},\"yaxis\":{\"anchor\":\"x\",\"domain\":[0.0,1.0],\"autorange\":\"reversed\",\"tickmode\":\"array\",\"tickvals\":[1,2,3,4,5,6,7,8,9,10,11,12,13,14,15,16,17,18,19,20],\"title\":{\"text\":\"Position\"}},\"shapes\":[{\"fillcolor\":\"green\",\"line\":{\"width\":0},\"opacity\":0.15,\"type\":\"rect\",\"x0\":0,\"x1\":1,\"xref\":\"x domain\",\"y0\":0.5,\"y1\":4.5,\"yref\":\"y\"},{\"fillcolor\":\"blue\",\"line\":{\"width\":0},\"opacity\":0.15,\"type\":\"rect\",\"x0\":0,\"x1\":1,\"xref\":\"x domain\",\"y0\":4.5,\"y1\":6.5,\"yref\":\"y\"},{\"fillcolor\":\"red\",\"line\":{\"width\":0},\"opacity\":0.15,\"type\":\"rect\",\"x0\":0,\"x1\":1,\"xref\":\"x domain\",\"y0\":17.5,\"y1\":20.5,\"yref\":\"y\"}],\"title\":{\"text\":\"Team Positions Over Matchdays (2023)\",\"y\":0.9,\"x\":0.47,\"xanchor\":\"center\",\"yanchor\":\"top\"},\"legend\":{\"x\":1.05,\"y\":1,\"title\":{\"text\":\"Clubs\"}},\"hovermode\":\"closest\",\"width\":1000,\"height\":600},                        {\"responsive\": true}                    ).then(function(){\n",
       "                            \n",
       "var gd = document.getElementById('f37e7220-2b49-441d-bf8f-21018fbb62f4');\n",
       "var x = new MutationObserver(function (mutations, observer) {{\n",
       "        var display = window.getComputedStyle(gd).display;\n",
       "        if (!display || display === 'none') {{\n",
       "            console.log([gd, 'removed!']);\n",
       "            Plotly.purge(gd);\n",
       "            observer.disconnect();\n",
       "        }}\n",
       "}});\n",
       "\n",
       "// Listen for the removal of the full notebook cells\n",
       "var notebookContainer = gd.closest('#notebook-container');\n",
       "if (notebookContainer) {{\n",
       "    x.observe(notebookContainer, {childList: true});\n",
       "}}\n",
       "\n",
       "// Listen for the clearing of the current output cell\n",
       "var outputEl = gd.closest('.output');\n",
       "if (outputEl) {{\n",
       "    x.observe(outputEl, {childList: true});\n",
       "}}\n",
       "\n",
       "                        })                };                });            </script>        </div>"
      ]
     },
     "metadata": {},
     "output_type": "display_data"
    }
   ],
   "source": [
    "import plotly.graph_objs as go\n",
    "from plotly.subplots import make_subplots\n",
    "\n",
    "# Assume teams_positions is already defined\n",
    "\n",
    "# Create subplots\n",
    "fig = make_subplots(rows=1, cols=1)\n",
    "val = 0\n",
    "# Plotting each team's positions across matchdays\n",
    "for team, positions in teams_positions.items():\n",
    "    \n",
    "    # You can add more details within the hover text such as the team's name and matchday.\n",
    "    hover_text = [f\"{team}<br>Matchday {matchday}<br>Date: {matchday_list[-4]}<br>Position: {position}\" for matchday, position in zip(matchdays, positions)]\n",
    "    fig.add_trace(\n",
    "        go.Scatter(\n",
    "            x=matchdays,\n",
    "            y=positions,\n",
    "            mode='lines+markers',\n",
    "            name=team,\n",
    "            text=hover_text,  # This is where you set the hover text\n",
    "            hoverinfo='text', \n",
    "            line=dict(color=team_colors.get(team, '#000')),  # Use the team's color, default to black if not found\n",
    "            marker=dict(color=team_colors.get(team, '#000')), # Display the text on hover\n",
    "            visible='legendonly'\n",
    "        )\n",
    "    )\n",
    "    if val == len(matchday_list) - 1:\n",
    "        val =-1 \n",
    "    val += 1\n",
    "\n",
    "# Highlighting y-values from 1 to 4 with a green background\n",
    "fig.add_hrect(y0=0.5, y1=4.5, line_width=0, fillcolor=\"green\", opacity=0.15)\n",
    "fig.add_hrect(y0=4.5, y1=6.5, line_width=0, fillcolor=\"blue\", opacity=0.15)\n",
    "fig.add_hrect(y0=17.5, y1=20.5, line_width=0, fillcolor=\"red\", opacity=0.15)\n",
    "\n",
    "\n",
    "\n",
    "\n",
    "# Update y-axis\n",
    "fig.update_yaxes(autorange=\"reversed\", tickmode='array', tickvals=list(range(1, 21)), title='Position')\n",
    "\n",
    "# Update x-axis\n",
    "fig.update_xaxes(tickmode='array', tickvals=list(range(1, 9)), title='Matchday')\n",
    "\n",
    "# Update layout\n",
    "fig.update_layout(\n",
    "    title={\n",
    "        'text': \"Team Positions Over Matchdays (2023)\",\n",
    "        'y':0.9,\n",
    "        'x':0.47,\n",
    "        'xanchor': 'center',\n",
    "        'yanchor': 'top'\n",
    "    },\n",
    "    legend=dict(x=1.05, y=1, title='Clubs'),\n",
    "    hovermode=\"closest\"\n",
    ")\n",
    "\n",
    "# Update the size of the figure (optional)\n",
    "fig.update_layout(width=1000, height=600)\n",
    "\n",
    "# Show figure\n",
    "fig.show()\n"
   ]
  },
  {
   "cell_type": "markdown",
   "id": "7e3e11c3",
   "metadata": {},
   "source": [
    "# TEAM POINTS CHART"
   ]
  },
  {
   "cell_type": "code",
   "execution_count": 12,
   "id": "5b5a0d0b",
   "metadata": {},
   "outputs": [],
   "source": [
    "teams_points = {}\n",
    "for md in range(0,8):\n",
    "    response = requests.get(\n",
    "        f'https://api.football-data.org/v4/competitions/PD/standings?date='+matchday_list[md],\n",
    "        headers=headers\n",
    "    )\n",
    "    data2 = response.json()\n",
    "    \n",
    "    \n",
    "    for team in data2['standings'][0]['table'] :\n",
    "        sn = team['team']['shortName']\n",
    "        tp = team['points']\n",
    "        if sn not in teams_points:\n",
    "            teams_points[sn] = []\n",
    "        teams_points[sn].append(tp)"
   ]
  },
  {
   "cell_type": "code",
   "execution_count": 13,
   "id": "159f47da",
   "metadata": {},
   "outputs": [
    {
     "data": {
      "application/vnd.plotly.v1+json": {
       "config": {
        "plotlyServerURL": "https://plot.ly"
       },
       "data": [
        {
         "hoverinfo": "text",
         "line": {
          "color": "#262f61"
         },
         "marker": {
          "color": "#262f61"
         },
         "mode": "lines+markers",
         "name": "Atleti",
         "text": [
          "Atleti<br>Matchday 1<br>Date: 2023-10-24<br>Points: 3",
          "Atleti<br>Matchday 2<br>Date: 2023-10-24<br>Points: 4",
          "Atleti<br>Matchday 3<br>Date: 2023-10-24<br>Points: 7",
          "Atleti<br>Matchday 4<br>Date: 2023-10-24<br>Points: 7",
          "Atleti<br>Matchday 5<br>Date: 2023-10-24<br>Points: 7",
          "Atleti<br>Matchday 6<br>Date: 2023-10-24<br>Points: 10",
          "Atleti<br>Matchday 7<br>Date: 2023-10-24<br>Points: 13",
          "Atleti<br>Matchday 8<br>Date: 2023-10-24<br>Points: 16"
         ],
         "type": "scatter",
         "visible": "legendonly",
         "x": [
          1,
          2,
          3,
          4,
          5,
          6,
          7,
          8
         ],
         "y": [
          3,
          4,
          7,
          7,
          7,
          10,
          13,
          16
         ]
        },
        {
         "hoverinfo": "text",
         "line": {
          "color": "#e53027"
         },
         "marker": {
          "color": "#e53027"
         },
         "mode": "lines+markers",
         "name": "Rayo Vallecano",
         "text": [
          "Rayo Vallecano<br>Matchday 1<br>Date: 2023-10-24<br>Points: 3",
          "Rayo Vallecano<br>Matchday 2<br>Date: 2023-10-24<br>Points: 6",
          "Rayo Vallecano<br>Matchday 3<br>Date: 2023-10-24<br>Points: 6",
          "Rayo Vallecano<br>Matchday 4<br>Date: 2023-10-24<br>Points: 6",
          "Rayo Vallecano<br>Matchday 5<br>Date: 2023-10-24<br>Points: 9",
          "Rayo Vallecano<br>Matchday 6<br>Date: 2023-10-24<br>Points: 10",
          "Rayo Vallecano<br>Matchday 7<br>Date: 2023-10-24<br>Points: 11",
          "Rayo Vallecano<br>Matchday 8<br>Date: 2023-10-24<br>Points: 12"
         ],
         "type": "scatter",
         "visible": "legendonly",
         "x": [
          1,
          2,
          3,
          4,
          5,
          6,
          7,
          8
         ],
         "y": [
          3,
          6,
          6,
          6,
          9,
          10,
          11,
          12
         ]
        },
        {
         "hoverinfo": "text",
         "line": {
          "color": "#fcbf00"
         },
         "marker": {
          "color": "#fcbf00"
         },
         "mode": "lines+markers",
         "name": "Real Madrid",
         "text": [
          "Real Madrid<br>Matchday 1<br>Date: 2023-10-24<br>Points: 3",
          "Real Madrid<br>Matchday 2<br>Date: 2023-10-24<br>Points: 6",
          "Real Madrid<br>Matchday 3<br>Date: 2023-10-24<br>Points: 9",
          "Real Madrid<br>Matchday 4<br>Date: 2023-10-24<br>Points: 12",
          "Real Madrid<br>Matchday 5<br>Date: 2023-10-24<br>Points: 15",
          "Real Madrid<br>Matchday 6<br>Date: 2023-10-24<br>Points: 15",
          "Real Madrid<br>Matchday 7<br>Date: 2023-10-24<br>Points: 18",
          "Real Madrid<br>Matchday 8<br>Date: 2023-10-24<br>Points: 21"
         ],
         "type": "scatter",
         "visible": "legendonly",
         "x": [
          1,
          2,
          3,
          4,
          5,
          6,
          7,
          8
         ],
         "y": [
          3,
          6,
          9,
          12,
          15,
          15,
          18,
          21
         ]
        },
        {
         "hoverinfo": "text",
         "line": {
          "color": "#0a346f"
         },
         "marker": {
          "color": "#0a346f"
         },
         "mode": "lines+markers",
         "name": "Osasuna",
         "text": [
          "Osasuna<br>Matchday 1<br>Date: 2023-10-24<br>Points: 3",
          "Osasuna<br>Matchday 2<br>Date: 2023-10-24<br>Points: 3",
          "Osasuna<br>Matchday 3<br>Date: 2023-10-24<br>Points: 6",
          "Osasuna<br>Matchday 4<br>Date: 2023-10-24<br>Points: 6",
          "Osasuna<br>Matchday 5<br>Date: 2023-10-24<br>Points: 6",
          "Osasuna<br>Matchday 6<br>Date: 2023-10-24<br>Points: 7",
          "Osasuna<br>Matchday 7<br>Date: 2023-10-24<br>Points: 7",
          "Osasuna<br>Matchday 8<br>Date: 2023-10-24<br>Points: 10"
         ],
         "type": "scatter",
         "visible": "legendonly",
         "x": [
          1,
          2,
          3,
          4,
          5,
          6,
          7,
          8
         ],
         "y": [
          3,
          3,
          6,
          6,
          6,
          7,
          7,
          10
         ]
        },
        {
         "hoverinfo": "text",
         "line": {
          "color": "#ee3524"
         },
         "marker": {
          "color": "#ee3524"
         },
         "mode": "lines+markers",
         "name": "Valencia",
         "text": [
          "Valencia<br>Matchday 1<br>Date: 2023-10-24<br>Points: 3",
          "Valencia<br>Matchday 2<br>Date: 2023-10-24<br>Points: 6",
          "Valencia<br>Matchday 3<br>Date: 2023-10-24<br>Points: 6",
          "Valencia<br>Matchday 4<br>Date: 2023-10-24<br>Points: 6",
          "Valencia<br>Matchday 5<br>Date: 2023-10-24<br>Points: 9",
          "Valencia<br>Matchday 6<br>Date: 2023-10-24<br>Points: 10",
          "Valencia<br>Matchday 7<br>Date: 2023-10-24<br>Points: 10",
          "Valencia<br>Matchday 8<br>Date: 2023-10-24<br>Points: 10"
         ],
         "type": "scatter",
         "visible": "legendonly",
         "x": [
          1,
          2,
          3,
          4,
          5,
          6,
          7,
          8
         ],
         "y": [
          3,
          6,
          6,
          6,
          9,
          10,
          10,
          10
         ]
        },
        {
         "hoverinfo": "text",
         "line": {
          "color": "#00954c"
         },
         "marker": {
          "color": "#00954c"
         },
         "mode": "lines+markers",
         "name": "Real Betis",
         "text": [
          "Real Betis<br>Matchday 1<br>Date: 2023-10-24<br>Points: 3",
          "Real Betis<br>Matchday 2<br>Date: 2023-10-24<br>Points: 4",
          "Real Betis<br>Matchday 3<br>Date: 2023-10-24<br>Points: 4",
          "Real Betis<br>Matchday 4<br>Date: 2023-10-24<br>Points: 7",
          "Real Betis<br>Matchday 5<br>Date: 2023-10-24<br>Points: 7",
          "Real Betis<br>Matchday 6<br>Date: 2023-10-24<br>Points: 8",
          "Real Betis<br>Matchday 7<br>Date: 2023-10-24<br>Points: 9",
          "Real Betis<br>Matchday 8<br>Date: 2023-10-24<br>Points: 12"
         ],
         "type": "scatter",
         "visible": "legendonly",
         "x": [
          1,
          2,
          3,
          4,
          5,
          6,
          7,
          8
         ],
         "y": [
          3,
          4,
          4,
          7,
          7,
          8,
          9,
          12
         ]
        },
        {
         "hoverinfo": "text",
         "line": {
          "color": "#fde607"
         },
         "marker": {
          "color": "#fde607"
         },
         "mode": "lines+markers",
         "name": "Cádiz CF",
         "text": [
          "Cádiz CF<br>Matchday 1<br>Date: 2023-10-24<br>Points: 3",
          "Cádiz CF<br>Matchday 2<br>Date: 2023-10-24<br>Points: 3",
          "Cádiz CF<br>Matchday 3<br>Date: 2023-10-24<br>Points: 4",
          "Cádiz CF<br>Matchday 4<br>Date: 2023-10-24<br>Points: 7",
          "Cádiz CF<br>Matchday 5<br>Date: 2023-10-24<br>Points: 7",
          "Cádiz CF<br>Matchday 6<br>Date: 2023-10-24<br>Points: 8",
          "Cádiz CF<br>Matchday 7<br>Date: 2023-10-24<br>Points: 9",
          "Cádiz CF<br>Matchday 8<br>Date: 2023-10-24<br>Points: 9"
         ],
         "type": "scatter",
         "visible": "legendonly",
         "x": [
          1,
          2,
          3,
          4,
          5,
          6,
          7,
          8
         ],
         "y": [
          3,
          3,
          4,
          7,
          7,
          8,
          9,
          9
         ]
        },
        {
         "hoverinfo": "text",
         "line": {
          "color": "#143c8b"
         },
         "marker": {
          "color": "#143c8b"
         },
         "mode": "lines+markers",
         "name": "Real Sociedad",
         "text": [
          "Real Sociedad<br>Matchday 1<br>Date: 2023-10-24<br>Points: 1",
          "Real Sociedad<br>Matchday 2<br>Date: 2023-10-24<br>Points: 2",
          "Real Sociedad<br>Matchday 3<br>Date: 2023-10-24<br>Points: 3",
          "Real Sociedad<br>Matchday 4<br>Date: 2023-10-24<br>Points: 6",
          "Real Sociedad<br>Matchday 5<br>Date: 2023-10-24<br>Points: 6",
          "Real Sociedad<br>Matchday 6<br>Date: 2023-10-24<br>Points: 9",
          "Real Sociedad<br>Matchday 7<br>Date: 2023-10-24<br>Points: 12",
          "Real Sociedad<br>Matchday 8<br>Date: 2023-10-24<br>Points: 15"
         ],
         "type": "scatter",
         "visible": "legendonly",
         "x": [
          1,
          2,
          3,
          4,
          5,
          6,
          7,
          8
         ],
         "y": [
          1,
          2,
          3,
          6,
          6,
          9,
          12,
          15
         ]
        },
        {
         "hoverinfo": "text",
         "line": {
          "color": "#cd2534"
         },
         "marker": {
          "color": "#cd2534"
         },
         "mode": "lines+markers",
         "name": "Girona",
         "text": [
          "Girona<br>Matchday 1<br>Date: 2023-10-24<br>Points: 1",
          "Girona<br>Matchday 2<br>Date: 2023-10-24<br>Points: 4",
          "Girona<br>Matchday 3<br>Date: 2023-10-24<br>Points: 7",
          "Girona<br>Matchday 4<br>Date: 2023-10-24<br>Points: 10",
          "Girona<br>Matchday 5<br>Date: 2023-10-24<br>Points: 13",
          "Girona<br>Matchday 6<br>Date: 2023-10-24<br>Points: 16",
          "Girona<br>Matchday 7<br>Date: 2023-10-24<br>Points: 19",
          "Girona<br>Matchday 8<br>Date: 2023-10-24<br>Points: 19"
         ],
         "type": "scatter",
         "visible": "legendonly",
         "x": [
          1,
          2,
          3,
          4,
          5,
          6,
          7,
          8
         ],
         "y": [
          1,
          4,
          7,
          10,
          13,
          16,
          19,
          19
         ]
        },
        {
         "hoverinfo": "text",
         "line": {
          "color": "#004b9d"
         },
         "marker": {
          "color": "#004b9d"
         },
         "mode": "lines+markers",
         "name": "Las Palmas",
         "text": [
          "Las Palmas<br>Matchday 1<br>Date: 2023-10-24<br>Points: 1",
          "Las Palmas<br>Matchday 2<br>Date: 2023-10-24<br>Points: 1",
          "Las Palmas<br>Matchday 3<br>Date: 2023-10-24<br>Points: 2",
          "Las Palmas<br>Matchday 4<br>Date: 2023-10-24<br>Points: 2",
          "Las Palmas<br>Matchday 5<br>Date: 2023-10-24<br>Points: 2",
          "Las Palmas<br>Matchday 6<br>Date: 2023-10-24<br>Points: 5",
          "Las Palmas<br>Matchday 7<br>Date: 2023-10-24<br>Points: 5",
          "Las Palmas<br>Matchday 8<br>Date: 2023-10-24<br>Points: 8"
         ],
         "type": "scatter",
         "visible": "legendonly",
         "x": [
          1,
          2,
          3,
          4,
          5,
          6,
          7,
          8
         ],
         "y": [
          1,
          1,
          2,
          2,
          2,
          5,
          5,
          8
         ]
        },
        {
         "hoverinfo": "text",
         "line": {
          "color": "#ed1b24"
         },
         "marker": {
          "color": "#ed1b24"
         },
         "mode": "lines+markers",
         "name": "Mallorca",
         "text": [
          "Mallorca<br>Matchday 1<br>Date: 2023-10-24<br>Points: 1",
          "Mallorca<br>Matchday 2<br>Date: 2023-10-24<br>Points: 1",
          "Mallorca<br>Matchday 3<br>Date: 2023-10-24<br>Points: 1",
          "Mallorca<br>Matchday 4<br>Date: 2023-10-24<br>Points: 2",
          "Mallorca<br>Matchday 5<br>Date: 2023-10-24<br>Points: 5",
          "Mallorca<br>Matchday 6<br>Date: 2023-10-24<br>Points: 5",
          "Mallorca<br>Matchday 7<br>Date: 2023-10-24<br>Points: 6",
          "Mallorca<br>Matchday 8<br>Date: 2023-10-24<br>Points: 7"
         ],
         "type": "scatter",
         "visible": "legendonly",
         "x": [
          1,
          2,
          3,
          4,
          5,
          6,
          7,
          8
         ],
         "y": [
          1,
          1,
          1,
          2,
          5,
          5,
          6,
          7
         ]
        },
        {
         "hoverinfo": "text",
         "line": {
          "color": "#004fa3"
         },
         "marker": {
          "color": "#004fa3"
         },
         "mode": "lines+markers",
         "name": "Getafe",
         "text": [
          "Getafe<br>Matchday 1<br>Date: 2023-10-24<br>Points: 1",
          "Getafe<br>Matchday 2<br>Date: 2023-10-24<br>Points: 1",
          "Getafe<br>Matchday 3<br>Date: 2023-10-24<br>Points: 4",
          "Getafe<br>Matchday 4<br>Date: 2023-10-24<br>Points: 4",
          "Getafe<br>Matchday 5<br>Date: 2023-10-24<br>Points: 7",
          "Getafe<br>Matchday 6<br>Date: 2023-10-24<br>Points: 7",
          "Getafe<br>Matchday 7<br>Date: 2023-10-24<br>Points: 8",
          "Getafe<br>Matchday 8<br>Date: 2023-10-24<br>Points: 9"
         ],
         "type": "scatter",
         "visible": "legendonly",
         "x": [
          1,
          2,
          3,
          4,
          5,
          6,
          7,
          8
         ],
         "y": [
          1,
          1,
          4,
          4,
          7,
          7,
          8,
          9
         ]
        },
        {
         "hoverinfo": "text",
         "line": {
          "color": "#a50044"
         },
         "marker": {
          "color": "#a50044"
         },
         "mode": "lines+markers",
         "name": "Barça",
         "text": [
          "Barça<br>Matchday 1<br>Date: 2023-10-24<br>Points: 1",
          "Barça<br>Matchday 2<br>Date: 2023-10-24<br>Points: 4",
          "Barça<br>Matchday 3<br>Date: 2023-10-24<br>Points: 7",
          "Barça<br>Matchday 4<br>Date: 2023-10-24<br>Points: 10",
          "Barça<br>Matchday 5<br>Date: 2023-10-24<br>Points: 13",
          "Barça<br>Matchday 6<br>Date: 2023-10-24<br>Points: 16",
          "Barça<br>Matchday 7<br>Date: 2023-10-24<br>Points: 17",
          "Barça<br>Matchday 8<br>Date: 2023-10-24<br>Points: 20"
         ],
         "type": "scatter",
         "visible": "legendonly",
         "x": [
          1,
          2,
          3,
          4,
          5,
          6,
          7,
          8
         ],
         "y": [
          1,
          4,
          7,
          10,
          13,
          16,
          17,
          20
         ]
        },
        {
         "hoverinfo": "text",
         "line": {
          "color": "#d70f21"
         },
         "marker": {
          "color": "#d70f21"
         },
         "mode": "lines+markers",
         "name": "Sevilla FC",
         "text": [
          "Sevilla FC<br>Matchday 1<br>Date: 2023-10-24<br>Points: 0",
          "Sevilla FC<br>Matchday 2<br>Date: 2023-10-24<br>Points: 0",
          "Sevilla FC<br>Matchday 3<br>Date: 2023-10-24<br>Points: 0",
          "Sevilla FC<br>Matchday 4<br>Date: 2023-10-24<br>Points: 0",
          "Sevilla FC<br>Matchday 5<br>Date: 2023-10-24<br>Points: 3",
          "Sevilla FC<br>Matchday 6<br>Date: 2023-10-24<br>Points: 4",
          "Sevilla FC<br>Matchday 7<br>Date: 2023-10-24<br>Points: 7",
          "Sevilla FC<br>Matchday 8<br>Date: 2023-10-24<br>Points: 7"
         ],
         "type": "scatter",
         "visible": "legendonly",
         "x": [
          1,
          2,
          3,
          4,
          5,
          6,
          7,
          8
         ],
         "y": [
          0,
          0,
          0,
          0,
          3,
          4,
          7,
          7
         ]
        },
        {
         "hoverinfo": "text",
         "line": {
          "color": "#000"
         },
         "marker": {
          "color": "#000"
         },
         "mode": "lines+markers",
         "name": "Villarreal",
         "text": [
          "Villarreal<br>Matchday 1<br>Date: 2023-10-24<br>Points: 0",
          "Villarreal<br>Matchday 2<br>Date: 2023-10-24<br>Points: 3",
          "Villarreal<br>Matchday 3<br>Date: 2023-10-24<br>Points: 3",
          "Villarreal<br>Matchday 4<br>Date: 2023-10-24<br>Points: 3",
          "Villarreal<br>Matchday 5<br>Date: 2023-10-24<br>Points: 6",
          "Villarreal<br>Matchday 6<br>Date: 2023-10-24<br>Points: 7",
          "Villarreal<br>Matchday 7<br>Date: 2023-10-24<br>Points: 7",
          "Villarreal<br>Matchday 8<br>Date: 2023-10-24<br>Points: 8"
         ],
         "type": "scatter",
         "visible": "legendonly",
         "x": [
          1,
          2,
          3,
          4,
          5,
          6,
          7,
          8
         ],
         "y": [
          0,
          3,
          3,
          3,
          6,
          7,
          7,
          8
         ]
        },
        {
         "hoverinfo": "text",
         "line": {
          "color": "#004fa3"
         },
         "marker": {
          "color": "#004fa3"
         },
         "mode": "lines+markers",
         "name": "Alavés",
         "text": [
          "Alavés<br>Matchday 1<br>Date: 2023-10-24<br>Points: 0",
          "Alavés<br>Matchday 2<br>Date: 2023-10-24<br>Points: 3",
          "Alavés<br>Matchday 3<br>Date: 2023-10-24<br>Points: 3",
          "Alavés<br>Matchday 4<br>Date: 2023-10-24<br>Points: 6",
          "Alavés<br>Matchday 5<br>Date: 2023-10-24<br>Points: 6",
          "Alavés<br>Matchday 6<br>Date: 2023-10-24<br>Points: 6",
          "Alavés<br>Matchday 7<br>Date: 2023-10-24<br>Points: 7",
          "Alavés<br>Matchday 8<br>Date: 2023-10-24<br>Points: 7"
         ],
         "type": "scatter",
         "visible": "legendonly",
         "x": [
          1,
          2,
          3,
          4,
          5,
          6,
          7,
          8
         ],
         "y": [
          0,
          3,
          3,
          6,
          6,
          6,
          7,
          7
         ]
        },
        {
         "hoverinfo": "text",
         "line": {
          "color": "#e60d2e"
         },
         "marker": {
          "color": "#e60d2e"
         },
         "mode": "lines+markers",
         "name": "Granada",
         "text": [
          "Granada<br>Matchday 1<br>Date: 2023-10-24<br>Points: 0",
          "Granada<br>Matchday 2<br>Date: 2023-10-24<br>Points: 0",
          "Granada<br>Matchday 3<br>Date: 2023-10-24<br>Points: 3",
          "Granada<br>Matchday 4<br>Date: 2023-10-24<br>Points: 3",
          "Granada<br>Matchday 5<br>Date: 2023-10-24<br>Points: 3",
          "Granada<br>Matchday 6<br>Date: 2023-10-24<br>Points: 3",
          "Granada<br>Matchday 7<br>Date: 2023-10-24<br>Points: 4",
          "Granada<br>Matchday 8<br>Date: 2023-10-24<br>Points: 5"
         ],
         "type": "scatter",
         "visible": "legendonly",
         "x": [
          1,
          2,
          3,
          4,
          5,
          6,
          7,
          8
         ],
         "y": [
          0,
          0,
          3,
          3,
          3,
          3,
          4,
          5
         ]
        },
        {
         "hoverinfo": "text",
         "line": {
          "color": "#ee1119"
         },
         "marker": {
          "color": "#ee1119"
         },
         "mode": "lines+markers",
         "name": "Almería",
         "text": [
          "Almería<br>Matchday 1<br>Date: 2023-10-24<br>Points: 0",
          "Almería<br>Matchday 2<br>Date: 2023-10-24<br>Points: 0",
          "Almería<br>Matchday 3<br>Date: 2023-10-24<br>Points: 1",
          "Almería<br>Matchday 4<br>Date: 2023-10-24<br>Points: 1",
          "Almería<br>Matchday 5<br>Date: 2023-10-24<br>Points: 1",
          "Almería<br>Matchday 6<br>Date: 2023-10-24<br>Points: 2",
          "Almería<br>Matchday 7<br>Date: 2023-10-24<br>Points: 2",
          "Almería<br>Matchday 8<br>Date: 2023-10-24<br>Points: 3"
         ],
         "type": "scatter",
         "visible": "legendonly",
         "x": [
          1,
          2,
          3,
          4,
          5,
          6,
          7,
          8
         ],
         "y": [
          0,
          0,
          1,
          1,
          1,
          2,
          2,
          3
         ]
        },
        {
         "hoverinfo": "text",
         "line": {
          "color": "#ee2523"
         },
         "marker": {
          "color": "#ee2523"
         },
         "mode": "lines+markers",
         "name": "Athletic",
         "text": [
          "Athletic<br>Matchday 1<br>Date: 2023-10-24<br>Points: 0",
          "Athletic<br>Matchday 2<br>Date: 2023-10-24<br>Points: 3",
          "Athletic<br>Matchday 3<br>Date: 2023-10-24<br>Points: 6",
          "Athletic<br>Matchday 4<br>Date: 2023-10-24<br>Points: 7",
          "Athletic<br>Matchday 5<br>Date: 2023-10-24<br>Points: 10",
          "Athletic<br>Matchday 6<br>Date: 2023-10-24<br>Points: 13",
          "Athletic<br>Matchday 7<br>Date: 2023-10-24<br>Points: 14",
          "Athletic<br>Matchday 8<br>Date: 2023-10-24<br>Points: 14"
         ],
         "type": "scatter",
         "visible": "legendonly",
         "x": [
          1,
          2,
          3,
          4,
          5,
          6,
          7,
          8
         ],
         "y": [
          0,
          3,
          6,
          7,
          10,
          13,
          14,
          14
         ]
        },
        {
         "hoverinfo": "text",
         "line": {
          "color": "#e5254e"
         },
         "marker": {
          "color": "#e5254e"
         },
         "mode": "lines+markers",
         "name": "Celta",
         "text": [
          "Celta<br>Matchday 1<br>Date: 2023-10-24<br>Points: 0",
          "Celta<br>Matchday 2<br>Date: 2023-10-24<br>Points: 1",
          "Celta<br>Matchday 3<br>Date: 2023-10-24<br>Points: 1",
          "Celta<br>Matchday 4<br>Date: 2023-10-24<br>Points: 4",
          "Celta<br>Matchday 5<br>Date: 2023-10-24<br>Points: 4",
          "Celta<br>Matchday 6<br>Date: 2023-10-24<br>Points: 4",
          "Celta<br>Matchday 7<br>Date: 2023-10-24<br>Points: 5",
          "Celta<br>Matchday 8<br>Date: 2023-10-24<br>Points: 5"
         ],
         "type": "scatter",
         "visible": "legendonly",
         "x": [
          1,
          2,
          3,
          4,
          5,
          6,
          7,
          8
         ],
         "y": [
          0,
          1,
          1,
          4,
          4,
          4,
          5,
          5
         ]
        }
       ],
       "layout": {
        "height": 600,
        "hovermode": "closest",
        "legend": {
         "title": {
          "text": "Clubs"
         },
         "x": 1.05,
         "y": 1
        },
        "template": {
         "data": {
          "bar": [
           {
            "error_x": {
             "color": "#2a3f5f"
            },
            "error_y": {
             "color": "#2a3f5f"
            },
            "marker": {
             "line": {
              "color": "#E5ECF6",
              "width": 0.5
             },
             "pattern": {
              "fillmode": "overlay",
              "size": 10,
              "solidity": 0.2
             }
            },
            "type": "bar"
           }
          ],
          "barpolar": [
           {
            "marker": {
             "line": {
              "color": "#E5ECF6",
              "width": 0.5
             },
             "pattern": {
              "fillmode": "overlay",
              "size": 10,
              "solidity": 0.2
             }
            },
            "type": "barpolar"
           }
          ],
          "carpet": [
           {
            "aaxis": {
             "endlinecolor": "#2a3f5f",
             "gridcolor": "white",
             "linecolor": "white",
             "minorgridcolor": "white",
             "startlinecolor": "#2a3f5f"
            },
            "baxis": {
             "endlinecolor": "#2a3f5f",
             "gridcolor": "white",
             "linecolor": "white",
             "minorgridcolor": "white",
             "startlinecolor": "#2a3f5f"
            },
            "type": "carpet"
           }
          ],
          "choropleth": [
           {
            "colorbar": {
             "outlinewidth": 0,
             "ticks": ""
            },
            "type": "choropleth"
           }
          ],
          "contour": [
           {
            "colorbar": {
             "outlinewidth": 0,
             "ticks": ""
            },
            "colorscale": [
             [
              0,
              "#0d0887"
             ],
             [
              0.1111111111111111,
              "#46039f"
             ],
             [
              0.2222222222222222,
              "#7201a8"
             ],
             [
              0.3333333333333333,
              "#9c179e"
             ],
             [
              0.4444444444444444,
              "#bd3786"
             ],
             [
              0.5555555555555556,
              "#d8576b"
             ],
             [
              0.6666666666666666,
              "#ed7953"
             ],
             [
              0.7777777777777778,
              "#fb9f3a"
             ],
             [
              0.8888888888888888,
              "#fdca26"
             ],
             [
              1,
              "#f0f921"
             ]
            ],
            "type": "contour"
           }
          ],
          "contourcarpet": [
           {
            "colorbar": {
             "outlinewidth": 0,
             "ticks": ""
            },
            "type": "contourcarpet"
           }
          ],
          "heatmap": [
           {
            "colorbar": {
             "outlinewidth": 0,
             "ticks": ""
            },
            "colorscale": [
             [
              0,
              "#0d0887"
             ],
             [
              0.1111111111111111,
              "#46039f"
             ],
             [
              0.2222222222222222,
              "#7201a8"
             ],
             [
              0.3333333333333333,
              "#9c179e"
             ],
             [
              0.4444444444444444,
              "#bd3786"
             ],
             [
              0.5555555555555556,
              "#d8576b"
             ],
             [
              0.6666666666666666,
              "#ed7953"
             ],
             [
              0.7777777777777778,
              "#fb9f3a"
             ],
             [
              0.8888888888888888,
              "#fdca26"
             ],
             [
              1,
              "#f0f921"
             ]
            ],
            "type": "heatmap"
           }
          ],
          "heatmapgl": [
           {
            "colorbar": {
             "outlinewidth": 0,
             "ticks": ""
            },
            "colorscale": [
             [
              0,
              "#0d0887"
             ],
             [
              0.1111111111111111,
              "#46039f"
             ],
             [
              0.2222222222222222,
              "#7201a8"
             ],
             [
              0.3333333333333333,
              "#9c179e"
             ],
             [
              0.4444444444444444,
              "#bd3786"
             ],
             [
              0.5555555555555556,
              "#d8576b"
             ],
             [
              0.6666666666666666,
              "#ed7953"
             ],
             [
              0.7777777777777778,
              "#fb9f3a"
             ],
             [
              0.8888888888888888,
              "#fdca26"
             ],
             [
              1,
              "#f0f921"
             ]
            ],
            "type": "heatmapgl"
           }
          ],
          "histogram": [
           {
            "marker": {
             "pattern": {
              "fillmode": "overlay",
              "size": 10,
              "solidity": 0.2
             }
            },
            "type": "histogram"
           }
          ],
          "histogram2d": [
           {
            "colorbar": {
             "outlinewidth": 0,
             "ticks": ""
            },
            "colorscale": [
             [
              0,
              "#0d0887"
             ],
             [
              0.1111111111111111,
              "#46039f"
             ],
             [
              0.2222222222222222,
              "#7201a8"
             ],
             [
              0.3333333333333333,
              "#9c179e"
             ],
             [
              0.4444444444444444,
              "#bd3786"
             ],
             [
              0.5555555555555556,
              "#d8576b"
             ],
             [
              0.6666666666666666,
              "#ed7953"
             ],
             [
              0.7777777777777778,
              "#fb9f3a"
             ],
             [
              0.8888888888888888,
              "#fdca26"
             ],
             [
              1,
              "#f0f921"
             ]
            ],
            "type": "histogram2d"
           }
          ],
          "histogram2dcontour": [
           {
            "colorbar": {
             "outlinewidth": 0,
             "ticks": ""
            },
            "colorscale": [
             [
              0,
              "#0d0887"
             ],
             [
              0.1111111111111111,
              "#46039f"
             ],
             [
              0.2222222222222222,
              "#7201a8"
             ],
             [
              0.3333333333333333,
              "#9c179e"
             ],
             [
              0.4444444444444444,
              "#bd3786"
             ],
             [
              0.5555555555555556,
              "#d8576b"
             ],
             [
              0.6666666666666666,
              "#ed7953"
             ],
             [
              0.7777777777777778,
              "#fb9f3a"
             ],
             [
              0.8888888888888888,
              "#fdca26"
             ],
             [
              1,
              "#f0f921"
             ]
            ],
            "type": "histogram2dcontour"
           }
          ],
          "mesh3d": [
           {
            "colorbar": {
             "outlinewidth": 0,
             "ticks": ""
            },
            "type": "mesh3d"
           }
          ],
          "parcoords": [
           {
            "line": {
             "colorbar": {
              "outlinewidth": 0,
              "ticks": ""
             }
            },
            "type": "parcoords"
           }
          ],
          "pie": [
           {
            "automargin": true,
            "type": "pie"
           }
          ],
          "scatter": [
           {
            "fillpattern": {
             "fillmode": "overlay",
             "size": 10,
             "solidity": 0.2
            },
            "type": "scatter"
           }
          ],
          "scatter3d": [
           {
            "line": {
             "colorbar": {
              "outlinewidth": 0,
              "ticks": ""
             }
            },
            "marker": {
             "colorbar": {
              "outlinewidth": 0,
              "ticks": ""
             }
            },
            "type": "scatter3d"
           }
          ],
          "scattercarpet": [
           {
            "marker": {
             "colorbar": {
              "outlinewidth": 0,
              "ticks": ""
             }
            },
            "type": "scattercarpet"
           }
          ],
          "scattergeo": [
           {
            "marker": {
             "colorbar": {
              "outlinewidth": 0,
              "ticks": ""
             }
            },
            "type": "scattergeo"
           }
          ],
          "scattergl": [
           {
            "marker": {
             "colorbar": {
              "outlinewidth": 0,
              "ticks": ""
             }
            },
            "type": "scattergl"
           }
          ],
          "scattermapbox": [
           {
            "marker": {
             "colorbar": {
              "outlinewidth": 0,
              "ticks": ""
             }
            },
            "type": "scattermapbox"
           }
          ],
          "scatterpolar": [
           {
            "marker": {
             "colorbar": {
              "outlinewidth": 0,
              "ticks": ""
             }
            },
            "type": "scatterpolar"
           }
          ],
          "scatterpolargl": [
           {
            "marker": {
             "colorbar": {
              "outlinewidth": 0,
              "ticks": ""
             }
            },
            "type": "scatterpolargl"
           }
          ],
          "scatterternary": [
           {
            "marker": {
             "colorbar": {
              "outlinewidth": 0,
              "ticks": ""
             }
            },
            "type": "scatterternary"
           }
          ],
          "surface": [
           {
            "colorbar": {
             "outlinewidth": 0,
             "ticks": ""
            },
            "colorscale": [
             [
              0,
              "#0d0887"
             ],
             [
              0.1111111111111111,
              "#46039f"
             ],
             [
              0.2222222222222222,
              "#7201a8"
             ],
             [
              0.3333333333333333,
              "#9c179e"
             ],
             [
              0.4444444444444444,
              "#bd3786"
             ],
             [
              0.5555555555555556,
              "#d8576b"
             ],
             [
              0.6666666666666666,
              "#ed7953"
             ],
             [
              0.7777777777777778,
              "#fb9f3a"
             ],
             [
              0.8888888888888888,
              "#fdca26"
             ],
             [
              1,
              "#f0f921"
             ]
            ],
            "type": "surface"
           }
          ],
          "table": [
           {
            "cells": {
             "fill": {
              "color": "#EBF0F8"
             },
             "line": {
              "color": "white"
             }
            },
            "header": {
             "fill": {
              "color": "#C8D4E3"
             },
             "line": {
              "color": "white"
             }
            },
            "type": "table"
           }
          ]
         },
         "layout": {
          "annotationdefaults": {
           "arrowcolor": "#2a3f5f",
           "arrowhead": 0,
           "arrowwidth": 1
          },
          "autotypenumbers": "strict",
          "coloraxis": {
           "colorbar": {
            "outlinewidth": 0,
            "ticks": ""
           }
          },
          "colorscale": {
           "diverging": [
            [
             0,
             "#8e0152"
            ],
            [
             0.1,
             "#c51b7d"
            ],
            [
             0.2,
             "#de77ae"
            ],
            [
             0.3,
             "#f1b6da"
            ],
            [
             0.4,
             "#fde0ef"
            ],
            [
             0.5,
             "#f7f7f7"
            ],
            [
             0.6,
             "#e6f5d0"
            ],
            [
             0.7,
             "#b8e186"
            ],
            [
             0.8,
             "#7fbc41"
            ],
            [
             0.9,
             "#4d9221"
            ],
            [
             1,
             "#276419"
            ]
           ],
           "sequential": [
            [
             0,
             "#0d0887"
            ],
            [
             0.1111111111111111,
             "#46039f"
            ],
            [
             0.2222222222222222,
             "#7201a8"
            ],
            [
             0.3333333333333333,
             "#9c179e"
            ],
            [
             0.4444444444444444,
             "#bd3786"
            ],
            [
             0.5555555555555556,
             "#d8576b"
            ],
            [
             0.6666666666666666,
             "#ed7953"
            ],
            [
             0.7777777777777778,
             "#fb9f3a"
            ],
            [
             0.8888888888888888,
             "#fdca26"
            ],
            [
             1,
             "#f0f921"
            ]
           ],
           "sequentialminus": [
            [
             0,
             "#0d0887"
            ],
            [
             0.1111111111111111,
             "#46039f"
            ],
            [
             0.2222222222222222,
             "#7201a8"
            ],
            [
             0.3333333333333333,
             "#9c179e"
            ],
            [
             0.4444444444444444,
             "#bd3786"
            ],
            [
             0.5555555555555556,
             "#d8576b"
            ],
            [
             0.6666666666666666,
             "#ed7953"
            ],
            [
             0.7777777777777778,
             "#fb9f3a"
            ],
            [
             0.8888888888888888,
             "#fdca26"
            ],
            [
             1,
             "#f0f921"
            ]
           ]
          },
          "colorway": [
           "#636efa",
           "#EF553B",
           "#00cc96",
           "#ab63fa",
           "#FFA15A",
           "#19d3f3",
           "#FF6692",
           "#B6E880",
           "#FF97FF",
           "#FECB52"
          ],
          "font": {
           "color": "#2a3f5f"
          },
          "geo": {
           "bgcolor": "white",
           "lakecolor": "white",
           "landcolor": "#E5ECF6",
           "showlakes": true,
           "showland": true,
           "subunitcolor": "white"
          },
          "hoverlabel": {
           "align": "left"
          },
          "hovermode": "closest",
          "mapbox": {
           "style": "light"
          },
          "paper_bgcolor": "white",
          "plot_bgcolor": "#E5ECF6",
          "polar": {
           "angularaxis": {
            "gridcolor": "white",
            "linecolor": "white",
            "ticks": ""
           },
           "bgcolor": "#E5ECF6",
           "radialaxis": {
            "gridcolor": "white",
            "linecolor": "white",
            "ticks": ""
           }
          },
          "scene": {
           "xaxis": {
            "backgroundcolor": "#E5ECF6",
            "gridcolor": "white",
            "gridwidth": 2,
            "linecolor": "white",
            "showbackground": true,
            "ticks": "",
            "zerolinecolor": "white"
           },
           "yaxis": {
            "backgroundcolor": "#E5ECF6",
            "gridcolor": "white",
            "gridwidth": 2,
            "linecolor": "white",
            "showbackground": true,
            "ticks": "",
            "zerolinecolor": "white"
           },
           "zaxis": {
            "backgroundcolor": "#E5ECF6",
            "gridcolor": "white",
            "gridwidth": 2,
            "linecolor": "white",
            "showbackground": true,
            "ticks": "",
            "zerolinecolor": "white"
           }
          },
          "shapedefaults": {
           "line": {
            "color": "#2a3f5f"
           }
          },
          "ternary": {
           "aaxis": {
            "gridcolor": "white",
            "linecolor": "white",
            "ticks": ""
           },
           "baxis": {
            "gridcolor": "white",
            "linecolor": "white",
            "ticks": ""
           },
           "bgcolor": "#E5ECF6",
           "caxis": {
            "gridcolor": "white",
            "linecolor": "white",
            "ticks": ""
           }
          },
          "title": {
           "x": 0.05
          },
          "xaxis": {
           "automargin": true,
           "gridcolor": "white",
           "linecolor": "white",
           "ticks": "",
           "title": {
            "standoff": 15
           },
           "zerolinecolor": "white",
           "zerolinewidth": 2
          },
          "yaxis": {
           "automargin": true,
           "gridcolor": "white",
           "linecolor": "white",
           "ticks": "",
           "title": {
            "standoff": 15
           },
           "zerolinecolor": "white",
           "zerolinewidth": 2
          }
         }
        },
        "title": {
         "text": "Team Points Over Matchdays (2023)",
         "x": 0.5,
         "xanchor": "center",
         "y": 0.9,
         "yanchor": "top"
        },
        "width": 1000,
        "xaxis": {
         "anchor": "y",
         "domain": [
          0,
          1
         ],
         "tickmode": "array",
         "tickvals": [
          1,
          2,
          3,
          4,
          5,
          6,
          7,
          8
         ],
         "title": {
          "text": "Matchday"
         }
        },
        "yaxis": {
         "anchor": "x",
         "domain": [
          0,
          1
         ],
         "title": {
          "text": "Total Points"
         }
        }
       }
      },
      "text/html": [
       "<div>                            <div id=\"b62fdadd-0b95-44a0-a939-cf78c53be533\" class=\"plotly-graph-div\" style=\"height:600px; width:1000px;\"></div>            <script type=\"text/javascript\">                require([\"plotly\"], function(Plotly) {                    window.PLOTLYENV=window.PLOTLYENV || {};                                    if (document.getElementById(\"b62fdadd-0b95-44a0-a939-cf78c53be533\")) {                    Plotly.newPlot(                        \"b62fdadd-0b95-44a0-a939-cf78c53be533\",                        [{\"hoverinfo\":\"text\",\"line\":{\"color\":\"#262f61\"},\"marker\":{\"color\":\"#262f61\"},\"mode\":\"lines+markers\",\"name\":\"Atleti\",\"text\":[\"Atleti\\u003cbr\\u003eMatchday 1\\u003cbr\\u003eDate: 2023-10-24\\u003cbr\\u003ePoints: 3\",\"Atleti\\u003cbr\\u003eMatchday 2\\u003cbr\\u003eDate: 2023-10-24\\u003cbr\\u003ePoints: 4\",\"Atleti\\u003cbr\\u003eMatchday 3\\u003cbr\\u003eDate: 2023-10-24\\u003cbr\\u003ePoints: 7\",\"Atleti\\u003cbr\\u003eMatchday 4\\u003cbr\\u003eDate: 2023-10-24\\u003cbr\\u003ePoints: 7\",\"Atleti\\u003cbr\\u003eMatchday 5\\u003cbr\\u003eDate: 2023-10-24\\u003cbr\\u003ePoints: 7\",\"Atleti\\u003cbr\\u003eMatchday 6\\u003cbr\\u003eDate: 2023-10-24\\u003cbr\\u003ePoints: 10\",\"Atleti\\u003cbr\\u003eMatchday 7\\u003cbr\\u003eDate: 2023-10-24\\u003cbr\\u003ePoints: 13\",\"Atleti\\u003cbr\\u003eMatchday 8\\u003cbr\\u003eDate: 2023-10-24\\u003cbr\\u003ePoints: 16\"],\"visible\":\"legendonly\",\"x\":[1,2,3,4,5,6,7,8],\"y\":[3,4,7,7,7,10,13,16],\"type\":\"scatter\"},{\"hoverinfo\":\"text\",\"line\":{\"color\":\"#e53027\"},\"marker\":{\"color\":\"#e53027\"},\"mode\":\"lines+markers\",\"name\":\"Rayo Vallecano\",\"text\":[\"Rayo Vallecano\\u003cbr\\u003eMatchday 1\\u003cbr\\u003eDate: 2023-10-24\\u003cbr\\u003ePoints: 3\",\"Rayo Vallecano\\u003cbr\\u003eMatchday 2\\u003cbr\\u003eDate: 2023-10-24\\u003cbr\\u003ePoints: 6\",\"Rayo Vallecano\\u003cbr\\u003eMatchday 3\\u003cbr\\u003eDate: 2023-10-24\\u003cbr\\u003ePoints: 6\",\"Rayo Vallecano\\u003cbr\\u003eMatchday 4\\u003cbr\\u003eDate: 2023-10-24\\u003cbr\\u003ePoints: 6\",\"Rayo Vallecano\\u003cbr\\u003eMatchday 5\\u003cbr\\u003eDate: 2023-10-24\\u003cbr\\u003ePoints: 9\",\"Rayo Vallecano\\u003cbr\\u003eMatchday 6\\u003cbr\\u003eDate: 2023-10-24\\u003cbr\\u003ePoints: 10\",\"Rayo Vallecano\\u003cbr\\u003eMatchday 7\\u003cbr\\u003eDate: 2023-10-24\\u003cbr\\u003ePoints: 11\",\"Rayo Vallecano\\u003cbr\\u003eMatchday 8\\u003cbr\\u003eDate: 2023-10-24\\u003cbr\\u003ePoints: 12\"],\"visible\":\"legendonly\",\"x\":[1,2,3,4,5,6,7,8],\"y\":[3,6,6,6,9,10,11,12],\"type\":\"scatter\"},{\"hoverinfo\":\"text\",\"line\":{\"color\":\"#fcbf00\"},\"marker\":{\"color\":\"#fcbf00\"},\"mode\":\"lines+markers\",\"name\":\"Real Madrid\",\"text\":[\"Real Madrid\\u003cbr\\u003eMatchday 1\\u003cbr\\u003eDate: 2023-10-24\\u003cbr\\u003ePoints: 3\",\"Real Madrid\\u003cbr\\u003eMatchday 2\\u003cbr\\u003eDate: 2023-10-24\\u003cbr\\u003ePoints: 6\",\"Real Madrid\\u003cbr\\u003eMatchday 3\\u003cbr\\u003eDate: 2023-10-24\\u003cbr\\u003ePoints: 9\",\"Real Madrid\\u003cbr\\u003eMatchday 4\\u003cbr\\u003eDate: 2023-10-24\\u003cbr\\u003ePoints: 12\",\"Real Madrid\\u003cbr\\u003eMatchday 5\\u003cbr\\u003eDate: 2023-10-24\\u003cbr\\u003ePoints: 15\",\"Real Madrid\\u003cbr\\u003eMatchday 6\\u003cbr\\u003eDate: 2023-10-24\\u003cbr\\u003ePoints: 15\",\"Real Madrid\\u003cbr\\u003eMatchday 7\\u003cbr\\u003eDate: 2023-10-24\\u003cbr\\u003ePoints: 18\",\"Real Madrid\\u003cbr\\u003eMatchday 8\\u003cbr\\u003eDate: 2023-10-24\\u003cbr\\u003ePoints: 21\"],\"visible\":\"legendonly\",\"x\":[1,2,3,4,5,6,7,8],\"y\":[3,6,9,12,15,15,18,21],\"type\":\"scatter\"},{\"hoverinfo\":\"text\",\"line\":{\"color\":\"#0a346f\"},\"marker\":{\"color\":\"#0a346f\"},\"mode\":\"lines+markers\",\"name\":\"Osasuna\",\"text\":[\"Osasuna\\u003cbr\\u003eMatchday 1\\u003cbr\\u003eDate: 2023-10-24\\u003cbr\\u003ePoints: 3\",\"Osasuna\\u003cbr\\u003eMatchday 2\\u003cbr\\u003eDate: 2023-10-24\\u003cbr\\u003ePoints: 3\",\"Osasuna\\u003cbr\\u003eMatchday 3\\u003cbr\\u003eDate: 2023-10-24\\u003cbr\\u003ePoints: 6\",\"Osasuna\\u003cbr\\u003eMatchday 4\\u003cbr\\u003eDate: 2023-10-24\\u003cbr\\u003ePoints: 6\",\"Osasuna\\u003cbr\\u003eMatchday 5\\u003cbr\\u003eDate: 2023-10-24\\u003cbr\\u003ePoints: 6\",\"Osasuna\\u003cbr\\u003eMatchday 6\\u003cbr\\u003eDate: 2023-10-24\\u003cbr\\u003ePoints: 7\",\"Osasuna\\u003cbr\\u003eMatchday 7\\u003cbr\\u003eDate: 2023-10-24\\u003cbr\\u003ePoints: 7\",\"Osasuna\\u003cbr\\u003eMatchday 8\\u003cbr\\u003eDate: 2023-10-24\\u003cbr\\u003ePoints: 10\"],\"visible\":\"legendonly\",\"x\":[1,2,3,4,5,6,7,8],\"y\":[3,3,6,6,6,7,7,10],\"type\":\"scatter\"},{\"hoverinfo\":\"text\",\"line\":{\"color\":\"#ee3524\"},\"marker\":{\"color\":\"#ee3524\"},\"mode\":\"lines+markers\",\"name\":\"Valencia\",\"text\":[\"Valencia\\u003cbr\\u003eMatchday 1\\u003cbr\\u003eDate: 2023-10-24\\u003cbr\\u003ePoints: 3\",\"Valencia\\u003cbr\\u003eMatchday 2\\u003cbr\\u003eDate: 2023-10-24\\u003cbr\\u003ePoints: 6\",\"Valencia\\u003cbr\\u003eMatchday 3\\u003cbr\\u003eDate: 2023-10-24\\u003cbr\\u003ePoints: 6\",\"Valencia\\u003cbr\\u003eMatchday 4\\u003cbr\\u003eDate: 2023-10-24\\u003cbr\\u003ePoints: 6\",\"Valencia\\u003cbr\\u003eMatchday 5\\u003cbr\\u003eDate: 2023-10-24\\u003cbr\\u003ePoints: 9\",\"Valencia\\u003cbr\\u003eMatchday 6\\u003cbr\\u003eDate: 2023-10-24\\u003cbr\\u003ePoints: 10\",\"Valencia\\u003cbr\\u003eMatchday 7\\u003cbr\\u003eDate: 2023-10-24\\u003cbr\\u003ePoints: 10\",\"Valencia\\u003cbr\\u003eMatchday 8\\u003cbr\\u003eDate: 2023-10-24\\u003cbr\\u003ePoints: 10\"],\"visible\":\"legendonly\",\"x\":[1,2,3,4,5,6,7,8],\"y\":[3,6,6,6,9,10,10,10],\"type\":\"scatter\"},{\"hoverinfo\":\"text\",\"line\":{\"color\":\"#00954c\"},\"marker\":{\"color\":\"#00954c\"},\"mode\":\"lines+markers\",\"name\":\"Real Betis\",\"text\":[\"Real Betis\\u003cbr\\u003eMatchday 1\\u003cbr\\u003eDate: 2023-10-24\\u003cbr\\u003ePoints: 3\",\"Real Betis\\u003cbr\\u003eMatchday 2\\u003cbr\\u003eDate: 2023-10-24\\u003cbr\\u003ePoints: 4\",\"Real Betis\\u003cbr\\u003eMatchday 3\\u003cbr\\u003eDate: 2023-10-24\\u003cbr\\u003ePoints: 4\",\"Real Betis\\u003cbr\\u003eMatchday 4\\u003cbr\\u003eDate: 2023-10-24\\u003cbr\\u003ePoints: 7\",\"Real Betis\\u003cbr\\u003eMatchday 5\\u003cbr\\u003eDate: 2023-10-24\\u003cbr\\u003ePoints: 7\",\"Real Betis\\u003cbr\\u003eMatchday 6\\u003cbr\\u003eDate: 2023-10-24\\u003cbr\\u003ePoints: 8\",\"Real Betis\\u003cbr\\u003eMatchday 7\\u003cbr\\u003eDate: 2023-10-24\\u003cbr\\u003ePoints: 9\",\"Real Betis\\u003cbr\\u003eMatchday 8\\u003cbr\\u003eDate: 2023-10-24\\u003cbr\\u003ePoints: 12\"],\"visible\":\"legendonly\",\"x\":[1,2,3,4,5,6,7,8],\"y\":[3,4,4,7,7,8,9,12],\"type\":\"scatter\"},{\"hoverinfo\":\"text\",\"line\":{\"color\":\"#fde607\"},\"marker\":{\"color\":\"#fde607\"},\"mode\":\"lines+markers\",\"name\":\"C\\u00e1diz CF\",\"text\":[\"C\\u00e1diz CF\\u003cbr\\u003eMatchday 1\\u003cbr\\u003eDate: 2023-10-24\\u003cbr\\u003ePoints: 3\",\"C\\u00e1diz CF\\u003cbr\\u003eMatchday 2\\u003cbr\\u003eDate: 2023-10-24\\u003cbr\\u003ePoints: 3\",\"C\\u00e1diz CF\\u003cbr\\u003eMatchday 3\\u003cbr\\u003eDate: 2023-10-24\\u003cbr\\u003ePoints: 4\",\"C\\u00e1diz CF\\u003cbr\\u003eMatchday 4\\u003cbr\\u003eDate: 2023-10-24\\u003cbr\\u003ePoints: 7\",\"C\\u00e1diz CF\\u003cbr\\u003eMatchday 5\\u003cbr\\u003eDate: 2023-10-24\\u003cbr\\u003ePoints: 7\",\"C\\u00e1diz CF\\u003cbr\\u003eMatchday 6\\u003cbr\\u003eDate: 2023-10-24\\u003cbr\\u003ePoints: 8\",\"C\\u00e1diz CF\\u003cbr\\u003eMatchday 7\\u003cbr\\u003eDate: 2023-10-24\\u003cbr\\u003ePoints: 9\",\"C\\u00e1diz CF\\u003cbr\\u003eMatchday 8\\u003cbr\\u003eDate: 2023-10-24\\u003cbr\\u003ePoints: 9\"],\"visible\":\"legendonly\",\"x\":[1,2,3,4,5,6,7,8],\"y\":[3,3,4,7,7,8,9,9],\"type\":\"scatter\"},{\"hoverinfo\":\"text\",\"line\":{\"color\":\"#143c8b\"},\"marker\":{\"color\":\"#143c8b\"},\"mode\":\"lines+markers\",\"name\":\"Real Sociedad\",\"text\":[\"Real Sociedad\\u003cbr\\u003eMatchday 1\\u003cbr\\u003eDate: 2023-10-24\\u003cbr\\u003ePoints: 1\",\"Real Sociedad\\u003cbr\\u003eMatchday 2\\u003cbr\\u003eDate: 2023-10-24\\u003cbr\\u003ePoints: 2\",\"Real Sociedad\\u003cbr\\u003eMatchday 3\\u003cbr\\u003eDate: 2023-10-24\\u003cbr\\u003ePoints: 3\",\"Real Sociedad\\u003cbr\\u003eMatchday 4\\u003cbr\\u003eDate: 2023-10-24\\u003cbr\\u003ePoints: 6\",\"Real Sociedad\\u003cbr\\u003eMatchday 5\\u003cbr\\u003eDate: 2023-10-24\\u003cbr\\u003ePoints: 6\",\"Real Sociedad\\u003cbr\\u003eMatchday 6\\u003cbr\\u003eDate: 2023-10-24\\u003cbr\\u003ePoints: 9\",\"Real Sociedad\\u003cbr\\u003eMatchday 7\\u003cbr\\u003eDate: 2023-10-24\\u003cbr\\u003ePoints: 12\",\"Real Sociedad\\u003cbr\\u003eMatchday 8\\u003cbr\\u003eDate: 2023-10-24\\u003cbr\\u003ePoints: 15\"],\"visible\":\"legendonly\",\"x\":[1,2,3,4,5,6,7,8],\"y\":[1,2,3,6,6,9,12,15],\"type\":\"scatter\"},{\"hoverinfo\":\"text\",\"line\":{\"color\":\"#cd2534\"},\"marker\":{\"color\":\"#cd2534\"},\"mode\":\"lines+markers\",\"name\":\"Girona\",\"text\":[\"Girona\\u003cbr\\u003eMatchday 1\\u003cbr\\u003eDate: 2023-10-24\\u003cbr\\u003ePoints: 1\",\"Girona\\u003cbr\\u003eMatchday 2\\u003cbr\\u003eDate: 2023-10-24\\u003cbr\\u003ePoints: 4\",\"Girona\\u003cbr\\u003eMatchday 3\\u003cbr\\u003eDate: 2023-10-24\\u003cbr\\u003ePoints: 7\",\"Girona\\u003cbr\\u003eMatchday 4\\u003cbr\\u003eDate: 2023-10-24\\u003cbr\\u003ePoints: 10\",\"Girona\\u003cbr\\u003eMatchday 5\\u003cbr\\u003eDate: 2023-10-24\\u003cbr\\u003ePoints: 13\",\"Girona\\u003cbr\\u003eMatchday 6\\u003cbr\\u003eDate: 2023-10-24\\u003cbr\\u003ePoints: 16\",\"Girona\\u003cbr\\u003eMatchday 7\\u003cbr\\u003eDate: 2023-10-24\\u003cbr\\u003ePoints: 19\",\"Girona\\u003cbr\\u003eMatchday 8\\u003cbr\\u003eDate: 2023-10-24\\u003cbr\\u003ePoints: 19\"],\"visible\":\"legendonly\",\"x\":[1,2,3,4,5,6,7,8],\"y\":[1,4,7,10,13,16,19,19],\"type\":\"scatter\"},{\"hoverinfo\":\"text\",\"line\":{\"color\":\"#004b9d\"},\"marker\":{\"color\":\"#004b9d\"},\"mode\":\"lines+markers\",\"name\":\"Las Palmas\",\"text\":[\"Las Palmas\\u003cbr\\u003eMatchday 1\\u003cbr\\u003eDate: 2023-10-24\\u003cbr\\u003ePoints: 1\",\"Las Palmas\\u003cbr\\u003eMatchday 2\\u003cbr\\u003eDate: 2023-10-24\\u003cbr\\u003ePoints: 1\",\"Las Palmas\\u003cbr\\u003eMatchday 3\\u003cbr\\u003eDate: 2023-10-24\\u003cbr\\u003ePoints: 2\",\"Las Palmas\\u003cbr\\u003eMatchday 4\\u003cbr\\u003eDate: 2023-10-24\\u003cbr\\u003ePoints: 2\",\"Las Palmas\\u003cbr\\u003eMatchday 5\\u003cbr\\u003eDate: 2023-10-24\\u003cbr\\u003ePoints: 2\",\"Las Palmas\\u003cbr\\u003eMatchday 6\\u003cbr\\u003eDate: 2023-10-24\\u003cbr\\u003ePoints: 5\",\"Las Palmas\\u003cbr\\u003eMatchday 7\\u003cbr\\u003eDate: 2023-10-24\\u003cbr\\u003ePoints: 5\",\"Las Palmas\\u003cbr\\u003eMatchday 8\\u003cbr\\u003eDate: 2023-10-24\\u003cbr\\u003ePoints: 8\"],\"visible\":\"legendonly\",\"x\":[1,2,3,4,5,6,7,8],\"y\":[1,1,2,2,2,5,5,8],\"type\":\"scatter\"},{\"hoverinfo\":\"text\",\"line\":{\"color\":\"#ed1b24\"},\"marker\":{\"color\":\"#ed1b24\"},\"mode\":\"lines+markers\",\"name\":\"Mallorca\",\"text\":[\"Mallorca\\u003cbr\\u003eMatchday 1\\u003cbr\\u003eDate: 2023-10-24\\u003cbr\\u003ePoints: 1\",\"Mallorca\\u003cbr\\u003eMatchday 2\\u003cbr\\u003eDate: 2023-10-24\\u003cbr\\u003ePoints: 1\",\"Mallorca\\u003cbr\\u003eMatchday 3\\u003cbr\\u003eDate: 2023-10-24\\u003cbr\\u003ePoints: 1\",\"Mallorca\\u003cbr\\u003eMatchday 4\\u003cbr\\u003eDate: 2023-10-24\\u003cbr\\u003ePoints: 2\",\"Mallorca\\u003cbr\\u003eMatchday 5\\u003cbr\\u003eDate: 2023-10-24\\u003cbr\\u003ePoints: 5\",\"Mallorca\\u003cbr\\u003eMatchday 6\\u003cbr\\u003eDate: 2023-10-24\\u003cbr\\u003ePoints: 5\",\"Mallorca\\u003cbr\\u003eMatchday 7\\u003cbr\\u003eDate: 2023-10-24\\u003cbr\\u003ePoints: 6\",\"Mallorca\\u003cbr\\u003eMatchday 8\\u003cbr\\u003eDate: 2023-10-24\\u003cbr\\u003ePoints: 7\"],\"visible\":\"legendonly\",\"x\":[1,2,3,4,5,6,7,8],\"y\":[1,1,1,2,5,5,6,7],\"type\":\"scatter\"},{\"hoverinfo\":\"text\",\"line\":{\"color\":\"#004fa3\"},\"marker\":{\"color\":\"#004fa3\"},\"mode\":\"lines+markers\",\"name\":\"Getafe\",\"text\":[\"Getafe\\u003cbr\\u003eMatchday 1\\u003cbr\\u003eDate: 2023-10-24\\u003cbr\\u003ePoints: 1\",\"Getafe\\u003cbr\\u003eMatchday 2\\u003cbr\\u003eDate: 2023-10-24\\u003cbr\\u003ePoints: 1\",\"Getafe\\u003cbr\\u003eMatchday 3\\u003cbr\\u003eDate: 2023-10-24\\u003cbr\\u003ePoints: 4\",\"Getafe\\u003cbr\\u003eMatchday 4\\u003cbr\\u003eDate: 2023-10-24\\u003cbr\\u003ePoints: 4\",\"Getafe\\u003cbr\\u003eMatchday 5\\u003cbr\\u003eDate: 2023-10-24\\u003cbr\\u003ePoints: 7\",\"Getafe\\u003cbr\\u003eMatchday 6\\u003cbr\\u003eDate: 2023-10-24\\u003cbr\\u003ePoints: 7\",\"Getafe\\u003cbr\\u003eMatchday 7\\u003cbr\\u003eDate: 2023-10-24\\u003cbr\\u003ePoints: 8\",\"Getafe\\u003cbr\\u003eMatchday 8\\u003cbr\\u003eDate: 2023-10-24\\u003cbr\\u003ePoints: 9\"],\"visible\":\"legendonly\",\"x\":[1,2,3,4,5,6,7,8],\"y\":[1,1,4,4,7,7,8,9],\"type\":\"scatter\"},{\"hoverinfo\":\"text\",\"line\":{\"color\":\"#a50044\"},\"marker\":{\"color\":\"#a50044\"},\"mode\":\"lines+markers\",\"name\":\"Bar\\u00e7a\",\"text\":[\"Bar\\u00e7a\\u003cbr\\u003eMatchday 1\\u003cbr\\u003eDate: 2023-10-24\\u003cbr\\u003ePoints: 1\",\"Bar\\u00e7a\\u003cbr\\u003eMatchday 2\\u003cbr\\u003eDate: 2023-10-24\\u003cbr\\u003ePoints: 4\",\"Bar\\u00e7a\\u003cbr\\u003eMatchday 3\\u003cbr\\u003eDate: 2023-10-24\\u003cbr\\u003ePoints: 7\",\"Bar\\u00e7a\\u003cbr\\u003eMatchday 4\\u003cbr\\u003eDate: 2023-10-24\\u003cbr\\u003ePoints: 10\",\"Bar\\u00e7a\\u003cbr\\u003eMatchday 5\\u003cbr\\u003eDate: 2023-10-24\\u003cbr\\u003ePoints: 13\",\"Bar\\u00e7a\\u003cbr\\u003eMatchday 6\\u003cbr\\u003eDate: 2023-10-24\\u003cbr\\u003ePoints: 16\",\"Bar\\u00e7a\\u003cbr\\u003eMatchday 7\\u003cbr\\u003eDate: 2023-10-24\\u003cbr\\u003ePoints: 17\",\"Bar\\u00e7a\\u003cbr\\u003eMatchday 8\\u003cbr\\u003eDate: 2023-10-24\\u003cbr\\u003ePoints: 20\"],\"visible\":\"legendonly\",\"x\":[1,2,3,4,5,6,7,8],\"y\":[1,4,7,10,13,16,17,20],\"type\":\"scatter\"},{\"hoverinfo\":\"text\",\"line\":{\"color\":\"#d70f21\"},\"marker\":{\"color\":\"#d70f21\"},\"mode\":\"lines+markers\",\"name\":\"Sevilla FC\",\"text\":[\"Sevilla FC\\u003cbr\\u003eMatchday 1\\u003cbr\\u003eDate: 2023-10-24\\u003cbr\\u003ePoints: 0\",\"Sevilla FC\\u003cbr\\u003eMatchday 2\\u003cbr\\u003eDate: 2023-10-24\\u003cbr\\u003ePoints: 0\",\"Sevilla FC\\u003cbr\\u003eMatchday 3\\u003cbr\\u003eDate: 2023-10-24\\u003cbr\\u003ePoints: 0\",\"Sevilla FC\\u003cbr\\u003eMatchday 4\\u003cbr\\u003eDate: 2023-10-24\\u003cbr\\u003ePoints: 0\",\"Sevilla FC\\u003cbr\\u003eMatchday 5\\u003cbr\\u003eDate: 2023-10-24\\u003cbr\\u003ePoints: 3\",\"Sevilla FC\\u003cbr\\u003eMatchday 6\\u003cbr\\u003eDate: 2023-10-24\\u003cbr\\u003ePoints: 4\",\"Sevilla FC\\u003cbr\\u003eMatchday 7\\u003cbr\\u003eDate: 2023-10-24\\u003cbr\\u003ePoints: 7\",\"Sevilla FC\\u003cbr\\u003eMatchday 8\\u003cbr\\u003eDate: 2023-10-24\\u003cbr\\u003ePoints: 7\"],\"visible\":\"legendonly\",\"x\":[1,2,3,4,5,6,7,8],\"y\":[0,0,0,0,3,4,7,7],\"type\":\"scatter\"},{\"hoverinfo\":\"text\",\"line\":{\"color\":\"#000\"},\"marker\":{\"color\":\"#000\"},\"mode\":\"lines+markers\",\"name\":\"Villarreal\",\"text\":[\"Villarreal\\u003cbr\\u003eMatchday 1\\u003cbr\\u003eDate: 2023-10-24\\u003cbr\\u003ePoints: 0\",\"Villarreal\\u003cbr\\u003eMatchday 2\\u003cbr\\u003eDate: 2023-10-24\\u003cbr\\u003ePoints: 3\",\"Villarreal\\u003cbr\\u003eMatchday 3\\u003cbr\\u003eDate: 2023-10-24\\u003cbr\\u003ePoints: 3\",\"Villarreal\\u003cbr\\u003eMatchday 4\\u003cbr\\u003eDate: 2023-10-24\\u003cbr\\u003ePoints: 3\",\"Villarreal\\u003cbr\\u003eMatchday 5\\u003cbr\\u003eDate: 2023-10-24\\u003cbr\\u003ePoints: 6\",\"Villarreal\\u003cbr\\u003eMatchday 6\\u003cbr\\u003eDate: 2023-10-24\\u003cbr\\u003ePoints: 7\",\"Villarreal\\u003cbr\\u003eMatchday 7\\u003cbr\\u003eDate: 2023-10-24\\u003cbr\\u003ePoints: 7\",\"Villarreal\\u003cbr\\u003eMatchday 8\\u003cbr\\u003eDate: 2023-10-24\\u003cbr\\u003ePoints: 8\"],\"visible\":\"legendonly\",\"x\":[1,2,3,4,5,6,7,8],\"y\":[0,3,3,3,6,7,7,8],\"type\":\"scatter\"},{\"hoverinfo\":\"text\",\"line\":{\"color\":\"#004fa3\"},\"marker\":{\"color\":\"#004fa3\"},\"mode\":\"lines+markers\",\"name\":\"Alav\\u00e9s\",\"text\":[\"Alav\\u00e9s\\u003cbr\\u003eMatchday 1\\u003cbr\\u003eDate: 2023-10-24\\u003cbr\\u003ePoints: 0\",\"Alav\\u00e9s\\u003cbr\\u003eMatchday 2\\u003cbr\\u003eDate: 2023-10-24\\u003cbr\\u003ePoints: 3\",\"Alav\\u00e9s\\u003cbr\\u003eMatchday 3\\u003cbr\\u003eDate: 2023-10-24\\u003cbr\\u003ePoints: 3\",\"Alav\\u00e9s\\u003cbr\\u003eMatchday 4\\u003cbr\\u003eDate: 2023-10-24\\u003cbr\\u003ePoints: 6\",\"Alav\\u00e9s\\u003cbr\\u003eMatchday 5\\u003cbr\\u003eDate: 2023-10-24\\u003cbr\\u003ePoints: 6\",\"Alav\\u00e9s\\u003cbr\\u003eMatchday 6\\u003cbr\\u003eDate: 2023-10-24\\u003cbr\\u003ePoints: 6\",\"Alav\\u00e9s\\u003cbr\\u003eMatchday 7\\u003cbr\\u003eDate: 2023-10-24\\u003cbr\\u003ePoints: 7\",\"Alav\\u00e9s\\u003cbr\\u003eMatchday 8\\u003cbr\\u003eDate: 2023-10-24\\u003cbr\\u003ePoints: 7\"],\"visible\":\"legendonly\",\"x\":[1,2,3,4,5,6,7,8],\"y\":[0,3,3,6,6,6,7,7],\"type\":\"scatter\"},{\"hoverinfo\":\"text\",\"line\":{\"color\":\"#e60d2e\"},\"marker\":{\"color\":\"#e60d2e\"},\"mode\":\"lines+markers\",\"name\":\"Granada\",\"text\":[\"Granada\\u003cbr\\u003eMatchday 1\\u003cbr\\u003eDate: 2023-10-24\\u003cbr\\u003ePoints: 0\",\"Granada\\u003cbr\\u003eMatchday 2\\u003cbr\\u003eDate: 2023-10-24\\u003cbr\\u003ePoints: 0\",\"Granada\\u003cbr\\u003eMatchday 3\\u003cbr\\u003eDate: 2023-10-24\\u003cbr\\u003ePoints: 3\",\"Granada\\u003cbr\\u003eMatchday 4\\u003cbr\\u003eDate: 2023-10-24\\u003cbr\\u003ePoints: 3\",\"Granada\\u003cbr\\u003eMatchday 5\\u003cbr\\u003eDate: 2023-10-24\\u003cbr\\u003ePoints: 3\",\"Granada\\u003cbr\\u003eMatchday 6\\u003cbr\\u003eDate: 2023-10-24\\u003cbr\\u003ePoints: 3\",\"Granada\\u003cbr\\u003eMatchday 7\\u003cbr\\u003eDate: 2023-10-24\\u003cbr\\u003ePoints: 4\",\"Granada\\u003cbr\\u003eMatchday 8\\u003cbr\\u003eDate: 2023-10-24\\u003cbr\\u003ePoints: 5\"],\"visible\":\"legendonly\",\"x\":[1,2,3,4,5,6,7,8],\"y\":[0,0,3,3,3,3,4,5],\"type\":\"scatter\"},{\"hoverinfo\":\"text\",\"line\":{\"color\":\"#ee1119\"},\"marker\":{\"color\":\"#ee1119\"},\"mode\":\"lines+markers\",\"name\":\"Almer\\u00eda\",\"text\":[\"Almer\\u00eda\\u003cbr\\u003eMatchday 1\\u003cbr\\u003eDate: 2023-10-24\\u003cbr\\u003ePoints: 0\",\"Almer\\u00eda\\u003cbr\\u003eMatchday 2\\u003cbr\\u003eDate: 2023-10-24\\u003cbr\\u003ePoints: 0\",\"Almer\\u00eda\\u003cbr\\u003eMatchday 3\\u003cbr\\u003eDate: 2023-10-24\\u003cbr\\u003ePoints: 1\",\"Almer\\u00eda\\u003cbr\\u003eMatchday 4\\u003cbr\\u003eDate: 2023-10-24\\u003cbr\\u003ePoints: 1\",\"Almer\\u00eda\\u003cbr\\u003eMatchday 5\\u003cbr\\u003eDate: 2023-10-24\\u003cbr\\u003ePoints: 1\",\"Almer\\u00eda\\u003cbr\\u003eMatchday 6\\u003cbr\\u003eDate: 2023-10-24\\u003cbr\\u003ePoints: 2\",\"Almer\\u00eda\\u003cbr\\u003eMatchday 7\\u003cbr\\u003eDate: 2023-10-24\\u003cbr\\u003ePoints: 2\",\"Almer\\u00eda\\u003cbr\\u003eMatchday 8\\u003cbr\\u003eDate: 2023-10-24\\u003cbr\\u003ePoints: 3\"],\"visible\":\"legendonly\",\"x\":[1,2,3,4,5,6,7,8],\"y\":[0,0,1,1,1,2,2,3],\"type\":\"scatter\"},{\"hoverinfo\":\"text\",\"line\":{\"color\":\"#ee2523\"},\"marker\":{\"color\":\"#ee2523\"},\"mode\":\"lines+markers\",\"name\":\"Athletic\",\"text\":[\"Athletic\\u003cbr\\u003eMatchday 1\\u003cbr\\u003eDate: 2023-10-24\\u003cbr\\u003ePoints: 0\",\"Athletic\\u003cbr\\u003eMatchday 2\\u003cbr\\u003eDate: 2023-10-24\\u003cbr\\u003ePoints: 3\",\"Athletic\\u003cbr\\u003eMatchday 3\\u003cbr\\u003eDate: 2023-10-24\\u003cbr\\u003ePoints: 6\",\"Athletic\\u003cbr\\u003eMatchday 4\\u003cbr\\u003eDate: 2023-10-24\\u003cbr\\u003ePoints: 7\",\"Athletic\\u003cbr\\u003eMatchday 5\\u003cbr\\u003eDate: 2023-10-24\\u003cbr\\u003ePoints: 10\",\"Athletic\\u003cbr\\u003eMatchday 6\\u003cbr\\u003eDate: 2023-10-24\\u003cbr\\u003ePoints: 13\",\"Athletic\\u003cbr\\u003eMatchday 7\\u003cbr\\u003eDate: 2023-10-24\\u003cbr\\u003ePoints: 14\",\"Athletic\\u003cbr\\u003eMatchday 8\\u003cbr\\u003eDate: 2023-10-24\\u003cbr\\u003ePoints: 14\"],\"visible\":\"legendonly\",\"x\":[1,2,3,4,5,6,7,8],\"y\":[0,3,6,7,10,13,14,14],\"type\":\"scatter\"},{\"hoverinfo\":\"text\",\"line\":{\"color\":\"#e5254e\"},\"marker\":{\"color\":\"#e5254e\"},\"mode\":\"lines+markers\",\"name\":\"Celta\",\"text\":[\"Celta\\u003cbr\\u003eMatchday 1\\u003cbr\\u003eDate: 2023-10-24\\u003cbr\\u003ePoints: 0\",\"Celta\\u003cbr\\u003eMatchday 2\\u003cbr\\u003eDate: 2023-10-24\\u003cbr\\u003ePoints: 1\",\"Celta\\u003cbr\\u003eMatchday 3\\u003cbr\\u003eDate: 2023-10-24\\u003cbr\\u003ePoints: 1\",\"Celta\\u003cbr\\u003eMatchday 4\\u003cbr\\u003eDate: 2023-10-24\\u003cbr\\u003ePoints: 4\",\"Celta\\u003cbr\\u003eMatchday 5\\u003cbr\\u003eDate: 2023-10-24\\u003cbr\\u003ePoints: 4\",\"Celta\\u003cbr\\u003eMatchday 6\\u003cbr\\u003eDate: 2023-10-24\\u003cbr\\u003ePoints: 4\",\"Celta\\u003cbr\\u003eMatchday 7\\u003cbr\\u003eDate: 2023-10-24\\u003cbr\\u003ePoints: 5\",\"Celta\\u003cbr\\u003eMatchday 8\\u003cbr\\u003eDate: 2023-10-24\\u003cbr\\u003ePoints: 5\"],\"visible\":\"legendonly\",\"x\":[1,2,3,4,5,6,7,8],\"y\":[0,1,1,4,4,4,5,5],\"type\":\"scatter\"}],                        {\"template\":{\"data\":{\"histogram2dcontour\":[{\"type\":\"histogram2dcontour\",\"colorbar\":{\"outlinewidth\":0,\"ticks\":\"\"},\"colorscale\":[[0.0,\"#0d0887\"],[0.1111111111111111,\"#46039f\"],[0.2222222222222222,\"#7201a8\"],[0.3333333333333333,\"#9c179e\"],[0.4444444444444444,\"#bd3786\"],[0.5555555555555556,\"#d8576b\"],[0.6666666666666666,\"#ed7953\"],[0.7777777777777778,\"#fb9f3a\"],[0.8888888888888888,\"#fdca26\"],[1.0,\"#f0f921\"]]}],\"choropleth\":[{\"type\":\"choropleth\",\"colorbar\":{\"outlinewidth\":0,\"ticks\":\"\"}}],\"histogram2d\":[{\"type\":\"histogram2d\",\"colorbar\":{\"outlinewidth\":0,\"ticks\":\"\"},\"colorscale\":[[0.0,\"#0d0887\"],[0.1111111111111111,\"#46039f\"],[0.2222222222222222,\"#7201a8\"],[0.3333333333333333,\"#9c179e\"],[0.4444444444444444,\"#bd3786\"],[0.5555555555555556,\"#d8576b\"],[0.6666666666666666,\"#ed7953\"],[0.7777777777777778,\"#fb9f3a\"],[0.8888888888888888,\"#fdca26\"],[1.0,\"#f0f921\"]]}],\"heatmap\":[{\"type\":\"heatmap\",\"colorbar\":{\"outlinewidth\":0,\"ticks\":\"\"},\"colorscale\":[[0.0,\"#0d0887\"],[0.1111111111111111,\"#46039f\"],[0.2222222222222222,\"#7201a8\"],[0.3333333333333333,\"#9c179e\"],[0.4444444444444444,\"#bd3786\"],[0.5555555555555556,\"#d8576b\"],[0.6666666666666666,\"#ed7953\"],[0.7777777777777778,\"#fb9f3a\"],[0.8888888888888888,\"#fdca26\"],[1.0,\"#f0f921\"]]}],\"heatmapgl\":[{\"type\":\"heatmapgl\",\"colorbar\":{\"outlinewidth\":0,\"ticks\":\"\"},\"colorscale\":[[0.0,\"#0d0887\"],[0.1111111111111111,\"#46039f\"],[0.2222222222222222,\"#7201a8\"],[0.3333333333333333,\"#9c179e\"],[0.4444444444444444,\"#bd3786\"],[0.5555555555555556,\"#d8576b\"],[0.6666666666666666,\"#ed7953\"],[0.7777777777777778,\"#fb9f3a\"],[0.8888888888888888,\"#fdca26\"],[1.0,\"#f0f921\"]]}],\"contourcarpet\":[{\"type\":\"contourcarpet\",\"colorbar\":{\"outlinewidth\":0,\"ticks\":\"\"}}],\"contour\":[{\"type\":\"contour\",\"colorbar\":{\"outlinewidth\":0,\"ticks\":\"\"},\"colorscale\":[[0.0,\"#0d0887\"],[0.1111111111111111,\"#46039f\"],[0.2222222222222222,\"#7201a8\"],[0.3333333333333333,\"#9c179e\"],[0.4444444444444444,\"#bd3786\"],[0.5555555555555556,\"#d8576b\"],[0.6666666666666666,\"#ed7953\"],[0.7777777777777778,\"#fb9f3a\"],[0.8888888888888888,\"#fdca26\"],[1.0,\"#f0f921\"]]}],\"surface\":[{\"type\":\"surface\",\"colorbar\":{\"outlinewidth\":0,\"ticks\":\"\"},\"colorscale\":[[0.0,\"#0d0887\"],[0.1111111111111111,\"#46039f\"],[0.2222222222222222,\"#7201a8\"],[0.3333333333333333,\"#9c179e\"],[0.4444444444444444,\"#bd3786\"],[0.5555555555555556,\"#d8576b\"],[0.6666666666666666,\"#ed7953\"],[0.7777777777777778,\"#fb9f3a\"],[0.8888888888888888,\"#fdca26\"],[1.0,\"#f0f921\"]]}],\"mesh3d\":[{\"type\":\"mesh3d\",\"colorbar\":{\"outlinewidth\":0,\"ticks\":\"\"}}],\"scatter\":[{\"fillpattern\":{\"fillmode\":\"overlay\",\"size\":10,\"solidity\":0.2},\"type\":\"scatter\"}],\"parcoords\":[{\"type\":\"parcoords\",\"line\":{\"colorbar\":{\"outlinewidth\":0,\"ticks\":\"\"}}}],\"scatterpolargl\":[{\"type\":\"scatterpolargl\",\"marker\":{\"colorbar\":{\"outlinewidth\":0,\"ticks\":\"\"}}}],\"bar\":[{\"error_x\":{\"color\":\"#2a3f5f\"},\"error_y\":{\"color\":\"#2a3f5f\"},\"marker\":{\"line\":{\"color\":\"#E5ECF6\",\"width\":0.5},\"pattern\":{\"fillmode\":\"overlay\",\"size\":10,\"solidity\":0.2}},\"type\":\"bar\"}],\"scattergeo\":[{\"type\":\"scattergeo\",\"marker\":{\"colorbar\":{\"outlinewidth\":0,\"ticks\":\"\"}}}],\"scatterpolar\":[{\"type\":\"scatterpolar\",\"marker\":{\"colorbar\":{\"outlinewidth\":0,\"ticks\":\"\"}}}],\"histogram\":[{\"marker\":{\"pattern\":{\"fillmode\":\"overlay\",\"size\":10,\"solidity\":0.2}},\"type\":\"histogram\"}],\"scattergl\":[{\"type\":\"scattergl\",\"marker\":{\"colorbar\":{\"outlinewidth\":0,\"ticks\":\"\"}}}],\"scatter3d\":[{\"type\":\"scatter3d\",\"line\":{\"colorbar\":{\"outlinewidth\":0,\"ticks\":\"\"}},\"marker\":{\"colorbar\":{\"outlinewidth\":0,\"ticks\":\"\"}}}],\"scattermapbox\":[{\"type\":\"scattermapbox\",\"marker\":{\"colorbar\":{\"outlinewidth\":0,\"ticks\":\"\"}}}],\"scatterternary\":[{\"type\":\"scatterternary\",\"marker\":{\"colorbar\":{\"outlinewidth\":0,\"ticks\":\"\"}}}],\"scattercarpet\":[{\"type\":\"scattercarpet\",\"marker\":{\"colorbar\":{\"outlinewidth\":0,\"ticks\":\"\"}}}],\"carpet\":[{\"aaxis\":{\"endlinecolor\":\"#2a3f5f\",\"gridcolor\":\"white\",\"linecolor\":\"white\",\"minorgridcolor\":\"white\",\"startlinecolor\":\"#2a3f5f\"},\"baxis\":{\"endlinecolor\":\"#2a3f5f\",\"gridcolor\":\"white\",\"linecolor\":\"white\",\"minorgridcolor\":\"white\",\"startlinecolor\":\"#2a3f5f\"},\"type\":\"carpet\"}],\"table\":[{\"cells\":{\"fill\":{\"color\":\"#EBF0F8\"},\"line\":{\"color\":\"white\"}},\"header\":{\"fill\":{\"color\":\"#C8D4E3\"},\"line\":{\"color\":\"white\"}},\"type\":\"table\"}],\"barpolar\":[{\"marker\":{\"line\":{\"color\":\"#E5ECF6\",\"width\":0.5},\"pattern\":{\"fillmode\":\"overlay\",\"size\":10,\"solidity\":0.2}},\"type\":\"barpolar\"}],\"pie\":[{\"automargin\":true,\"type\":\"pie\"}]},\"layout\":{\"autotypenumbers\":\"strict\",\"colorway\":[\"#636efa\",\"#EF553B\",\"#00cc96\",\"#ab63fa\",\"#FFA15A\",\"#19d3f3\",\"#FF6692\",\"#B6E880\",\"#FF97FF\",\"#FECB52\"],\"font\":{\"color\":\"#2a3f5f\"},\"hovermode\":\"closest\",\"hoverlabel\":{\"align\":\"left\"},\"paper_bgcolor\":\"white\",\"plot_bgcolor\":\"#E5ECF6\",\"polar\":{\"bgcolor\":\"#E5ECF6\",\"angularaxis\":{\"gridcolor\":\"white\",\"linecolor\":\"white\",\"ticks\":\"\"},\"radialaxis\":{\"gridcolor\":\"white\",\"linecolor\":\"white\",\"ticks\":\"\"}},\"ternary\":{\"bgcolor\":\"#E5ECF6\",\"aaxis\":{\"gridcolor\":\"white\",\"linecolor\":\"white\",\"ticks\":\"\"},\"baxis\":{\"gridcolor\":\"white\",\"linecolor\":\"white\",\"ticks\":\"\"},\"caxis\":{\"gridcolor\":\"white\",\"linecolor\":\"white\",\"ticks\":\"\"}},\"coloraxis\":{\"colorbar\":{\"outlinewidth\":0,\"ticks\":\"\"}},\"colorscale\":{\"sequential\":[[0.0,\"#0d0887\"],[0.1111111111111111,\"#46039f\"],[0.2222222222222222,\"#7201a8\"],[0.3333333333333333,\"#9c179e\"],[0.4444444444444444,\"#bd3786\"],[0.5555555555555556,\"#d8576b\"],[0.6666666666666666,\"#ed7953\"],[0.7777777777777778,\"#fb9f3a\"],[0.8888888888888888,\"#fdca26\"],[1.0,\"#f0f921\"]],\"sequentialminus\":[[0.0,\"#0d0887\"],[0.1111111111111111,\"#46039f\"],[0.2222222222222222,\"#7201a8\"],[0.3333333333333333,\"#9c179e\"],[0.4444444444444444,\"#bd3786\"],[0.5555555555555556,\"#d8576b\"],[0.6666666666666666,\"#ed7953\"],[0.7777777777777778,\"#fb9f3a\"],[0.8888888888888888,\"#fdca26\"],[1.0,\"#f0f921\"]],\"diverging\":[[0,\"#8e0152\"],[0.1,\"#c51b7d\"],[0.2,\"#de77ae\"],[0.3,\"#f1b6da\"],[0.4,\"#fde0ef\"],[0.5,\"#f7f7f7\"],[0.6,\"#e6f5d0\"],[0.7,\"#b8e186\"],[0.8,\"#7fbc41\"],[0.9,\"#4d9221\"],[1,\"#276419\"]]},\"xaxis\":{\"gridcolor\":\"white\",\"linecolor\":\"white\",\"ticks\":\"\",\"title\":{\"standoff\":15},\"zerolinecolor\":\"white\",\"automargin\":true,\"zerolinewidth\":2},\"yaxis\":{\"gridcolor\":\"white\",\"linecolor\":\"white\",\"ticks\":\"\",\"title\":{\"standoff\":15},\"zerolinecolor\":\"white\",\"automargin\":true,\"zerolinewidth\":2},\"scene\":{\"xaxis\":{\"backgroundcolor\":\"#E5ECF6\",\"gridcolor\":\"white\",\"linecolor\":\"white\",\"showbackground\":true,\"ticks\":\"\",\"zerolinecolor\":\"white\",\"gridwidth\":2},\"yaxis\":{\"backgroundcolor\":\"#E5ECF6\",\"gridcolor\":\"white\",\"linecolor\":\"white\",\"showbackground\":true,\"ticks\":\"\",\"zerolinecolor\":\"white\",\"gridwidth\":2},\"zaxis\":{\"backgroundcolor\":\"#E5ECF6\",\"gridcolor\":\"white\",\"linecolor\":\"white\",\"showbackground\":true,\"ticks\":\"\",\"zerolinecolor\":\"white\",\"gridwidth\":2}},\"shapedefaults\":{\"line\":{\"color\":\"#2a3f5f\"}},\"annotationdefaults\":{\"arrowcolor\":\"#2a3f5f\",\"arrowhead\":0,\"arrowwidth\":1},\"geo\":{\"bgcolor\":\"white\",\"landcolor\":\"#E5ECF6\",\"subunitcolor\":\"white\",\"showland\":true,\"showlakes\":true,\"lakecolor\":\"white\"},\"title\":{\"x\":0.05},\"mapbox\":{\"style\":\"light\"}}},\"xaxis\":{\"anchor\":\"y\",\"domain\":[0.0,1.0],\"tickmode\":\"array\",\"tickvals\":[1,2,3,4,5,6,7,8],\"title\":{\"text\":\"Matchday\"}},\"yaxis\":{\"anchor\":\"x\",\"domain\":[0.0,1.0],\"title\":{\"text\":\"Total Points\"}},\"title\":{\"text\":\"Team Points Over Matchdays (2023)\",\"y\":0.9,\"x\":0.5,\"xanchor\":\"center\",\"yanchor\":\"top\"},\"legend\":{\"x\":1.05,\"y\":1,\"title\":{\"text\":\"Clubs\"}},\"hovermode\":\"closest\",\"width\":1000,\"height\":600},                        {\"responsive\": true}                    ).then(function(){\n",
       "                            \n",
       "var gd = document.getElementById('b62fdadd-0b95-44a0-a939-cf78c53be533');\n",
       "var x = new MutationObserver(function (mutations, observer) {{\n",
       "        var display = window.getComputedStyle(gd).display;\n",
       "        if (!display || display === 'none') {{\n",
       "            console.log([gd, 'removed!']);\n",
       "            Plotly.purge(gd);\n",
       "            observer.disconnect();\n",
       "        }}\n",
       "}});\n",
       "\n",
       "// Listen for the removal of the full notebook cells\n",
       "var notebookContainer = gd.closest('#notebook-container');\n",
       "if (notebookContainer) {{\n",
       "    x.observe(notebookContainer, {childList: true});\n",
       "}}\n",
       "\n",
       "// Listen for the clearing of the current output cell\n",
       "var outputEl = gd.closest('.output');\n",
       "if (outputEl) {{\n",
       "    x.observe(outputEl, {childList: true});\n",
       "}}\n",
       "\n",
       "                        })                };                });            </script>        </div>"
      ]
     },
     "metadata": {},
     "output_type": "display_data"
    }
   ],
   "source": [
    "import plotly.graph_objs as go\n",
    "from plotly.subplots import make_subplots\n",
    "\n",
    "# Assume teams_points and team_colors are already defined\n",
    "# team_colors should be a dictionary mapping team names to their color strings\n",
    "\n",
    "# Create subplots\n",
    "fig = make_subplots(rows=1, cols=1)\n",
    "\n",
    "# Plotting each team's points across matchdays\n",
    "for team, points in teams_points.items():\n",
    "    val = 0\n",
    "    # Ensure matchdays is defined, e.g., matchdays = range(1, len(points) + 1)\n",
    "    hover_text = [f\"{team}<br>Matchday {matchday}<br>Date: {matchday_list[-3]}<br>Points: {point}\" for matchday, point in enumerate(points, start=1)]\n",
    "    fig.add_trace(\n",
    "        go.Scatter(\n",
    "            x=list(range(1, len(points) + 1)),  # Assuming matchdays are a sequential list starting at 1\n",
    "            y=points,\n",
    "            mode='lines+markers',\n",
    "            name=team,\n",
    "            text=hover_text,  # This is where you set the hover text\n",
    "            hoverinfo='text',\n",
    "            line=dict(color=team_colors.get(team, '#000')),  # Use the team's color\n",
    "            marker=dict(color=team_colors.get(team, '#000')),  # Set marker color\n",
    "            visible='legendonly'  # Start with the trace not shown\n",
    "        )\n",
    "    \n",
    "    )\n",
    "    val += 1\n",
    "\n",
    "# Update y-axis\n",
    "fig.update_yaxes(title='Total Points')\n",
    "\n",
    "# Update x-axis\n",
    "# Assuming the number of matchdays is known, otherwise adjust accordingly\n",
    "fig.update_xaxes(tickmode='array', tickvals=list(range(1, len(points) + 1)), title='Matchday')\n",
    "\n",
    "# Update layout\n",
    "fig.update_layout(\n",
    "    title={\n",
    "        'text': \"Team Points Over Matchdays (2023)\",\n",
    "        'y':0.9,\n",
    "        'x':0.5,  # Set to 0.5 to center the title\n",
    "        'xanchor': 'center',\n",
    "        'yanchor': 'top'\n",
    "    },\n",
    "    legend=dict(x=1.05, y=1, title='Clubs'),\n",
    "    hovermode=\"closest\"\n",
    ")\n",
    "\n",
    "# Update the size of the figure (optional)\n",
    "fig.update_layout(width=1000, height=600)\n",
    "\n",
    "# Show figure\n",
    "fig.show()\n"
   ]
  },
  {
   "cell_type": "code",
   "execution_count": 8,
   "id": "b759f8bd",
   "metadata": {},
   "outputs": [
    {
     "data": {
      "text/plain": [
       "{'Atleti': [3, 4],\n",
       " 'Rayo Vallecano': [3, 6],\n",
       " 'Real Madrid': [3, 6],\n",
       " 'Osasuna': [3, 3],\n",
       " 'Valencia': [3, 6],\n",
       " 'Real Betis': [3, 4],\n",
       " 'Cádiz CF': [3, 3],\n",
       " 'Real Sociedad': [1, 2],\n",
       " 'Girona': [1, 4],\n",
       " 'Las Palmas': [1, 1],\n",
       " 'Mallorca': [1, 1],\n",
       " 'Getafe': [1, 1],\n",
       " 'Barça': [1, 4],\n",
       " 'Sevilla FC': [0, 0],\n",
       " 'Villarreal': [0, 3],\n",
       " 'Alavés': [0, 3],\n",
       " 'Granada': [0, 0],\n",
       " 'Almería': [0, 0],\n",
       " 'Athletic': [0, 3],\n",
       " 'Celta': [0, 1]}"
      ]
     },
     "execution_count": 8,
     "metadata": {},
     "output_type": "execute_result"
    }
   ],
   "source": [
    "teams_points"
   ]
  },
  {
   "cell_type": "code",
   "execution_count": 9,
   "id": "9910450f",
   "metadata": {},
   "outputs": [
    {
     "data": {
      "text/plain": [
       "{'Atleti': [1, 5, 2, 4, 7, 5, 5, 4],\n",
       " 'Rayo Vallecano': [2, 2, 8, 12, 6, 7, 7, 8],\n",
       " 'Real Madrid': [3, 1, 1, 1, 1, 3, 2, 1],\n",
       " 'Osasuna': [4, 10, 7, 9, 12, 11, 14, 10],\n",
       " 'Valencia': [5, 3, 6, 11, 5, 6, 8, 9],\n",
       " 'Real Betis': [6, 7, 9, 7, 10, 10, 10, 7],\n",
       " 'Cádiz CF': [7, 12, 10, 6, 9, 9, 9, 12],\n",
       " 'Real Sociedad': [8, 13, 12, 8, 11, 8, 6, 5],\n",
       " 'Girona': [9, 4, 3, 2, 3, 2, 1, 3],\n",
       " 'Las Palmas': [10, 14, 16, 18, 19, 15, 18, 14],\n",
       " 'Mallorca': [11, 15, 17, 17, 15, 16, 16, 16],\n",
       " 'Getafe': [12, 17, 11, 14, 8, 13, 11, 11],\n",
       " 'Barça': [13, 6, 4, 3, 2, 1, 3, 2],\n",
       " 'Sevilla FC': [14, 18, 20, 20, 17, 17, 12, 15],\n",
       " 'Villarreal': [15, 11, 13, 15, 13, 12, 13, 13],\n",
       " 'Alavés': [16, 8, 14, 10, 14, 14, 15, 17],\n",
       " 'Granada': [17, 20, 15, 16, 18, 19, 19, 19],\n",
       " 'Almería': [18, 19, 19, 19, 20, 20, 20, 20],\n",
       " 'Athletic': [19, 9, 5, 5, 4, 4, 4, 6],\n",
       " 'Celta': [20, 16, 18, 13, 16, 18, 17, 18]}"
      ]
     },
     "execution_count": 9,
     "metadata": {},
     "output_type": "execute_result"
    }
   ],
   "source": [
    "teams_positions"
   ]
  },
  {
   "cell_type": "markdown",
   "id": "67cb0f84",
   "metadata": {},
   "source": [
    "<hr>"
   ]
  }
 ],
 "metadata": {
  "kernelspec": {
   "display_name": "Python 3 (ipykernel)",
   "language": "python",
   "name": "python3"
  },
  "language_info": {
   "codemirror_mode": {
    "name": "ipython",
    "version": 3
   },
   "file_extension": ".py",
   "mimetype": "text/x-python",
   "name": "python",
   "nbconvert_exporter": "python",
   "pygments_lexer": "ipython3",
   "version": "3.9.12"
  }
 },
 "nbformat": 4,
 "nbformat_minor": 5
}
